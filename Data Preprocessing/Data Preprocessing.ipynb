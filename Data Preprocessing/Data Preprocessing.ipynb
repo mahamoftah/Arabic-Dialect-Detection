{
 "cells": [
  {
   "cell_type": "markdown",
   "metadata": {},
   "source": [
    "## **Data Preprocessing**"
   ]
  },
  {
   "cell_type": "code",
   "execution_count": 1,
   "metadata": {},
   "outputs": [],
   "source": [
    "import pandas as pd\n",
    "from sklearn.model_selection import train_test_split\n",
    "from cleantext import clean\n",
    "import re"
   ]
  },
  {
   "cell_type": "markdown",
   "metadata": {},
   "source": [
    "### **Data Reading**"
   ]
  },
  {
   "cell_type": "code",
   "execution_count": 3,
   "metadata": {},
   "outputs": [],
   "source": [
    "df = pd.read_csv(\"dialects_database.csv\")"
   ]
  },
  {
   "cell_type": "code",
   "execution_count": 4,
   "metadata": {},
   "outputs": [
    {
     "data": {
      "text/html": [
       "<div>\n",
       "<style scoped>\n",
       "    .dataframe tbody tr th:only-of-type {\n",
       "        vertical-align: middle;\n",
       "    }\n",
       "\n",
       "    .dataframe tbody tr th {\n",
       "        vertical-align: top;\n",
       "    }\n",
       "\n",
       "    .dataframe thead th {\n",
       "        text-align: right;\n",
       "    }\n",
       "</style>\n",
       "<table border=\"1\" class=\"dataframe\">\n",
       "  <thead>\n",
       "    <tr style=\"text-align: right;\">\n",
       "      <th></th>\n",
       "      <th>id</th>\n",
       "      <th>text</th>\n",
       "      <th>dialect</th>\n",
       "    </tr>\n",
       "  </thead>\n",
       "  <tbody>\n",
       "    <tr>\n",
       "      <th>0</th>\n",
       "      <td>1009754958479151232</td>\n",
       "      <td>@toha_Altomy @gy_yah قليلين ادب ومنافقين. لو ا...</td>\n",
       "      <td>LY</td>\n",
       "    </tr>\n",
       "    <tr>\n",
       "      <th>1</th>\n",
       "      <td>1009794751548313600</td>\n",
       "      <td>@AlmFaisal 😂😂 الليبيين متقلبين!!!\\nبس بالنسبة ...</td>\n",
       "      <td>LY</td>\n",
       "    </tr>\n",
       "    <tr>\n",
       "      <th>2</th>\n",
       "      <td>1019989115490787200</td>\n",
       "      <td>@smsm071990 @ALMOGRBE كل 20 تانيه شاب ليبي بير...</td>\n",
       "      <td>LY</td>\n",
       "    </tr>\n",
       "    <tr>\n",
       "      <th>3</th>\n",
       "      <td>1035479791758135168</td>\n",
       "      <td>@AboryPro @lyranoo85 رانيا عقليتك متخلفة. اولا...</td>\n",
       "      <td>LY</td>\n",
       "    </tr>\n",
       "    <tr>\n",
       "      <th>4</th>\n",
       "      <td>1035481122921164800</td>\n",
       "      <td>@lyranoo85 شكلك متعقدة علشان الراجل لي تحبيه ا...</td>\n",
       "      <td>LY</td>\n",
       "    </tr>\n",
       "    <tr>\n",
       "      <th>5</th>\n",
       "      <td>877881537122979840</td>\n",
       "      <td>@alibobkr63 او حتى من اي دين او طائفة. اسف ممك...</td>\n",
       "      <td>LY</td>\n",
       "    </tr>\n",
       "    <tr>\n",
       "      <th>6</th>\n",
       "      <td>882940840888471552</td>\n",
       "      <td>@muhamed01111 باهي نستنوه. بلكي مشغول ولا حاجة</td>\n",
       "      <td>LY</td>\n",
       "    </tr>\n",
       "    <tr>\n",
       "      <th>7</th>\n",
       "      <td>882941769444466688</td>\n",
       "      <td>@muhamed01111 مهما اختلفنا راه نحنا خوت. والله...</td>\n",
       "      <td>LY</td>\n",
       "    </tr>\n",
       "    <tr>\n",
       "      <th>8</th>\n",
       "      <td>882943694906818560</td>\n",
       "      <td>@muhamed01111 بالنسبة ليا انا والله شبعت هم ون...</td>\n",
       "      <td>LY</td>\n",
       "    </tr>\n",
       "    <tr>\n",
       "      <th>9</th>\n",
       "      <td>884736569118261248</td>\n",
       "      <td>@Ajo32asLibya @Jed_ly مو نحنا الحياة عندنا مية...</td>\n",
       "      <td>LY</td>\n",
       "    </tr>\n",
       "    <tr>\n",
       "      <th>10</th>\n",
       "      <td>885424032681787392</td>\n",
       "      <td>@Fabbenghazi تبي تقضي على متطرفين باهي بس متظل...</td>\n",
       "      <td>LY</td>\n",
       "    </tr>\n",
       "    <tr>\n",
       "      <th>11</th>\n",
       "      <td>885489129500311552</td>\n",
       "      <td>@aldocosta0701 @libyanelshiply ان شاءالله توة ...</td>\n",
       "      <td>LY</td>\n",
       "    </tr>\n",
       "    <tr>\n",
       "      <th>12</th>\n",
       "      <td>887981437642780672</td>\n",
       "      <td>@koshalata_ly هذي التغريدة تفضلي اقريها من جدي...</td>\n",
       "      <td>LY</td>\n",
       "    </tr>\n",
       "    <tr>\n",
       "      <th>13</th>\n",
       "      <td>887983777661812736</td>\n",
       "      <td>@koshalata_ly توة تحرضي للعنف وتقولي ان فكرك م...</td>\n",
       "      <td>LY</td>\n",
       "    </tr>\n",
       "    <tr>\n",
       "      <th>14</th>\n",
       "      <td>889442240703213568</td>\n",
       "      <td>@b___82 اوكي يحجزوهم لعند منقدروا نحاكموهم. بس...</td>\n",
       "      <td>LY</td>\n",
       "    </tr>\n",
       "    <tr>\n",
       "      <th>15</th>\n",
       "      <td>889523960915918848</td>\n",
       "      <td>@Aljweli @LNASpox @lnaspox_ar باهي لازم يحكموه...</td>\n",
       "      <td>LY</td>\n",
       "    </tr>\n",
       "    <tr>\n",
       "      <th>16</th>\n",
       "      <td>889524145733734400</td>\n",
       "      <td>@Aljweli @LNASpox @lnaspox_ar انا مية في المية...</td>\n",
       "      <td>LY</td>\n",
       "    </tr>\n",
       "    <tr>\n",
       "      <th>17</th>\n",
       "      <td>889787073032585216</td>\n",
       "      <td>@libyanelshiply حسب الخبر هضا الموضوع اشاعات ب...</td>\n",
       "      <td>LY</td>\n",
       "    </tr>\n",
       "    <tr>\n",
       "      <th>18</th>\n",
       "      <td>895660190267187200</td>\n",
       "      <td>@_najatahmed_ فالحين بس في دك خشومهم في السياس...</td>\n",
       "      <td>LY</td>\n",
       "    </tr>\n",
       "    <tr>\n",
       "      <th>19</th>\n",
       "      <td>897493142202613760</td>\n",
       "      <td>@saki_fallah بس انا مش حنعطي ولا واحد منهم اكث...</td>\n",
       "      <td>LY</td>\n",
       "    </tr>\n",
       "    <tr>\n",
       "      <th>20</th>\n",
       "      <td>897494670758088704</td>\n",
       "      <td>@saki_fallah ياما شفت بنات مطلقات مرميات منغير...</td>\n",
       "      <td>LY</td>\n",
       "    </tr>\n",
       "    <tr>\n",
       "      <th>21</th>\n",
       "      <td>897495338990415872</td>\n",
       "      <td>@saki_fallah لو يذلها متقعدش معاه. تسيبه وتقدر...</td>\n",
       "      <td>LY</td>\n",
       "    </tr>\n",
       "    <tr>\n",
       "      <th>22</th>\n",
       "      <td>897495659057754112</td>\n",
       "      <td>@saki_fallah انا بس نتكلم من تجربتي في الحياة....</td>\n",
       "      <td>LY</td>\n",
       "    </tr>\n",
       "    <tr>\n",
       "      <th>23</th>\n",
       "      <td>897496275196760064</td>\n",
       "      <td>@saki_fallah بس ان شاءالله ربي يرزقك بولد حلال...</td>\n",
       "      <td>LY</td>\n",
       "    </tr>\n",
       "    <tr>\n",
       "      <th>24</th>\n",
       "      <td>898481556486053888</td>\n",
       "      <td>@654abds مستحيل بشر يعملوا هكي. هضوما مريضين ن...</td>\n",
       "      <td>LY</td>\n",
       "    </tr>\n",
       "    <tr>\n",
       "      <th>25</th>\n",
       "      <td>904739253833302016</td>\n",
       "      <td>@hnanomar 😂 😂 😂 😂 شكراً توة فهمت من وين جت هذي...</td>\n",
       "      <td>LY</td>\n",
       "    </tr>\n",
       "    <tr>\n",
       "      <th>26</th>\n",
       "      <td>904934740729503616</td>\n",
       "      <td>@ayanoorkenzi بس ممكن تعطيني الرابط امتاع البر...</td>\n",
       "      <td>LY</td>\n",
       "    </tr>\n",
       "    <tr>\n",
       "      <th>27</th>\n",
       "      <td>905099818346832000</td>\n",
       "      <td>@magicofcoffee الله يستر. عمتي مرمية في مستشفى...</td>\n",
       "      <td>LY</td>\n",
       "    </tr>\n",
       "    <tr>\n",
       "      <th>28</th>\n",
       "      <td>907630925525131264</td>\n",
       "      <td>@IdreesAlgwie1 @3laa_Cyrenaica والله اشكال ادر...</td>\n",
       "      <td>LY</td>\n",
       "    </tr>\n",
       "    <tr>\n",
       "      <th>29</th>\n",
       "      <td>907989965950341248</td>\n",
       "      <td>@AlmFaisal مش مسألة اصابع يدي بس ظروف الناس مش...</td>\n",
       "      <td>LY</td>\n",
       "    </tr>\n",
       "    <tr>\n",
       "      <th>30</th>\n",
       "      <td>934006712478072832</td>\n",
       "      <td>@iHallucinate_e تي شن قصده؟!!! بشرونا راه غامة...</td>\n",
       "      <td>LY</td>\n",
       "    </tr>\n",
       "    <tr>\n",
       "      <th>31</th>\n",
       "      <td>934073074571411584</td>\n",
       "      <td>@fish_aliwa @dirarshk بس واحد منهم عادتاً بدري...</td>\n",
       "      <td>LY</td>\n",
       "    </tr>\n",
       "    <tr>\n",
       "      <th>32</th>\n",
       "      <td>949311937074139136</td>\n",
       "      <td>@safymomen42 @Ben_Mussa الاسبانيين يحتفلوا بال...</td>\n",
       "      <td>LY</td>\n",
       "    </tr>\n",
       "    <tr>\n",
       "      <th>33</th>\n",
       "      <td>953620690778894336</td>\n",
       "      <td>@WygiVlZ3ibkSBg6 عدد لا باس به. تقريباً ثلث سك...</td>\n",
       "      <td>LY</td>\n",
       "    </tr>\n",
       "    <tr>\n",
       "      <th>34</th>\n",
       "      <td>956579358461833216</td>\n",
       "      <td>@ranoo85ly بس كيف تعرفي ان هما داروا لقالولونا...</td>\n",
       "      <td>LY</td>\n",
       "    </tr>\n",
       "    <tr>\n",
       "      <th>35</th>\n",
       "      <td>964450503437451264</td>\n",
       "      <td>@HamzaBelhadj10 ممكن يقصد ابادة مش تطهير عرقي!...</td>\n",
       "      <td>LY</td>\n",
       "    </tr>\n",
       "    <tr>\n",
       "      <th>36</th>\n",
       "      <td>974642506955706368</td>\n",
       "      <td>@dou1001 ابن وبنت عمتي عندهم نفس المرض. للاسف ...</td>\n",
       "      <td>LY</td>\n",
       "    </tr>\n",
       "    <tr>\n",
       "      <th>37</th>\n",
       "      <td>976436530867826816</td>\n",
       "      <td>تقرير:\"829 ألف دولار صادرات #ليبيا من الأسمنت ...</td>\n",
       "      <td>LY</td>\n",
       "    </tr>\n",
       "    <tr>\n",
       "      <th>38</th>\n",
       "      <td>977166121383194624</td>\n",
       "      <td>علي شاهيها لي زمان على شاهيها.. علي شاهيها وتش...</td>\n",
       "      <td>LY</td>\n",
       "    </tr>\n",
       "    <tr>\n",
       "      <th>39</th>\n",
       "      <td>992003468993945600</td>\n",
       "      <td>@abdaljalil89 @gy_yah شنو بيستفيدو من الهجوم ع...</td>\n",
       "      <td>LY</td>\n",
       "    </tr>\n",
       "    <tr>\n",
       "      <th>40</th>\n",
       "      <td>994880703866265600</td>\n",
       "      <td>@beckonofhope مش عارف وين عايشين السياسيين هضو...</td>\n",
       "      <td>LY</td>\n",
       "    </tr>\n",
       "    <tr>\n",
       "      <th>41</th>\n",
       "      <td>1070725944489447424</td>\n",
       "      <td>@36LScHd6e7DjREI شن القصة لو عندك معلومات</td>\n",
       "      <td>LY</td>\n",
       "    </tr>\n",
       "    <tr>\n",
       "      <th>42</th>\n",
       "      <td>1070739263988424832</td>\n",
       "      <td>على سيرة الشخصيات المؤثرة على السوشيال ميديا ا...</td>\n",
       "      <td>LY</td>\n",
       "    </tr>\n",
       "    <tr>\n",
       "      <th>43</th>\n",
       "      <td>1071073563682193408</td>\n",
       "      <td>@Fatima_Obidy السؤال مش شوره معناها😁</td>\n",
       "      <td>LY</td>\n",
       "    </tr>\n",
       "    <tr>\n",
       "      <th>44</th>\n",
       "      <td>1071672216868282368</td>\n",
       "      <td>@AbsRadan يومك مبارك إن شاء الله عزيز.</td>\n",
       "      <td>LY</td>\n",
       "    </tr>\n",
       "    <tr>\n",
       "      <th>45</th>\n",
       "      <td>1071690722745700352</td>\n",
       "      <td>@MoheBishte بارك الله فيك خوي محي.</td>\n",
       "      <td>LY</td>\n",
       "    </tr>\n",
       "    <tr>\n",
       "      <th>46</th>\n",
       "      <td>1071696539574243200</td>\n",
       "      <td>@Candam1Sami صباح الفرح خوي سامي</td>\n",
       "      <td>LY</td>\n",
       "    </tr>\n",
       "    <tr>\n",
       "      <th>47</th>\n",
       "      <td>1071704703942176768</td>\n",
       "      <td>@YOUNIS_ALSERTAW بارك الله فيك خوي يونس</td>\n",
       "      <td>LY</td>\n",
       "    </tr>\n",
       "    <tr>\n",
       "      <th>48</th>\n",
       "      <td>1071770187265916800</td>\n",
       "      <td>@wasimalkatawy تسلم يا باشا، وين ملقيت حد 😅</td>\n",
       "      <td>LY</td>\n",
       "    </tr>\n",
       "    <tr>\n",
       "      <th>49</th>\n",
       "      <td>1074203134577250432</td>\n",
       "      <td>@sooma_khlaf لكن الريح مفيش بصارة غادي، يومك م...</td>\n",
       "      <td>LY</td>\n",
       "    </tr>\n",
       "  </tbody>\n",
       "</table>\n",
       "</div>"
      ],
      "text/plain": [
       "                     id                                               text  \\\n",
       "0   1009754958479151232  @toha_Altomy @gy_yah قليلين ادب ومنافقين. لو ا...   \n",
       "1   1009794751548313600  @AlmFaisal 😂😂 الليبيين متقلبين!!!\\nبس بالنسبة ...   \n",
       "2   1019989115490787200  @smsm071990 @ALMOGRBE كل 20 تانيه شاب ليبي بير...   \n",
       "3   1035479791758135168  @AboryPro @lyranoo85 رانيا عقليتك متخلفة. اولا...   \n",
       "4   1035481122921164800  @lyranoo85 شكلك متعقدة علشان الراجل لي تحبيه ا...   \n",
       "5    877881537122979840  @alibobkr63 او حتى من اي دين او طائفة. اسف ممك...   \n",
       "6    882940840888471552     @muhamed01111 باهي نستنوه. بلكي مشغول ولا حاجة   \n",
       "7    882941769444466688  @muhamed01111 مهما اختلفنا راه نحنا خوت. والله...   \n",
       "8    882943694906818560  @muhamed01111 بالنسبة ليا انا والله شبعت هم ون...   \n",
       "9    884736569118261248  @Ajo32asLibya @Jed_ly مو نحنا الحياة عندنا مية...   \n",
       "10   885424032681787392  @Fabbenghazi تبي تقضي على متطرفين باهي بس متظل...   \n",
       "11   885489129500311552  @aldocosta0701 @libyanelshiply ان شاءالله توة ...   \n",
       "12   887981437642780672  @koshalata_ly هذي التغريدة تفضلي اقريها من جدي...   \n",
       "13   887983777661812736  @koshalata_ly توة تحرضي للعنف وتقولي ان فكرك م...   \n",
       "14   889442240703213568  @b___82 اوكي يحجزوهم لعند منقدروا نحاكموهم. بس...   \n",
       "15   889523960915918848  @Aljweli @LNASpox @lnaspox_ar باهي لازم يحكموه...   \n",
       "16   889524145733734400  @Aljweli @LNASpox @lnaspox_ar انا مية في المية...   \n",
       "17   889787073032585216  @libyanelshiply حسب الخبر هضا الموضوع اشاعات ب...   \n",
       "18   895660190267187200  @_najatahmed_ فالحين بس في دك خشومهم في السياس...   \n",
       "19   897493142202613760  @saki_fallah بس انا مش حنعطي ولا واحد منهم اكث...   \n",
       "20   897494670758088704  @saki_fallah ياما شفت بنات مطلقات مرميات منغير...   \n",
       "21   897495338990415872  @saki_fallah لو يذلها متقعدش معاه. تسيبه وتقدر...   \n",
       "22   897495659057754112  @saki_fallah انا بس نتكلم من تجربتي في الحياة....   \n",
       "23   897496275196760064  @saki_fallah بس ان شاءالله ربي يرزقك بولد حلال...   \n",
       "24   898481556486053888  @654abds مستحيل بشر يعملوا هكي. هضوما مريضين ن...   \n",
       "25   904739253833302016  @hnanomar 😂 😂 😂 😂 شكراً توة فهمت من وين جت هذي...   \n",
       "26   904934740729503616  @ayanoorkenzi بس ممكن تعطيني الرابط امتاع البر...   \n",
       "27   905099818346832000  @magicofcoffee الله يستر. عمتي مرمية في مستشفى...   \n",
       "28   907630925525131264  @IdreesAlgwie1 @3laa_Cyrenaica والله اشكال ادر...   \n",
       "29   907989965950341248  @AlmFaisal مش مسألة اصابع يدي بس ظروف الناس مش...   \n",
       "30   934006712478072832  @iHallucinate_e تي شن قصده؟!!! بشرونا راه غامة...   \n",
       "31   934073074571411584  @fish_aliwa @dirarshk بس واحد منهم عادتاً بدري...   \n",
       "32   949311937074139136  @safymomen42 @Ben_Mussa الاسبانيين يحتفلوا بال...   \n",
       "33   953620690778894336  @WygiVlZ3ibkSBg6 عدد لا باس به. تقريباً ثلث سك...   \n",
       "34   956579358461833216  @ranoo85ly بس كيف تعرفي ان هما داروا لقالولونا...   \n",
       "35   964450503437451264  @HamzaBelhadj10 ممكن يقصد ابادة مش تطهير عرقي!...   \n",
       "36   974642506955706368  @dou1001 ابن وبنت عمتي عندهم نفس المرض. للاسف ...   \n",
       "37   976436530867826816  تقرير:\"829 ألف دولار صادرات #ليبيا من الأسمنت ...   \n",
       "38   977166121383194624  علي شاهيها لي زمان على شاهيها.. علي شاهيها وتش...   \n",
       "39   992003468993945600  @abdaljalil89 @gy_yah شنو بيستفيدو من الهجوم ع...   \n",
       "40   994880703866265600  @beckonofhope مش عارف وين عايشين السياسيين هضو...   \n",
       "41  1070725944489447424          @36LScHd6e7DjREI شن القصة لو عندك معلومات   \n",
       "42  1070739263988424832  على سيرة الشخصيات المؤثرة على السوشيال ميديا ا...   \n",
       "43  1071073563682193408               @Fatima_Obidy السؤال مش شوره معناها😁   \n",
       "44  1071672216868282368             @AbsRadan يومك مبارك إن شاء الله عزيز.   \n",
       "45  1071690722745700352                 @MoheBishte بارك الله فيك خوي محي.   \n",
       "46  1071696539574243200                   @Candam1Sami صباح الفرح خوي سامي   \n",
       "47  1071704703942176768            @YOUNIS_ALSERTAW بارك الله فيك خوي يونس   \n",
       "48  1071770187265916800        @wasimalkatawy تسلم يا باشا، وين ملقيت حد 😅   \n",
       "49  1074203134577250432  @sooma_khlaf لكن الريح مفيش بصارة غادي، يومك م...   \n",
       "\n",
       "   dialect  \n",
       "0       LY  \n",
       "1       LY  \n",
       "2       LY  \n",
       "3       LY  \n",
       "4       LY  \n",
       "5       LY  \n",
       "6       LY  \n",
       "7       LY  \n",
       "8       LY  \n",
       "9       LY  \n",
       "10      LY  \n",
       "11      LY  \n",
       "12      LY  \n",
       "13      LY  \n",
       "14      LY  \n",
       "15      LY  \n",
       "16      LY  \n",
       "17      LY  \n",
       "18      LY  \n",
       "19      LY  \n",
       "20      LY  \n",
       "21      LY  \n",
       "22      LY  \n",
       "23      LY  \n",
       "24      LY  \n",
       "25      LY  \n",
       "26      LY  \n",
       "27      LY  \n",
       "28      LY  \n",
       "29      LY  \n",
       "30      LY  \n",
       "31      LY  \n",
       "32      LY  \n",
       "33      LY  \n",
       "34      LY  \n",
       "35      LY  \n",
       "36      LY  \n",
       "37      LY  \n",
       "38      LY  \n",
       "39      LY  \n",
       "40      LY  \n",
       "41      LY  \n",
       "42      LY  \n",
       "43      LY  \n",
       "44      LY  \n",
       "45      LY  \n",
       "46      LY  \n",
       "47      LY  \n",
       "48      LY  \n",
       "49      LY  "
      ]
     },
     "execution_count": 4,
     "metadata": {},
     "output_type": "execute_result"
    }
   ],
   "source": [
    "df.head(50)"
   ]
  },
  {
   "cell_type": "code",
   "execution_count": 5,
   "metadata": {},
   "outputs": [
    {
     "data": {
      "text/plain": [
       "array(['LY', 'MA', 'EG', 'LB', 'SD'], dtype=object)"
      ]
     },
     "execution_count": 5,
     "metadata": {},
     "output_type": "execute_result"
    }
   ],
   "source": [
    "df.dialect.unique()"
   ]
  },
  {
   "cell_type": "markdown",
   "metadata": {},
   "source": [
    "- LY -> Libya\n",
    "- MA -> Morocco\n",
    "- EG -> Egypt\n",
    "- LB -> Lebanon\n",
    "- SD -> Sudan"
   ]
  },
  {
   "cell_type": "code",
   "execution_count": 6,
   "metadata": {},
   "outputs": [],
   "source": [
    "mapper = {\n",
    "    'LY': 0,\n",
    "    'MA': 1,\n",
    "    'EG': 2,\n",
    "    'LB': 3,\n",
    "    'SD': 4    \n",
    "}"
   ]
  },
  {
   "cell_type": "code",
   "execution_count": 7,
   "metadata": {},
   "outputs": [
    {
     "name": "stdout",
     "output_type": "stream",
     "text": [
      "<class 'pandas.core.frame.DataFrame'>\n",
      "RangeIndex: 147725 entries, 0 to 147724\n",
      "Data columns (total 3 columns):\n",
      " #   Column   Non-Null Count   Dtype \n",
      "---  ------   --------------   ----- \n",
      " 0   id       147725 non-null  int64 \n",
      " 1   text     147725 non-null  object\n",
      " 2   dialect  147725 non-null  object\n",
      "dtypes: int64(1), object(2)\n",
      "memory usage: 3.4+ MB\n"
     ]
    }
   ],
   "source": [
    "df.info()"
   ]
  },
  {
   "cell_type": "markdown",
   "metadata": {},
   "source": [
    "### **Data Splitting**"
   ]
  },
  {
   "cell_type": "code",
   "execution_count": 8,
   "metadata": {},
   "outputs": [],
   "source": [
    "x = df.text"
   ]
  },
  {
   "cell_type": "code",
   "execution_count": 9,
   "metadata": {},
   "outputs": [],
   "source": [
    "y = df.dialect"
   ]
  },
  {
   "cell_type": "code",
   "execution_count": 10,
   "metadata": {},
   "outputs": [],
   "source": [
    "x_train, x_test, y_train, y_test = train_test_split(x, y, test_size=0.2, random_state=0)"
   ]
  },
  {
   "cell_type": "markdown",
   "metadata": {},
   "source": [
    "### **Data Investigation**"
   ]
  },
  {
   "cell_type": "code",
   "execution_count": 26,
   "metadata": {},
   "outputs": [
    {
     "name": "stdout",
     "output_type": "stream",
     "text": [
      "<class 'pandas.core.series.Series'>\n",
      "Index: 118180 entries, 31120 to 43567\n",
      "Series name: text\n",
      "Non-Null Count   Dtype \n",
      "--------------   ----- \n",
      "118180 non-null  object\n",
      "dtypes: object(1)\n",
      "memory usage: 5.8+ MB\n"
     ]
    }
   ],
   "source": [
    "x_train.head(30)"
   ]
  },
  {
   "cell_type": "code",
   "execution_count": 12,
   "metadata": {},
   "outputs": [
    {
     "name": "stdout",
     "output_type": "stream",
     "text": [
      "<class 'pandas.core.series.Series'>\n",
      "Index: 118180 entries, 31120 to 43567\n",
      "Series name: text\n",
      "Non-Null Count   Dtype \n",
      "--------------   ----- \n",
      "118180 non-null  object\n",
      "dtypes: object(1)\n",
      "memory usage: 1.8+ MB\n"
     ]
    }
   ],
   "source": [
    "x_train.info()"
   ]
  },
  {
   "cell_type": "code",
   "execution_count": 13,
   "metadata": {},
   "outputs": [
    {
     "data": {
      "text/plain": [
       "(118180, 118180)"
      ]
     },
     "execution_count": 13,
     "metadata": {},
     "output_type": "execute_result"
    }
   ],
   "source": [
    "len(x_train), len(y_train)"
   ]
  },
  {
   "cell_type": "code",
   "execution_count": 14,
   "metadata": {},
   "outputs": [
    {
     "data": {
      "text/plain": [
       "0"
      ]
     },
     "execution_count": 14,
     "metadata": {},
     "output_type": "execute_result"
    }
   ],
   "source": [
    "x_train.isnull().sum()"
   ]
  },
  {
   "cell_type": "code",
   "execution_count": 15,
   "metadata": {},
   "outputs": [
    {
     "data": {
      "text/plain": [
       "0"
      ]
     },
     "execution_count": 15,
     "metadata": {},
     "output_type": "execute_result"
    }
   ],
   "source": [
    "x_train.duplicated().sum()"
   ]
  },
  {
   "cell_type": "code",
   "execution_count": 16,
   "metadata": {},
   "outputs": [
    {
     "data": {
      "text/plain": [
       "array(['LY', 'LB', 'EG', 'MA', 'SD'], dtype=object)"
      ]
     },
     "execution_count": 16,
     "metadata": {},
     "output_type": "execute_result"
    }
   ],
   "source": [
    "y_train.unique()"
   ]
  },
  {
   "cell_type": "code",
   "execution_count": 17,
   "metadata": {},
   "outputs": [
    {
     "data": {
      "text/plain": [
       "29199"
      ]
     },
     "execution_count": 17,
     "metadata": {},
     "output_type": "execute_result"
    }
   ],
   "source": [
    "ly_count = y_train[y_train == 'LY'].count()\n",
    "ly_count"
   ]
  },
  {
   "cell_type": "code",
   "execution_count": 18,
   "metadata": {},
   "outputs": [
    {
     "data": {
      "text/plain": [
       "22026"
      ]
     },
     "execution_count": 18,
     "metadata": {},
     "output_type": "execute_result"
    }
   ],
   "source": [
    "lb_count = y_train[y_train == 'LB'].count()\n",
    "lb_count"
   ]
  },
  {
   "cell_type": "code",
   "execution_count": 19,
   "metadata": {},
   "outputs": [
    {
     "data": {
      "text/plain": [
       "46182"
      ]
     },
     "execution_count": 19,
     "metadata": {},
     "output_type": "execute_result"
    }
   ],
   "source": [
    "eg_count = y_train[y_train == 'EG'].count()\n",
    "eg_count"
   ]
  },
  {
   "cell_type": "code",
   "execution_count": 20,
   "metadata": {},
   "outputs": [
    {
     "data": {
      "text/plain": [
       "9306"
      ]
     },
     "execution_count": 20,
     "metadata": {},
     "output_type": "execute_result"
    }
   ],
   "source": [
    "ma_count = y_train[y_train == 'MA'].count()\n",
    "ma_count"
   ]
  },
  {
   "cell_type": "code",
   "execution_count": 21,
   "metadata": {},
   "outputs": [
    {
     "data": {
      "text/plain": [
       "11467"
      ]
     },
     "execution_count": 21,
     "metadata": {},
     "output_type": "execute_result"
    }
   ],
   "source": [
    "sd_count = y_train[y_train == 'SD'].count()\n",
    "sd_count"
   ]
  },
  {
   "cell_type": "code",
   "execution_count": 22,
   "metadata": {},
   "outputs": [
    {
     "data": {
      "text/plain": [
       "<Axes: >"
      ]
     },
     "execution_count": 22,
     "metadata": {},
     "output_type": "execute_result"
    },
    {
     "data": {
      "image/png": "[encoded data removed]",
      "text/plain": [
       "<Figure size 640x480 with 1 Axes>"
      ]
     },
     "metadata": {},
     "output_type": "display_data"
    }
   ],
   "source": [
    "import matplotlib.pyplot as plt\n",
    "import seaborn as sns\n",
    "plt.hist\n",
    "sns.barplot([ly_count, lb_count, eg_count, ma_count, sd_count], )"
   ]
  },
  {
   "cell_type": "markdown",
   "metadata": {},
   "source": [
    "**Notes:**\n",
    "- There is no null values.\n",
    "- There is no duplicates.\n",
    "- Data are imbalanced"
   ]
  },
  {
   "cell_type": "markdown",
   "metadata": {},
   "source": [
    "**Handling Imbalance Data**\n",
    "1. **Resampling Methods:**\n",
    "    - **Over-sampling techniques:**\n",
    "       - SMOTE (Synthetic Minority Over-sampling Technique)\n",
    "       - ADASYN (Adaptive Synthetic Sampling) generate synthetic samples for the minority class to balance the dataset.\n",
    "    - **Under-sampling techniques:**\n",
    "       - randomly remove samples from the majority class to achieve class balance.\n",
    "\n",
    "2. **Algorithmic Approaches:**\n",
    "    - **Cost-sensitive learning:**\n",
    "        - adjusts the misclassification costs to account for class imbalance during model training.\n",
    "    - **Ensemble methods:** \n",
    "        - such as Random Forest and XGBoost inherently handle class imbalance by aggregating predictions from multiple models.\n",
    "3. **Hybrid Methods:**\n",
    "    - Hybrid methods combine over-sampling and under-sampling techniques to achieve a balanced dataset while preserving the information in the original data."
   ]
  },
  {
   "cell_type": "markdown",
   "metadata": {},
   "source": [
    "**Note:**\n",
    "- I will handle imbalancing during training when using tree algorithm specifically XGBoost as my traditional ML Algorithm (**Algorithmic Approach**) "
   ]
  },
  {
   "cell_type": "markdown",
   "metadata": {},
   "source": [
    "### **Preprocessing Steps**\n",
    "1. Remove all English Words(Names) \n",
    "2. Remove Numbers\n",
    "3. Remove Special Characters Like:\n",
    "    - @, #, :, \", ،, ., \\n, !, _, ?, /, -, ), (, %, $, &, *, ؛\n",
    "4. Remove Emojis\n",
    "5. Remove Links"
   ]
  },
  {
   "cell_type": "code",
   "execution_count": 23,
   "metadata": {},
   "outputs": [
    {
     "data": {
      "text/plain": [
       "31120                       كارثة بعد يقعد راجل دمه ثقيل 💩✋\n",
       "117838    رئيس الجمهورية يفعل ويقول ما يشاء...\\nواللي مش...\n",
       "Name: text, dtype: object"
      ]
     },
     "execution_count": 23,
     "metadata": {},
     "output_type": "execute_result"
    }
   ],
   "source": [
    "x_train.head(2)"
   ]
  },
  {
   "cell_type": "code",
   "execution_count": 24,
   "metadata": {},
   "outputs": [],
   "source": [
    "def preprocessing(text):\n",
    "\n",
    "    pattern = re.compile(r'[À-ÿ]')\n",
    "    text = pattern.sub('', text)\n",
    "\n",
    "    pattern = re.compile(r'https?://\\S+|www\\.\\S+')\n",
    "    text= pattern.sub(' ', text)\n",
    "\n",
    "    pattern = re.compile(r'\\b[a-zA-Z0-9]+\\b|[@#:()%$؟&*\\\\u\"،\\\\.!_\\\\n!?؛/-]')\n",
    "    text = pattern.sub(' ', text)\n",
    "    \n",
    "    pattern = re.compile(r'\\b[a-zA-Z0-9]+\\b')\n",
    "    text = pattern.sub(' ', text)\n",
    "\n",
    "    pattern = re.compile(\n",
    "    \"[\"\n",
    "    \"\\U0001F600-\\U0001F64F\"\n",
    "    \"\\U0001F300-\\U0001F5FF\"\n",
    "    \"\\U0001F680-\\U0001F6FF\"\n",
    "    \"\\U0001F700-\\U0001F77F\"\n",
    "    \"\\U0001F780-\\U0001F7FF\"\n",
    "    \"\\U0001F800-\\U0001F8FF\"\n",
    "    \"\\U0001F900-\\U0001F9FF\" \n",
    "    \"\\U0001FA00-\\U0001FA6F\" \n",
    "    \"\\U0001FA70-\\U0001FAFF\"\n",
    "    \"\\U00002702-\\U000027B0\"\n",
    "    \"\\U000024C2-\\U0001F251\" \n",
    "    \"]+\", flags=re.UNICODE)\n",
    "\n",
    "    text = pattern.sub(' ', text)\n",
    "    text = re.sub(r'\\s+', ' ', text).strip()\n",
    "\n",
    "    return pattern.sub('', text)"
   ]
  },
  {
   "cell_type": "code",
   "execution_count": 25,
   "metadata": {},
   "outputs": [],
   "source": [
    "processed_data = x_train.apply(preprocessing)"
   ]
  },
  {
   "cell_type": "code",
   "execution_count": 26,
   "metadata": {},
   "outputs": [
    {
     "data": {
      "text/plain": [
       "31120                          كارثة بعد يقعد راجل دمه ثقيل\n",
       "117838    رئيس الجمهورية يفعل ويقول ما يشاء واللي مش عاج...\n",
       "110584    صالة المغادرة اللي في المطار هي اللي المفروض ا...\n",
       "110362    كيفك يا حاج انا ماحجت بس عملت عمرة قوليلى يا عمرى\n",
       "91607     ده غير انى مش هكلمك عن الإيجابية والسلبية بقى ...\n",
       "2217      عمري انت ونحنا ناطرينك وكتير متشوقين بس خايفة ...\n",
       "58728     الناس بتستسهل عشان قريبين وبضاعتهم رخيصة القان...\n",
       "64072                             إستناني ياسيسي أنا مش جاي\n",
       "125912    عفوا انا بنت بعلبك بس هيدا الكلام مش صحيح,بيعل...\n",
       "19512                         وين يبيعو فلحظوظ نبى نشرى منه\n",
       "22240     توا حني مرات نمشو 100ك باش انديرو امبكبكة نعتب...\n",
       "78214     يا رب ما نكره الكورة بعد ماتش النهاردة اكتر ما...\n",
       "92637     انا بحب الصور جدا عشان دايما هيا الي بتفضل ومب...\n",
       "113318           هيدا احمد محتال عامل حالو مسكين هوا الحرية\n",
       "12724                                  شكرا يا شهيد عالهدية\n",
       "83892      محمد صبحي مش عشان الموهبه بس لكن هو اكترهم ثقافه\n",
       "110763    رجعنا من جديد يا اتباع ابو صرّه بس طالما هيك و...\n",
       "52826     وهي شخصية مهمة للدرجادي عشان تهتم بيها الدولة ...\n",
       "72359     معانا الخطيب ندوس الكل احنا جمهور النادي في ضه...\n",
       "7389      عندي صديق امه سمعت الكلام علي البريوش والزبدة ...\n",
       "97279     قرب قرب واللي مش هيشتري يجي يتفرج عواد بيبع ار...\n",
       "126163                            عم يكووا الزيتي طولي بالك\n",
       "76058     انتي ولا فالحه ف لعب ولا ف دراسه اتنيلي اقعدي ...\n",
       "118790        عاملين ملوخية عالعيد وعم تسألي عن أكل أني جاي\n",
       "114009                              عم قووول شكلو مؤمن هيدا\n",
       "7813      كل واحد يخلي باله من المجاري متعه ميجيش بعدين ...\n",
       "33345     المشكلة فيه من يصدق وفرحان الحاجات هادو الطحال...\n",
       "43990     وشنو يعني لانهم غير جميلات لازم يسكتو و يقبلو ...\n",
       "115626                             رسميا صار معنا خير في شي\n",
       "21259     شن تقول زعما يجي يوم نمشو لمطعم من غير ما نفكر...\n",
       "4321      توا إن شاء الله بعد ماحفتر يحرر ليبيا من الإره...\n",
       "35129                                 شكلهم قصرو عشان يوسعو\n",
       "89372     بصي هو معتز مطر لما الناس سألوه قال سببين ان أ...\n",
       "87814                                   هى الشمس هتطلع امتي\n",
       "60173     شابوه للي سرب واللي ذاع اي مكالمات تفضح خاين ل...\n",
       "53857                         غير مقصود بها شىء هو المود بس\n",
       "142128    والله انتي ضايعة ساي في البلد دي بتلقيهم في ال...\n",
       "113936    بعرف ‍ هاي على الأحوط وجوباً لأنو ما فيني إلعن...\n",
       "145771    اديها طناش تديك انتعاش تركز معاها تطفشك طفاش ط...\n",
       "86411     الواد محمد علي كان بيشكر الداخليه والجيش عشان ...\n",
       "43162         المشاش هاد العيد بانو لي موجودين ما لاحظتوهاش\n",
       "114915                                  بعد هالتويت ل ٢ برا\n",
       "54786     قوليلها يا نهلة يارب تقتنع لانها مجنناني من خو...\n",
       "78854                     يا خسارة الفانلة اللى قطعها آزارو\n",
       "21079     تعال يا شبوب أرفع العصير مش بعيد توصل الطلبات ...\n",
       "24626            صدق رمضان ونيس لما قال انكذب من و انصدق من\n",
       "107587    مش مهم اليوم عالعسكري بكرا عالمدني بعدين سبق و...\n",
       "81679                             بأحسه لطلبة إعدادي وثانوي\n",
       "8448                        شنو الفرق ليل والا نهار ولا فجر\n",
       "19292                                 وهذا الي انا خايف منه\n",
       "Name: text, dtype: object"
      ]
     },
     "execution_count": 26,
     "metadata": {},
     "output_type": "execute_result"
    }
   ],
   "source": [
    "processed_data[:50]"
   ]
  },
  {
   "cell_type": "code",
   "execution_count": 27,
   "metadata": {},
   "outputs": [
    {
     "data": {
      "text/plain": [
       "118180"
      ]
     },
     "execution_count": 27,
     "metadata": {},
     "output_type": "execute_result"
    }
   ],
   "source": [
    "len(processed_data)"
   ]
  },
  {
   "cell_type": "code",
   "execution_count": 28,
   "metadata": {},
   "outputs": [
    {
     "data": {
      "text/plain": [
       "31120     0\n",
       "117838    3\n",
       "110584    3\n",
       "110362    3\n",
       "91607     2\n",
       "         ..\n",
       "41993     1\n",
       "97639     2\n",
       "95939     2\n",
       "117952    3\n",
       "43567     1\n",
       "Name: dialect, Length: 118180, dtype: int64"
      ]
     },
     "execution_count": 28,
     "metadata": {},
     "output_type": "execute_result"
    }
   ],
   "source": [
    "y_train = y_train.replace(mapper)\n",
    "y_train"
   ]
  },
  {
   "cell_type": "code",
   "execution_count": 29,
   "metadata": {},
   "outputs": [
    {
     "data": {
      "text/plain": [
       "118180"
      ]
     },
     "execution_count": 29,
     "metadata": {},
     "output_type": "execute_result"
    }
   ],
   "source": [
    "len(y_train)"
   ]
  },
  {
   "cell_type": "code",
   "execution_count": 30,
   "metadata": {},
   "outputs": [],
   "source": [
    "train_data = pd.DataFrame({\n",
    "    \"text\": processed_data, \n",
    "    \"dialect\": y_train\n",
    "})"
   ]
  },
  {
   "cell_type": "code",
   "execution_count": 31,
   "metadata": {},
   "outputs": [
    {
     "data": {
      "text/plain": [
       "118180"
      ]
     },
     "execution_count": 31,
     "metadata": {},
     "output_type": "execute_result"
    }
   ],
   "source": [
    "len(train_data)"
   ]
  },
  {
   "cell_type": "code",
   "execution_count": 32,
   "metadata": {},
   "outputs": [
    {
     "data": {
      "text/html": [
       "<div>\n",
       "<style scoped>\n",
       "    .dataframe tbody tr th:only-of-type {\n",
       "        vertical-align: middle;\n",
       "    }\n",
       "\n",
       "    .dataframe tbody tr th {\n",
       "        vertical-align: top;\n",
       "    }\n",
       "\n",
       "    .dataframe thead th {\n",
       "        text-align: right;\n",
       "    }\n",
       "</style>\n",
       "<table border=\"1\" class=\"dataframe\">\n",
       "  <thead>\n",
       "    <tr style=\"text-align: right;\">\n",
       "      <th></th>\n",
       "      <th>text</th>\n",
       "      <th>dialect</th>\n",
       "    </tr>\n",
       "  </thead>\n",
       "  <tbody>\n",
       "    <tr>\n",
       "      <th>31120</th>\n",
       "      <td>كارثة بعد يقعد راجل دمه ثقيل</td>\n",
       "      <td>0</td>\n",
       "    </tr>\n",
       "    <tr>\n",
       "      <th>117838</th>\n",
       "      <td>رئيس الجمهورية يفعل ويقول ما يشاء واللي مش عاج...</td>\n",
       "      <td>3</td>\n",
       "    </tr>\n",
       "    <tr>\n",
       "      <th>110584</th>\n",
       "      <td>صالة المغادرة اللي في المطار هي اللي المفروض ا...</td>\n",
       "      <td>3</td>\n",
       "    </tr>\n",
       "    <tr>\n",
       "      <th>110362</th>\n",
       "      <td>كيفك يا حاج انا ماحجت بس عملت عمرة قوليلى يا عمرى</td>\n",
       "      <td>3</td>\n",
       "    </tr>\n",
       "    <tr>\n",
       "      <th>91607</th>\n",
       "      <td>ده غير انى مش هكلمك عن الإيجابية والسلبية بقى ...</td>\n",
       "      <td>2</td>\n",
       "    </tr>\n",
       "  </tbody>\n",
       "</table>\n",
       "</div>"
      ],
      "text/plain": [
       "                                                     text  dialect\n",
       "31120                        كارثة بعد يقعد راجل دمه ثقيل        0\n",
       "117838  رئيس الجمهورية يفعل ويقول ما يشاء واللي مش عاج...        3\n",
       "110584  صالة المغادرة اللي في المطار هي اللي المفروض ا...        3\n",
       "110362  كيفك يا حاج انا ماحجت بس عملت عمرة قوليلى يا عمرى        3\n",
       "91607   ده غير انى مش هكلمك عن الإيجابية والسلبية بقى ...        2"
      ]
     },
     "execution_count": 32,
     "metadata": {},
     "output_type": "execute_result"
    }
   ],
   "source": [
    "train_data.head()"
   ]
  },
  {
   "cell_type": "code",
   "execution_count": 33,
   "metadata": {},
   "outputs": [
    {
     "data": {
      "text/plain": [
       "21445     0\n",
       "130471    3\n",
       "11748     0\n",
       "1215      0\n",
       "92752     2\n",
       "         ..\n",
       "144034    4\n",
       "132017    3\n",
       "16610     0\n",
       "67650     2\n",
       "11926     0\n",
       "Name: dialect, Length: 29545, dtype: int64"
      ]
     },
     "execution_count": 33,
     "metadata": {},
     "output_type": "execute_result"
    }
   ],
   "source": [
    "y_test = y_test.replace(mapper)\n",
    "y_test"
   ]
  },
  {
   "cell_type": "code",
   "execution_count": 34,
   "metadata": {},
   "outputs": [],
   "source": [
    "test_data = pd.DataFrame({\n",
    "    \"text\": x_test.apply(preprocessing), \n",
    "    \"dialect\": y_test\n",
    "})"
   ]
  },
  {
   "cell_type": "code",
   "execution_count": 35,
   "metadata": {},
   "outputs": [
    {
     "data": {
      "text/html": [
       "<div>\n",
       "<style scoped>\n",
       "    .dataframe tbody tr th:only-of-type {\n",
       "        vertical-align: middle;\n",
       "    }\n",
       "\n",
       "    .dataframe tbody tr th {\n",
       "        vertical-align: top;\n",
       "    }\n",
       "\n",
       "    .dataframe thead th {\n",
       "        text-align: right;\n",
       "    }\n",
       "</style>\n",
       "<table border=\"1\" class=\"dataframe\">\n",
       "  <thead>\n",
       "    <tr style=\"text-align: right;\">\n",
       "      <th></th>\n",
       "      <th>text</th>\n",
       "      <th>dialect</th>\n",
       "    </tr>\n",
       "  </thead>\n",
       "  <tbody>\n",
       "    <tr>\n",
       "      <th>21445</th>\n",
       "      <td>أحبــك بــ مقدار كرهـي لكــ</td>\n",
       "      <td>0</td>\n",
       "    </tr>\n",
       "    <tr>\n",
       "      <th>130471</th>\n",
       "      <td>والله انا كان صايبني متلك , بس هالايام صار بدك...</td>\n",
       "      <td>3</td>\n",
       "    </tr>\n",
       "    <tr>\n",
       "      <th>11748</th>\n",
       "      <td>لما تاخد مقلب في روحك</td>\n",
       "      <td>0</td>\n",
       "    </tr>\n",
       "    <tr>\n",
       "      <th>1215</th>\n",
       "      <td>احليلنا باهي اللي طلعتي يا زو</td>\n",
       "      <td>0</td>\n",
       "    </tr>\n",
       "    <tr>\n",
       "      <th>92752</th>\n",
       "      <td>والله ما عارف هوصل ولا هشطب ف نص الطريق الأعما...</td>\n",
       "      <td>2</td>\n",
       "    </tr>\n",
       "    <tr>\n",
       "      <th>...</th>\n",
       "      <td>...</td>\n",
       "      <td>...</td>\n",
       "    </tr>\n",
       "    <tr>\n",
       "      <th>144034</th>\n",
       "      <td>تتنظم بس أول جديد</td>\n",
       "      <td>4</td>\n",
       "    </tr>\n",
       "    <tr>\n",
       "      <th>132017</th>\n",
       "      <td>يلي بجرب مجرب عقلو مخرب</td>\n",
       "      <td>3</td>\n",
       "    </tr>\n",
       "    <tr>\n",
       "      <th>16610</th>\n",
       "      <td>و ما زال تشوف بس أعصابك يا خالد الصهد بتاعك طا...</td>\n",
       "      <td>0</td>\n",
       "    </tr>\n",
       "    <tr>\n",
       "      <th>67650</th>\n",
       "      <td>عمري ما بحلف بس اقسم بالله صورته بتعصبني حتي ل...</td>\n",
       "      <td>2</td>\n",
       "    </tr>\n",
       "    <tr>\n",
       "      <th>11926</th>\n",
       "      <td>ما تخليش حد يضحك عليك شوفي الصوره المعكوسه على...</td>\n",
       "      <td>0</td>\n",
       "    </tr>\n",
       "  </tbody>\n",
       "</table>\n",
       "<p>29545 rows × 2 columns</p>\n",
       "</div>"
      ],
      "text/plain": [
       "                                                     text  dialect\n",
       "21445                         أحبــك بــ مقدار كرهـي لكــ        0\n",
       "130471  والله انا كان صايبني متلك , بس هالايام صار بدك...        3\n",
       "11748                               لما تاخد مقلب في روحك        0\n",
       "1215                        احليلنا باهي اللي طلعتي يا زو        0\n",
       "92752   والله ما عارف هوصل ولا هشطب ف نص الطريق الأعما...        2\n",
       "...                                                   ...      ...\n",
       "144034                                  تتنظم بس أول جديد        4\n",
       "132017                            يلي بجرب مجرب عقلو مخرب        3\n",
       "16610   و ما زال تشوف بس أعصابك يا خالد الصهد بتاعك طا...        0\n",
       "67650   عمري ما بحلف بس اقسم بالله صورته بتعصبني حتي ل...        2\n",
       "11926   ما تخليش حد يضحك عليك شوفي الصوره المعكوسه على...        0\n",
       "\n",
       "[29545 rows x 2 columns]"
      ]
     },
     "execution_count": 35,
     "metadata": {},
     "output_type": "execute_result"
    }
   ],
   "source": [
    "test_data"
   ]
  },
  {
   "cell_type": "code",
   "execution_count": 36,
   "metadata": {},
   "outputs": [
    {
     "data": {
      "text/plain": [
       "text       0\n",
       "dialect    0\n",
       "dtype: int64"
      ]
     },
     "execution_count": 36,
     "metadata": {},
     "output_type": "execute_result"
    }
   ],
   "source": [
    "train_data.isnull().sum()"
   ]
  },
  {
   "cell_type": "code",
   "execution_count": 37,
   "metadata": {},
   "outputs": [
    {
     "name": "stdout",
     "output_type": "stream",
     "text": [
      "<class 'pandas.core.series.Series'>\n",
      "Index: 118180 entries, 31120 to 43567\n",
      "Series name: dialect\n",
      "Non-Null Count   Dtype\n",
      "--------------   -----\n",
      "118180 non-null  int64\n",
      "dtypes: int64(1)\n",
      "memory usage: 1.8 MB\n"
     ]
    }
   ],
   "source": [
    "y_train.info()"
   ]
  },
  {
   "cell_type": "code",
   "execution_count": 38,
   "metadata": {},
   "outputs": [],
   "source": [
    "train_data.to_csv('train_data.csv', index=False)"
   ]
  },
  {
   "cell_type": "code",
   "execution_count": 39,
   "metadata": {},
   "outputs": [],
   "source": [
    "test_data.to_csv('test_data.csv', index=False)"
   ]
  },
  {
   "cell_type": "code",
   "execution_count": null,
   "metadata": {},
   "outputs": [],
   "source": []
  }
 ],
 "metadata": {
  "kernelspec": {
   "display_name": "Python 3",
   "language": "python",
   "name": "python3"
  },
  "language_info": {
   "codemirror_mode": {
    "name": "ipython",
    "version": 3
   },
   "file_extension": ".py",
   "mimetype": "text/x-python",
   "name": "python",
   "nbconvert_exporter": "python",
   "pygments_lexer": "ipython3",
   "version": "3.12.0"
  }
 },
 "nbformat": 4,
 "nbformat_minor": 2
}

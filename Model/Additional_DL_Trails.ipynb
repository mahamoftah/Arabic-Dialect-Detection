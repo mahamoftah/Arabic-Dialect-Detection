{
  "nbformat": 4,
  "nbformat_minor": 0,
  "metadata": {
    "colab": {
      "provenance": [],
      "gpuType": "T4"
    },
    "kernelspec": {
      "name": "python3",
      "display_name": "Python 3"
    },
    "language_info": {
      "name": "python"
    },
    "accelerator": "GPU"
  },
  "cells": [
    {
      "cell_type": "code",
      "execution_count": 37,
      "metadata": {
        "id": "jQAFXsfV0Qr1"
      },
      "outputs": [],
      "source": [
        "import pandas as pd\n",
        "from sklearn.pipeline import Pipeline\n",
        "import numpy as np\n",
        "import tensorflow as tf\n",
        "from tensorflow.keras.models import Sequential\n",
        "from tensorflow.keras.layers import Embedding, SimpleRNN, Dense, Dropout\n",
        "from tensorflow.keras.preprocessing.text import Tokenizer\n",
        "from tensorflow.keras.preprocessing.sequence import pad_sequences\n",
        "from sklearn.base import BaseEstimator, TransformerMixin\n",
        "from sklearn.pipeline import Pipeline"
      ]
    },
    {
      "cell_type": "code",
      "source": [
        "country_mapper = {\n",
        "    0 : \"Libya\",\n",
        "    1 : \"Morocco\",\n",
        "    2 : \"Egypt\",\n",
        "    3 : \"Lebanon\",\n",
        "    4 : \"Sudan\"\n",
        "}"
      ],
      "metadata": {
        "id": "QuhPvl4qyklD"
      },
      "execution_count": 2,
      "outputs": []
    },
    {
      "cell_type": "markdown",
      "source": [
        "### **Data Reading**"
      ],
      "metadata": {
        "id": "N7YwRZcwVxKD"
      }
    },
    {
      "cell_type": "code",
      "source": [
        "train_data = pd.read_csv('train_data.csv')\n",
        "test_data = pd.read_csv('test_data.csv')"
      ],
      "metadata": {
        "id": "ovWApVf60ZEw"
      },
      "execution_count": 3,
      "outputs": []
    },
    {
      "cell_type": "code",
      "source": [
        "train_data = train_data.dropna()"
      ],
      "metadata": {
        "id": "I42VNehv2tQa"
      },
      "execution_count": 4,
      "outputs": []
    },
    {
      "cell_type": "code",
      "source": [
        "test_data = test_data.dropna()"
      ],
      "metadata": {
        "id": "YxRIzVHb2uEX"
      },
      "execution_count": 5,
      "outputs": []
    },
    {
      "cell_type": "markdown",
      "source": [
        "### **Data Splitting**"
      ],
      "metadata": {
        "id": "18_-2kBGV5d8"
      }
    },
    {
      "cell_type": "code",
      "source": [
        "x_train, y_train, x_test, y_test = train_data['text'], train_data['dialect'], test_data['text'], test_data['dialect']"
      ],
      "metadata": {
        "id": "MdHZU27O2kBI"
      },
      "execution_count": 6,
      "outputs": []
    },
    {
      "cell_type": "markdown",
      "source": [
        "### **Data Preparation**"
      ],
      "metadata": {
        "id": "CM2tzSQLV-5B"
      }
    },
    {
      "cell_type": "code",
      "source": [
        "tokenizer = Tokenizer()\n",
        "tokenizer.fit_on_texts(x_train)\n",
        "\n",
        "x_train_sequence = tokenizer.texts_to_sequences(x_train)\n",
        "x_test_sequence = tokenizer.texts_to_sequences(x_test)"
      ],
      "metadata": {
        "id": "LVuuNk6M0eBv"
      },
      "execution_count": 7,
      "outputs": []
    },
    {
      "cell_type": "code",
      "source": [
        "max_sequence_len = 100\n",
        "x_train_padded = pad_sequences(x_train_sequence, maxlen=max_sequence_len, padding='post')\n",
        "x_test_padded = pad_sequences(x_test_sequence, maxlen=max_sequence_len, padding='post')"
      ],
      "metadata": {
        "id": "ux1PmPw-0loT"
      },
      "execution_count": 8,
      "outputs": []
    },
    {
      "cell_type": "code",
      "source": [
        "y_train_cat = np.eye(5)[y_train]\n",
        "y_test_cat = np.eye(5)[y_test]"
      ],
      "metadata": {
        "id": "lLi9xg5x0sHl"
      },
      "execution_count": 9,
      "outputs": []
    },
    {
      "cell_type": "code",
      "source": [
        "vocab_size = len(tokenizer.word_index) + 1\n",
        "vocab_size"
      ],
      "metadata": {
        "colab": {
          "base_uri": "https://localhost:8080/"
        },
        "id": "qXIHW07Z0tDJ",
        "outputId": "cce7f824-0f4f-43b6-8c45-08ecbbd51ff5"
      },
      "execution_count": 10,
      "outputs": [
        {
          "output_type": "execute_result",
          "data": {
            "text/plain": [
              "214200"
            ]
          },
          "metadata": {},
          "execution_count": 10
        }
      ]
    },
    {
      "cell_type": "markdown",
      "source": [
        "### **Model Architecture**"
      ],
      "metadata": {
        "id": "VCbhOg3hWHlB"
      }
    },
    {
      "cell_type": "code",
      "source": [
        "model = Sequential([\n",
        "    Embedding(vocab_size, 64),\n",
        "    SimpleRNN(64),\n",
        "    Dense(64, activation='relu'),\n",
        "    Dense(5, activation='softmax')\n",
        "])"
      ],
      "metadata": {
        "id": "wuEEWCqa0wnC"
      },
      "execution_count": 20,
      "outputs": []
    },
    {
      "cell_type": "code",
      "source": [
        "model.compile(optimizer='adam', loss='categorical_crossentropy', metrics=['accuracy'])"
      ],
      "metadata": {
        "id": "2hMvqlao01tT"
      },
      "execution_count": 21,
      "outputs": []
    },
    {
      "cell_type": "code",
      "source": [
        "model.summary()"
      ],
      "metadata": {
        "colab": {
          "base_uri": "https://localhost:8080/"
        },
        "id": "-yNkFTOn3b-O",
        "outputId": "3b9ab7fd-1138-45bd-8aaf-07ce6dc29a95"
      },
      "execution_count": 22,
      "outputs": [
        {
          "output_type": "stream",
          "name": "stdout",
          "text": [
            "Model: \"sequential\"\n",
            "_________________________________________________________________\n",
            " Layer (type)                Output Shape              Param #   \n",
            "=================================================================\n",
            " embedding (Embedding)       (None, None, 64)          13708800  \n",
            "                                                                 \n",
            " simple_rnn (SimpleRNN)      (None, 64)                8256      \n",
            "                                                                 \n",
            " dense (Dense)               (None, 64)                4160      \n",
            "                                                                 \n",
            " dense_1 (Dense)             (None, 5)                 325       \n",
            "                                                                 \n",
            "=================================================================\n",
            "Total params: 13721541 (52.34 MB)\n",
            "Trainable params: 13721541 (52.34 MB)\n",
            "Non-trainable params: 0 (0.00 Byte)\n",
            "_________________________________________________________________\n"
          ]
        }
      ]
    },
    {
      "cell_type": "markdown",
      "source": [
        "### **Model Training**"
      ],
      "metadata": {
        "id": "CNtmjqcAxxQP"
      }
    },
    {
      "cell_type": "code",
      "source": [
        "history = model.fit(x_train_padded, y_train_cat, epochs=10, batch_size=32)"
      ],
      "metadata": {
        "colab": {
          "base_uri": "https://localhost:8080/"
        },
        "id": "ZvXK5yeC06XO",
        "outputId": "176f5ca4-a1d9-44c8-a044-e4a8cec0774f"
      },
      "execution_count": 23,
      "outputs": [
        {
          "output_type": "stream",
          "name": "stdout",
          "text": [
            "Epoch 1/10\n",
            "3693/3693 [==============================] - 1391s 376ms/step - loss: 1.4558 - accuracy: 0.3899\n",
            "Epoch 2/10\n",
            "3693/3693 [==============================] - 1413s 383ms/step - loss: 1.4529 - accuracy: 0.3908\n",
            "Epoch 3/10\n",
            "3693/3693 [==============================] - 1400s 379ms/step - loss: 1.4527 - accuracy: 0.3909\n",
            "Epoch 4/10\n",
            "3693/3693 [==============================] - 1413s 382ms/step - loss: 1.4530 - accuracy: 0.3908\n",
            "Epoch 5/10\n",
            "3693/3693 [==============================] - 1435s 388ms/step - loss: 1.4528 - accuracy: 0.3909\n",
            "Epoch 6/10\n",
            "3693/3693 [==============================] - 1416s 384ms/step - loss: 1.4527 - accuracy: 0.3909\n",
            "Epoch 7/10\n",
            "3693/3693 [==============================] - 1403s 380ms/step - loss: 1.4528 - accuracy: 0.3909\n",
            "Epoch 8/10\n",
            "3693/3693 [==============================] - 1397s 378ms/step - loss: 1.4528 - accuracy: 0.3909\n",
            "Epoch 9/10\n",
            "3693/3693 [==============================] - 1410s 382ms/step - loss: 1.4527 - accuracy: 0.3909\n",
            "Epoch 10/10\n",
            "3693/3693 [==============================] - 1395s 378ms/step - loss: 1.4529 - accuracy: 0.3908\n"
          ]
        }
      ]
    },
    {
      "cell_type": "markdown",
      "source": [
        "### **Model Testing**"
      ],
      "metadata": {
        "id": "HfU_pKhPx1O4"
      }
    },
    {
      "cell_type": "code",
      "source": [
        "test = [\"ازيك عامل ايه\"]"
      ],
      "metadata": {
        "id": "RFtqXWCizY9l"
      },
      "execution_count": 85,
      "outputs": []
    },
    {
      "cell_type": "code",
      "source": [
        "tokenizer.fit_on_texts(test)\n",
        "x_train_sequence = tokenizer.texts_to_sequences(test)\n",
        "x_train_sequence"
      ],
      "metadata": {
        "colab": {
          "base_uri": "https://localhost:8080/"
        },
        "id": "ikUTWsTjtvjq",
        "outputId": "7926f09b-b7dd-4d9f-97f7-9f7f3c05d401"
      },
      "execution_count": 86,
      "outputs": [
        {
          "output_type": "execute_result",
          "data": {
            "text/plain": [
              "[[7258, 7, 2162]]"
            ]
          },
          "metadata": {},
          "execution_count": 86
        }
      ]
    },
    {
      "cell_type": "code",
      "source": [
        "max_sequence_len = 100\n",
        "x_train_padded = pad_sequences(x_train_sequence, maxlen=max_sequence_len, padding='post')\n",
        "x_train_padded"
      ],
      "metadata": {
        "colab": {
          "base_uri": "https://localhost:8080/"
        },
        "id": "OaQOS7twt36L",
        "outputId": "8a8ddaf7-bf2e-45d6-c2e0-a04bc39a65ce"
      },
      "execution_count": 87,
      "outputs": [
        {
          "output_type": "execute_result",
          "data": {
            "text/plain": [
              "array([[7258,    7, 2162,    0,    0,    0,    0,    0,    0,    0,    0,\n",
              "           0,    0,    0,    0,    0,    0,    0,    0,    0,    0,    0,\n",
              "           0,    0,    0,    0,    0,    0,    0,    0,    0,    0,    0,\n",
              "           0,    0,    0,    0,    0,    0,    0,    0,    0,    0,    0,\n",
              "           0,    0,    0,    0,    0,    0,    0,    0,    0,    0,    0,\n",
              "           0,    0,    0,    0,    0,    0,    0,    0,    0,    0,    0,\n",
              "           0,    0,    0,    0,    0,    0,    0,    0,    0,    0,    0,\n",
              "           0,    0,    0,    0,    0,    0,    0,    0,    0,    0,    0,\n",
              "           0,    0,    0,    0,    0,    0,    0,    0,    0,    0,    0,\n",
              "           0]], dtype=int32)"
            ]
          },
          "metadata": {},
          "execution_count": 87
        }
      ]
    },
    {
      "cell_type": "code",
      "source": [
        "pred = model.predict(x_train_padded)"
      ],
      "metadata": {
        "colab": {
          "base_uri": "https://localhost:8080/"
        },
        "id": "NntYpt3wupCm",
        "outputId": "6569c662-ef7c-4768-8331-2132224b60ef"
      },
      "execution_count": 88,
      "outputs": [
        {
          "output_type": "stream",
          "name": "stdout",
          "text": [
            "1/1 [==============================] - 0s 25ms/step\n"
          ]
        }
      ]
    },
    {
      "cell_type": "code",
      "source": [
        "country_mapper[np.argmax(model.predict(x_train_padded), axis=1)[0]]"
      ],
      "metadata": {
        "colab": {
          "base_uri": "https://localhost:8080/",
          "height": 53
        },
        "id": "fL7co1QOuyBb",
        "outputId": "084a7be7-1dbc-4238-9a1e-20fe836b26a4"
      },
      "execution_count": 89,
      "outputs": [
        {
          "output_type": "stream",
          "name": "stdout",
          "text": [
            "1/1 [==============================] - 0s 43ms/step\n"
          ]
        },
        {
          "output_type": "execute_result",
          "data": {
            "text/plain": [
              "'Egypt'"
            ],
            "application/vnd.google.colaboratory.intrinsic+json": {
              "type": "string"
            }
          },
          "metadata": {},
          "execution_count": 89
        }
      ]
    },
    {
      "cell_type": "code",
      "source": [
        "gru_bi = tf.keras.models.Sequential([\n",
        "    tf.keras.layers.Embedding(vocab_size, 64),\n",
        "    tf.keras.layers.Bidirectional(tf.keras.layers.GRU(64, return_sequences=True)),\n",
        "    tf.keras.layers.Bidirectional(tf.keras.layers.GRU(64)),\n",
        "    tf.keras.layers.Dense(64, activation='relu'),\n",
        "    tf.keras.layers.Dense(5, activation='softmax')\n",
        "])"
      ],
      "metadata": {
        "id": "YL4WFAw7wHC1"
      },
      "execution_count": 21,
      "outputs": []
    },
    {
      "cell_type": "code",
      "source": [
        "gru_bi.compile(optimizer='adam', loss='categorical_crossentropy', metrics=['accuracy'])"
      ],
      "metadata": {
        "id": "RFL6aZZd33yS"
      },
      "execution_count": 22,
      "outputs": []
    },
    {
      "cell_type": "code",
      "source": [
        "history = gru_bi.fit(x_train_padded, y_train_cat, epochs=5)"
      ],
      "metadata": {
        "colab": {
          "base_uri": "https://localhost:8080/"
        },
        "id": "9DehwWOf36hi",
        "outputId": "98663639-43ae-4a11-9746-502322a1c498"
      },
      "execution_count": 23,
      "outputs": [
        {
          "output_type": "stream",
          "name": "stdout",
          "text": [
            "Epoch 1/5\n",
            "3693/3693 [==============================] - 129s 33ms/step - loss: 0.5993 - accuracy: 0.7864\n",
            "Epoch 2/5\n",
            "3693/3693 [==============================] - 82s 22ms/step - loss: 0.2269 - accuracy: 0.9271\n",
            "Epoch 3/5\n",
            "3693/3693 [==============================] - 78s 21ms/step - loss: 0.0943 - accuracy: 0.9708\n",
            "Epoch 4/5\n",
            "3693/3693 [==============================] - 79s 21ms/step - loss: 0.0472 - accuracy: 0.9856\n",
            "Epoch 5/5\n",
            "3693/3693 [==============================] - 79s 21ms/step - loss: 0.0270 - accuracy: 0.9913\n"
          ]
        }
      ]
    },
    {
      "cell_type": "code",
      "source": [
        "gru_bi.evaluate(x_test_padded, y_test_cat)"
      ],
      "metadata": {
        "colab": {
          "base_uri": "https://localhost:8080/"
        },
        "id": "NjSNWPGV3_l4",
        "outputId": "617e24bb-9881-4b55-af9d-652cbcd2aae3"
      },
      "execution_count": 26,
      "outputs": [
        {
          "output_type": "stream",
          "name": "stdout",
          "text": [
            "924/924 [==============================] - 9s 9ms/step - loss: 0.8836 - accuracy: 0.8170\n"
          ]
        },
        {
          "output_type": "execute_result",
          "data": {
            "text/plain": [
              "[0.8836421370506287, 0.8169752955436707]"
            ]
          },
          "metadata": {},
          "execution_count": 26
        }
      ]
    },
    {
      "cell_type": "markdown",
      "source": [
        "**Testing**"
      ],
      "metadata": {
        "id": "O1CGdUQaQjwV"
      }
    },
    {
      "cell_type": "code",
      "source": [
        "test = [\"ازيك عامل ايه\"]"
      ],
      "metadata": {
        "id": "xo4YcXX_QqLo"
      },
      "execution_count": 28,
      "outputs": []
    },
    {
      "cell_type": "code",
      "source": [
        "tokenizer.fit_on_texts(test)\n",
        "sequence = tokenizer.texts_to_sequences(test)\n",
        "sequence"
      ],
      "metadata": {
        "colab": {
          "base_uri": "https://localhost:8080/"
        },
        "id": "vpixTptFQUdZ",
        "outputId": "80a87be6-1816-4484-c4f1-9fc0fe7ed96d"
      },
      "execution_count": 29,
      "outputs": [
        {
          "output_type": "execute_result",
          "data": {
            "text/plain": [
              "[[7567, 511, 27]]"
            ]
          },
          "metadata": {},
          "execution_count": 29
        }
      ]
    },
    {
      "cell_type": "code",
      "source": [
        "padded = pad_sequences(sequence, maxlen=max_sequence_len, padding='post')\n",
        "padded"
      ],
      "metadata": {
        "colab": {
          "base_uri": "https://localhost:8080/"
        },
        "id": "TgVFfsn9QugT",
        "outputId": "855bf7aa-a55c-4fde-84f7-203fa15c2d7c"
      },
      "execution_count": 30,
      "outputs": [
        {
          "output_type": "execute_result",
          "data": {
            "text/plain": [
              "array([[7567,  511,   27,    0,    0,    0,    0,    0,    0,    0,    0,\n",
              "           0,    0,    0,    0,    0,    0,    0,    0,    0,    0,    0,\n",
              "           0,    0,    0,    0,    0,    0,    0,    0,    0,    0,    0,\n",
              "           0,    0,    0,    0,    0,    0,    0,    0,    0,    0,    0,\n",
              "           0,    0,    0,    0,    0,    0,    0,    0,    0,    0,    0,\n",
              "           0,    0,    0,    0,    0,    0,    0,    0,    0,    0,    0,\n",
              "           0,    0,    0,    0,    0,    0,    0,    0,    0,    0,    0,\n",
              "           0,    0,    0,    0,    0,    0,    0,    0,    0,    0,    0,\n",
              "           0,    0,    0,    0,    0,    0,    0,    0,    0,    0,    0,\n",
              "           0]], dtype=int32)"
            ]
          },
          "metadata": {},
          "execution_count": 30
        }
      ]
    },
    {
      "cell_type": "code",
      "source": [
        "pred = gru_bi.predict(padded)"
      ],
      "metadata": {
        "colab": {
          "base_uri": "https://localhost:8080/"
        },
        "id": "vDAHumSMQ4de",
        "outputId": "36b4abbc-3847-4db1-b38a-d30515a50b6d"
      },
      "execution_count": 32,
      "outputs": [
        {
          "output_type": "stream",
          "name": "stdout",
          "text": [
            "1/1 [==============================] - 1s 1s/step\n"
          ]
        }
      ]
    },
    {
      "cell_type": "code",
      "source": [
        "pred"
      ],
      "metadata": {
        "colab": {
          "base_uri": "https://localhost:8080/"
        },
        "id": "jkLyatf5RSAf",
        "outputId": "3e719268-b0ef-4c4a-b9c2-48fb8ba09bed"
      },
      "execution_count": 33,
      "outputs": [
        {
          "output_type": "execute_result",
          "data": {
            "text/plain": [
              "array([[0.03950484, 0.02069795, 0.6253492 , 0.30769765, 0.00675031]],\n",
              "      dtype=float32)"
            ]
          },
          "metadata": {},
          "execution_count": 33
        }
      ]
    },
    {
      "cell_type": "code",
      "source": [
        "country_mapper[np.argmax(gru_bi.predict(padded), axis=1)[0]]"
      ],
      "metadata": {
        "colab": {
          "base_uri": "https://localhost:8080/",
          "height": 53
        },
        "id": "GNs_huIFQ9b1",
        "outputId": "db2d9637-7983-4695-83b3-589b686668dc"
      },
      "execution_count": 35,
      "outputs": [
        {
          "output_type": "stream",
          "name": "stdout",
          "text": [
            "1/1 [==============================] - 0s 23ms/step\n"
          ]
        },
        {
          "output_type": "execute_result",
          "data": {
            "text/plain": [
              "'Egypt'"
            ],
            "application/vnd.google.colaboratory.intrinsic+json": {
              "type": "string"
            }
          },
          "metadata": {},
          "execution_count": 35
        }
      ]
    },
    {
      "cell_type": "code",
      "source": [
        "country_mapper[np.argmax(gru_bi.predict(padded), axis=1)[0]]"
      ],
      "metadata": {
        "id": "VLgS9rUARWas"
      },
      "execution_count": null,
      "outputs": []
    },
    {
      "cell_type": "markdown",
      "source": [
        "### **Pipeline**"
      ],
      "metadata": {
        "id": "IHvQYIziR6tV"
      }
    },
    {
      "cell_type": "code",
      "source": [
        "def pipeline(test, tokenizer, max_sequence_len, gru_bi, country_mapper):\n",
        "\n",
        "    sequence = tokenizer.texts_to_sequences(test)\n",
        "    padded = pad_sequences(sequence, maxlen=max_sequence_len, padding='post')\n",
        "    return country_mapper[np.argmax(gru_bi.predict(padded), axis=1)[0]]"
      ],
      "metadata": {
        "id": "FNY1lZclUf5a"
      },
      "execution_count": 46,
      "outputs": []
    },
    {
      "cell_type": "code",
      "source": [
        "pipeline(['كيف حالك يا زول'], tokenizer, max_sequence_len, gru_bi, country_mapper)"
      ],
      "metadata": {
        "colab": {
          "base_uri": "https://localhost:8080/",
          "height": 53
        },
        "id": "1VqZHn3zSa8Y",
        "outputId": "32ad2467-5f98-411c-a668-41dfa803521e"
      },
      "execution_count": 48,
      "outputs": [
        {
          "output_type": "stream",
          "name": "stdout",
          "text": [
            "1/1 [==============================] - 0s 22ms/step\n"
          ]
        },
        {
          "output_type": "execute_result",
          "data": {
            "text/plain": [
              "'Sudan'"
            ],
            "application/vnd.google.colaboratory.intrinsic+json": {
              "type": "string"
            }
          },
          "metadata": {},
          "execution_count": 48
        }
      ]
    },
    {
      "cell_type": "code",
      "source": [
        "pipeline(['ازيك يا مها، عامله ايه'], tokenizer, max_sequence_len, gru_bi, country_mapper)"
      ],
      "metadata": {
        "colab": {
          "base_uri": "https://localhost:8080/",
          "height": 53
        },
        "id": "KOzpzfK8S6Yn",
        "outputId": "7cfe5256-5f65-447d-aaf7-5a51cb3f9a75"
      },
      "execution_count": 50,
      "outputs": [
        {
          "output_type": "stream",
          "name": "stdout",
          "text": [
            "1/1 [==============================] - 0s 23ms/step\n"
          ]
        },
        {
          "output_type": "execute_result",
          "data": {
            "text/plain": [
              "'Egypt'"
            ],
            "application/vnd.google.colaboratory.intrinsic+json": {
              "type": "string"
            }
          },
          "metadata": {},
          "execution_count": 50
        }
      ]
    },
    {
      "cell_type": "code",
      "source": [
        "pipeline([\"كنحس بالعيا فاش منبدا نقرا\"], tokenizer, max_sequence_len, gru_bi, country_mapper)"
      ],
      "metadata": {
        "colab": {
          "base_uri": "https://localhost:8080/",
          "height": 53
        },
        "id": "UVr7nsz1VJOu",
        "outputId": "b8b7538e-e904-4924-d75a-2523d6d82a2b"
      },
      "execution_count": 52,
      "outputs": [
        {
          "output_type": "stream",
          "name": "stdout",
          "text": [
            "1/1 [==============================] - 0s 44ms/step\n"
          ]
        },
        {
          "output_type": "execute_result",
          "data": {
            "text/plain": [
              "'Morocco'"
            ],
            "application/vnd.google.colaboratory.intrinsic+json": {
              "type": "string"
            }
          },
          "metadata": {},
          "execution_count": 52
        }
      ]
    },
    {
      "cell_type": "code",
      "source": [
        "pipeline([\"للي تخاصمه ما تقطعش أحبال اوصاله\"], tokenizer, max_sequence_len, gru_bi, country_mapper)"
      ],
      "metadata": {
        "colab": {
          "base_uri": "https://localhost:8080/",
          "height": 53
        },
        "id": "DfQqsTpCVkB3",
        "outputId": "5635e6c4-2a7f-43d0-e54c-6107d8f58d79"
      },
      "execution_count": 55,
      "outputs": [
        {
          "output_type": "stream",
          "name": "stdout",
          "text": [
            "1/1 [==============================] - 0s 23ms/step\n"
          ]
        },
        {
          "output_type": "execute_result",
          "data": {
            "text/plain": [
              "'Egypt'"
            ],
            "application/vnd.google.colaboratory.intrinsic+json": {
              "type": "string"
            }
          },
          "metadata": {},
          "execution_count": 55
        }
      ]
    },
    {
      "cell_type": "markdown",
      "source": [
        "**logisticRegression know this liban proverb correctly**"
      ],
      "metadata": {
        "id": "eKSwkq1GWaLp"
      }
    },
    {
      "cell_type": "code",
      "source": [
        "pipeline([\"بدّك تبهدل رجّال، فلِّت عليه مرا\"], tokenizer, max_sequence_len, gru_bi, country_mapper)"
      ],
      "metadata": {
        "colab": {
          "base_uri": "https://localhost:8080/",
          "height": 53
        },
        "id": "d5HQLwx2V7sW",
        "outputId": "08d39fbd-68ea-497c-944c-895f254a92d7"
      },
      "execution_count": 54,
      "outputs": [
        {
          "output_type": "stream",
          "name": "stdout",
          "text": [
            "1/1 [==============================] - 0s 32ms/step\n"
          ]
        },
        {
          "output_type": "execute_result",
          "data": {
            "text/plain": [
              "'Lebanon'"
            ],
            "application/vnd.google.colaboratory.intrinsic+json": {
              "type": "string"
            }
          },
          "metadata": {},
          "execution_count": 54
        }
      ]
    },
    {
      "cell_type": "code",
      "source": [],
      "metadata": {
        "id": "7PI_tNFfWIoQ"
      },
      "execution_count": null,
      "outputs": []
    }
  ]
}
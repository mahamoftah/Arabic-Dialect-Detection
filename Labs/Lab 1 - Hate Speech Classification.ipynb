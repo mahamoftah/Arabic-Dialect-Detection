{
 "cells": [
  {
   "cell_type": "markdown",
   "metadata": {
    "id": "ySsIPBRiorxK"
   },
   "source": [
    "**Dataset**\n",
    "labeled datasset collected from twitter (Lab 1 - Hate Speech.tsv)\n",
    "\n",
    "**Objective**\n",
    "classify tweets containing hate speech from other tweets. <br>\n",
    "0 -> no hate speech <br>\n",
    "1 -> contains hate speech <br>\n",
    "\n",
    "**Total Estimated Time = 90-120 Mins**\n",
    "\n",
    "**Evaluation metric**\n",
    "macro f1 score"
   ]
  },
  {
   "cell_type": "markdown",
   "metadata": {
    "id": "v-6lrKz6orxT"
   },
   "source": [
    "### Import used libraries"
   ]
  },
  {
   "cell_type": "code",
   "execution_count": 3,
   "metadata": {},
   "outputs": [
    {
     "name": "stderr",
     "output_type": "stream",
     "text": [
      "c:\\Users\\maham\\AppData\\Local\\Programs\\Python\\Python312\\Lib\\site-packages\\tqdm\\auto.py:21: TqdmWarning: IProgress not found. Please update jupyter and ipywidgets. See https://ipywidgets.readthedocs.io/en/stable/user_install.html\n",
      "  from .autonotebook import tqdm as notebook_tqdm\n"
     ]
    }
   ],
   "source": [
    "from sklearn.model_selection import train_test_split\n",
    "from sklearn.linear_model import LogisticRegression\n",
    "from sklearn.feature_extraction.text import CountVectorizer, TfidfVectorizer\n",
    "import re\n",
    "import string\n",
    "from sklearn.metrics import f1_score\n",
    "from sklearn.model_selection import cross_val_score\n",
    "import optuna\n",
    "import tqdm\n",
    "import spacy\n",
    "import gensim\n",
    "from gensim.models import word2vec\n",
    "from gensim.models import KeyedVectors"
   ]
  },
  {
   "cell_type": "code",
   "execution_count": 4,
   "metadata": {
    "id": "eXUPo3g4orxV"
   },
   "outputs": [],
   "source": [
    "import pandas as pd\n",
    "pd.set_option('display.max_rows', 500)\n",
    "pd.set_option('display.max_colwidth', 500)"
   ]
  },
  {
   "cell_type": "markdown",
   "metadata": {
    "id": "fG8MkuvjorxX"
   },
   "source": [
    "### Load Dataset"
   ]
  },
  {
   "cell_type": "markdown",
   "metadata": {},
   "source": [
    "###### Note: search how to load the data from tsv file"
   ]
  },
  {
   "cell_type": "code",
   "execution_count": 5,
   "metadata": {
    "id": "BYeqhp66orxY"
   },
   "outputs": [
    {
     "data": {
      "text/html": [
       "<div>\n",
       "<style scoped>\n",
       "    .dataframe tbody tr th:only-of-type {\n",
       "        vertical-align: middle;\n",
       "    }\n",
       "\n",
       "    .dataframe tbody tr th {\n",
       "        vertical-align: top;\n",
       "    }\n",
       "\n",
       "    .dataframe thead th {\n",
       "        text-align: right;\n",
       "    }\n",
       "</style>\n",
       "<table border=\"1\" class=\"dataframe\">\n",
       "  <thead>\n",
       "    <tr style=\"text-align: right;\">\n",
       "      <th></th>\n",
       "      <th>id</th>\n",
       "      <th>label</th>\n",
       "      <th>tweet</th>\n",
       "    </tr>\n",
       "  </thead>\n",
       "  <tbody>\n",
       "    <tr>\n",
       "      <th>0</th>\n",
       "      <td>1</td>\n",
       "      <td>0</td>\n",
       "      <td>@user when a father is dysfunctional and is so selfish he drags his kids into his dysfunction.   #run</td>\n",
       "    </tr>\n",
       "    <tr>\n",
       "      <th>1</th>\n",
       "      <td>2</td>\n",
       "      <td>0</td>\n",
       "      <td>@user @user thanks for #lyft credit i can't use cause they don't offer wheelchair vans in pdx.    #disapointed #getthanked</td>\n",
       "    </tr>\n",
       "    <tr>\n",
       "      <th>2</th>\n",
       "      <td>3</td>\n",
       "      <td>0</td>\n",
       "      <td>bihday your majesty</td>\n",
       "    </tr>\n",
       "    <tr>\n",
       "      <th>3</th>\n",
       "      <td>4</td>\n",
       "      <td>0</td>\n",
       "      <td>#model   i love u take with u all the time in urð±!!! ððððð¦ð¦ð¦</td>\n",
       "    </tr>\n",
       "    <tr>\n",
       "      <th>4</th>\n",
       "      <td>5</td>\n",
       "      <td>0</td>\n",
       "      <td>factsguide: society now    #motivation</td>\n",
       "    </tr>\n",
       "  </tbody>\n",
       "</table>\n",
       "</div>"
      ],
      "text/plain": [
       "   id  label  \\\n",
       "0   1      0   \n",
       "1   2      0   \n",
       "2   3      0   \n",
       "3   4      0   \n",
       "4   5      0   \n",
       "\n",
       "                                                                                                                        tweet  \n",
       "0                       @user when a father is dysfunctional and is so selfish he drags his kids into his dysfunction.   #run  \n",
       "1  @user @user thanks for #lyft credit i can't use cause they don't offer wheelchair vans in pdx.    #disapointed #getthanked  \n",
       "2                                                                                                         bihday your majesty  \n",
       "3                                        #model   i love u take with u all the time in urð±!!! ðððð\n",
       "ð¦ð¦ð¦  \n",
       "4                                                                                      factsguide: society now    #motivation  "
      ]
     },
     "execution_count": 5,
     "metadata": {},
     "output_type": "execute_result"
    }
   ],
   "source": [
    "df = pd.read_csv(\"Lab 1 - Hate Speech.tsv\", sep= \"\\t\")\n",
    "df.head()"
   ]
  },
  {
   "cell_type": "markdown",
   "metadata": {},
   "source": [
    "### Data splitting"
   ]
  },
  {
   "cell_type": "markdown",
   "metadata": {},
   "source": [
    "It is a good practice to split the data before EDA helps maintain the integrity of the machine learning process, prevents data leakage, simulates real-world scenarios more accurately, and ensures reliable model performance evaluation on unseen data."
   ]
  },
  {
   "cell_type": "code",
   "execution_count": 6,
   "metadata": {},
   "outputs": [],
   "source": [
    "x = df.tweet"
   ]
  },
  {
   "cell_type": "code",
   "execution_count": 7,
   "metadata": {},
   "outputs": [],
   "source": [
    "y = df.label"
   ]
  },
  {
   "cell_type": "code",
   "execution_count": 8,
   "metadata": {},
   "outputs": [],
   "source": [
    "x_train, x_test, y_train, y_test = train_test_split(x, y, test_size=0.2, random_state=0)"
   ]
  },
  {
   "cell_type": "code",
   "execution_count": 9,
   "metadata": {},
   "outputs": [
    {
     "data": {
      "text/plain": [
       "18275              @user you were my childhood, why are you suppoing those who want to maintain a tax advantage over first time buyers?  \n",
       "7544     note for those who call #wn  for opposing the latest @user ad: damn right we are! get that filth off the net, you race-traitors-\n",
       "18342                                                                                                    i almost always trust brazilians\n",
       "20301                                                  people want to love in the moment, they don't want that forever love ð¯ #truth  \n",
       "15034                                                                    set of 6 glass ... gbp 24.99 get here:  #shop #cool   #home #fun\n",
       "Name: tweet, dtype: object"
      ]
     },
     "execution_count": 9,
     "metadata": {},
     "output_type": "execute_result"
    }
   ],
   "source": [
    "x_train.head()"
   ]
  },
  {
   "cell_type": "markdown",
   "metadata": {
    "id": "hqWVKi_GorxZ"
   },
   "source": [
    "### EDA on training data"
   ]
  },
  {
   "cell_type": "code",
   "execution_count": 10,
   "metadata": {},
   "outputs": [
    {
     "name": "stdout",
     "output_type": "stream",
     "text": [
      "<class 'pandas.core.series.Series'>\n",
      "Index: 25228 entries, 18275 to 2732\n",
      "Series name: tweet\n",
      "Non-Null Count  Dtype \n",
      "--------------  ----- \n",
      "25228 non-null  object\n",
      "dtypes: object(1)\n",
      "memory usage: 394.2+ KB\n"
     ]
    }
   ],
   "source": [
    "x_train.info()"
   ]
  },
  {
   "cell_type": "markdown",
   "metadata": {
    "id": "R1zxJpFxorxa"
   },
   "source": [
    "- check NaNs"
   ]
  },
  {
   "cell_type": "code",
   "execution_count": 11,
   "metadata": {
    "id": "HVEttSujorxa"
   },
   "outputs": [
    {
     "data": {
      "text/plain": [
       "0"
      ]
     },
     "execution_count": 11,
     "metadata": {},
     "output_type": "execute_result"
    }
   ],
   "source": [
    "x_train.isnull().sum()"
   ]
  },
  {
   "cell_type": "markdown",
   "metadata": {
    "id": "UwjbzVaIorxb"
   },
   "source": [
    "- check duplicates"
   ]
  },
  {
   "cell_type": "code",
   "execution_count": 12,
   "metadata": {
    "id": "J_FlBWISorxb"
   },
   "outputs": [
    {
     "data": {
      "text/plain": [
       "1832"
      ]
     },
     "execution_count": 12,
     "metadata": {},
     "output_type": "execute_result"
    }
   ],
   "source": [
    "x_train.duplicated().sum()"
   ]
  },
  {
   "cell_type": "code",
   "execution_count": 13,
   "metadata": {},
   "outputs": [
    {
     "data": {
      "text/plain": [
       "9280                             #model   i love u take with u all the time in urð±!!! ðððð\n",
       "ð¦ð¦ð¦\n",
       "27552                            #model   i love u take with u all the time in urð±!!! ðððð\n",
       "ð¦ð¦ð¦\n",
       "16238                           #flagday2016   #flag #day #2016 #(30 #photos) buy things about \"flag day 2016\": â¦  \n",
       "30272               @user #feminismiscancer #feminismisterrorism #feminismmuktbharat why  #malevote is ignored  @user\n",
       "21290              i finally found a way how to delete old tweets! you might find it useful as well:    #deletetweets\n",
       "                                                             ...                                                     \n",
       "19721                     ð #smile #smiling top.tags #toptags #smiles #beautifulsmile #smiley #smilee #pretty  â¦\n",
       "797                              #model   i love u take with u all the time in urð±!!! ðððð\n",
       "ð¦ð¦ð¦\n",
       "7599     #zaynmalik   bull up: you will dominate your bull and you will direct it whatever you want it to do. when yo\n",
       "26277                                            @user you might be a libtard if... #libtard  #sjw #liberal #politics\n",
       "30403                          can #lighttherapy help with   or #depression?    #altwaystoheal  #healthy is #happy !!\n",
       "Name: tweet, Length: 1832, dtype: object"
      ]
     },
     "execution_count": 13,
     "metadata": {},
     "output_type": "execute_result"
    }
   ],
   "source": [
    "duplicates = x_train[x_train.duplicated()]\n",
    "duplicates"
   ]
  },
  {
   "cell_type": "markdown",
   "metadata": {
    "id": "YjIBFc35orxc"
   },
   "source": [
    "- show a representative sample of data texts to find out required preprocessing steps"
   ]
  },
  {
   "cell_type": "code",
   "execution_count": 14,
   "metadata": {
    "id": "zGFKzSCRorxc"
   },
   "outputs": [
    {
     "data": {
      "text/plain": [
       "18275                      @user you were my childhood, why are you suppoing those who want to maintain a tax advantage over first time buyers?  \n",
       "7544             note for those who call #wn  for opposing the latest @user ad: damn right we are! get that filth off the net, you race-traitors-\n",
       "18342                                                                                                            i almost always trust brazilians\n",
       "20301                                                          people want to love in the moment, they don't want that forever love ð¯ #truth  \n",
       "15034                                                                            set of 6 glass ... gbp 24.99 get here:  #shop #cool   #home #fun\n",
       "23579                                          thank you very much for the s!!! :) :)  @user @user @user    fridayeveryone!   #friday! friday! :)\n",
       "15981                                                                                                                       just   from the hill:\n",
       "1658                                            keep your #marriage #healthy &amp;  ! watch for these 4 signs of problematic conflict   via @user\n",
       "6644                                                                                                              sex stories girl gone wild nude\n",
       "6304                                                               â #cad: holding on to gains for this week - bbh   #blog #silver #gold #forex\n",
       "11355                                                                                         #bestie came to watch aiden play today!   @ the pac\n",
       "28186                                                                                                             what #millennials think about :\n",
       "27097                                            @user not racing so a nice big and fun @user ride is on the cards   #exploring #fitness #healthy\n",
       "13284                                                                                                      i am safe.#i_am #positive #affirmation\n",
       "29145    this orlando shooting is fishy to me. since when do police raid a place in 3 hours? 50 people seems like a lot dead, from one shooter.  \n",
       "7834                                                                      #ojmadeinamerica just reminds us of the biggest fall in america history\n",
       "11774                                               because i finally got #hamiltontickets &amp; i'm just so   @user @user #a #watercolor #writer\n",
       "17523                                @user @user @user who cares? with all the things going on in the world today u think this stupidity matters?\n",
       "15862                                #dreamcatcher   bull up: you will dominate your bull and you will direct it whatever you want it to do. when\n",
       "28674              @user it's a serious problem. even salvadoran sposcaster are bias against mexico   we should be promoting ð not hate httâ¦\n",
       "Name: tweet, dtype: object"
      ]
     },
     "execution_count": 14,
     "metadata": {},
     "output_type": "execute_result"
    }
   ],
   "source": [
    "x_train.head(20)"
   ]
  },
  {
   "cell_type": "markdown",
   "metadata": {
    "id": "UqdSUtbdorxd"
   },
   "source": [
    "- check dataset balancing"
   ]
  },
  {
   "cell_type": "code",
   "execution_count": 15,
   "metadata": {
    "id": "JBHrSvXhorxd"
   },
   "outputs": [
    {
     "data": {
      "text/plain": [
       "array([0, 1], dtype=int64)"
      ]
     },
     "execution_count": 15,
     "metadata": {},
     "output_type": "execute_result"
    }
   ],
   "source": [
    "y_train.unique()"
   ]
  },
  {
   "cell_type": "code",
   "execution_count": 16,
   "metadata": {},
   "outputs": [
    {
     "data": {
      "text/plain": [
       "23467"
      ]
     },
     "execution_count": 16,
     "metadata": {},
     "output_type": "execute_result"
    }
   ],
   "source": [
    "y_train[y_train == 0].count()"
   ]
  },
  {
   "cell_type": "code",
   "execution_count": 17,
   "metadata": {},
   "outputs": [
    {
     "data": {
      "text/plain": [
       "(23467, 1761)"
      ]
     },
     "execution_count": 17,
     "metadata": {},
     "output_type": "execute_result"
    }
   ],
   "source": [
    "not_hate = y_train[y_train == 0].count()\n",
    "hate = y_train[y_train == 1].count()\n",
    "not_hate, hate"
   ]
  },
  {
   "cell_type": "markdown",
   "metadata": {
    "id": "x3wl_crkorxd"
   },
   "source": [
    "- Cleaning and Preprocessing are:\n",
    "    - Drop Duplicates\n",
    "    - Remove some of special characters and emojis.\n",
    "       - Remove =>      @user, #, &, -, _, :, ?, \",\"\n",
    "       - keep   =>      !, :)\n",
    "    - 3\n",
    "    - ... etc."
   ]
  },
  {
   "cell_type": "markdown",
   "metadata": {
    "id": "XyJkqK9gorxe"
   },
   "source": [
    "### Cleaning and Preprocessing"
   ]
  },
  {
   "cell_type": "markdown",
   "metadata": {
    "tags": []
   },
   "source": [
    "#### Extra: use custom scikit-learn Transformers"
   ]
  },
  {
   "cell_type": "markdown",
   "metadata": {},
   "source": [
    "Using custom transformers in scikit-learn provides flexibility, reusability, and control over the data transformation process, allowing you to seamlessly integrate with scikit-learn's pipelines, enabling you to combine multiple preprocessing steps and modeling into a single workflow. This makes your code more modular, readable, and easier to maintain."
   ]
  },
  {
   "cell_type": "markdown",
   "metadata": {
    "tags": []
   },
   "source": [
    "##### link: https://www.andrewvillazon.com/custom-scikit-learn-transformers/"
   ]
  },
  {
   "cell_type": "markdown",
   "metadata": {},
   "source": [
    "#### Example usage:"
   ]
  },
  {
   "cell_type": "code",
   "execution_count": 18,
   "metadata": {},
   "outputs": [],
   "source": [
    "from sklearn.base import BaseEstimator, TransformerMixin\n",
    "\n",
    "class CustomTransformer():\n",
    "    def __init__(self):\n",
    "        pass\n",
    "\n",
    "    def fit(self, X, y=None):\n",
    "        # Add code for fitting the transformer here\n",
    "        return self\n",
    "   \n",
    "    def transform(self, X):\n",
    "        # Add code for transforming the data here\n",
    "        transformed_X = X.copy()\n",
    "        transformed_X = transformed_X.apply(self.preprocess)\n",
    "        return transformed_X\n",
    "   \n",
    "    def preprocess(self, text):\n",
    "\n",
    "        text = text.lower()\n",
    "        \n",
    "        # removed @ and #\n",
    "        text = re.sub(r'\\@\\w+|\\#','', text)\n",
    "\n",
    "        # i removed punctions but kept ! because i think it may express about angry speech\n",
    "        punctuation = string.punctuation.replace('!', '')\n",
    "        text = text.translate(str.maketrans(' ', ' ', punctuation)) \n",
    "        \n",
    "        # here i removed the numbers\n",
    "        text = re.sub(r'\\d+', '', text)\n",
    "        \n",
    "        text = text.strip()\n",
    "        \n",
    "        preprocessed_text = re.sub(r'\\s+', ' ', text)\n",
    "    \n",
    "        return preprocessed_text\n",
    "   \n",
    "    def fit_transform(self, X, y=None):\n",
    "        # This function combines fit and transform\n",
    "        self.fit(X, y)\n",
    "        return self.transform(X)"
   ]
  },
  {
   "cell_type": "code",
   "execution_count": 19,
   "metadata": {},
   "outputs": [],
   "source": [
    "combined = pd.concat([x_train, y_train], axis=1)"
   ]
  },
  {
   "cell_type": "code",
   "execution_count": 20,
   "metadata": {},
   "outputs": [
    {
     "data": {
      "text/plain": [
       "1832"
      ]
     },
     "execution_count": 20,
     "metadata": {},
     "output_type": "execute_result"
    }
   ],
   "source": [
    "combined.duplicated().sum()"
   ]
  },
  {
   "cell_type": "code",
   "execution_count": 21,
   "metadata": {},
   "outputs": [],
   "source": [
    "combined = combined.drop_duplicates()"
   ]
  },
  {
   "cell_type": "code",
   "execution_count": 22,
   "metadata": {},
   "outputs": [
    {
     "data": {
      "text/plain": [
       "0"
      ]
     },
     "execution_count": 22,
     "metadata": {},
     "output_type": "execute_result"
    }
   ],
   "source": [
    "combined.duplicated().sum()"
   ]
  },
  {
   "cell_type": "code",
   "execution_count": 23,
   "metadata": {},
   "outputs": [
    {
     "data": {
      "text/plain": [
       "18275              @user you were my childhood, why are you suppoing those who want to maintain a tax advantage over first time buyers?  \n",
       "7544     note for those who call #wn  for opposing the latest @user ad: damn right we are! get that filth off the net, you race-traitors-\n",
       "18342                                                                                                    i almost always trust brazilians\n",
       "20301                                                  people want to love in the moment, they don't want that forever love ð¯ #truth  \n",
       "15034                                                                    set of 6 glass ... gbp 24.99 get here:  #shop #cool   #home #fun\n",
       "                                                                       ...                                                               \n",
       "13123                                                   all ready to pay xx #saturday #daughter #love #pay #igers #instagood   #goodtimes\n",
       "19648                                           spend the afternoon. you can't take it with you.    #positive #goodvibes #memyselfandiâ¦\n",
       "9845                                                           a different type of recipe, but one that is easy to make - #walk #think   \n",
       "10799                                                                                        jon just ran over a squirrel ð #done #wtf\n",
       "2732                                        @user not all control battles are loud and  . they can be soft and #suppoive, too:  via @user\n",
       "Name: tweet, Length: 23396, dtype: object"
      ]
     },
     "execution_count": 23,
     "metadata": {},
     "output_type": "execute_result"
    }
   ],
   "source": [
    "combined.iloc[:, 0]"
   ]
  },
  {
   "cell_type": "code",
   "execution_count": 24,
   "metadata": {},
   "outputs": [],
   "source": [
    "x_train = combined.iloc[:, 0]\n",
    "y_train = combined.iloc[:, 1]"
   ]
  },
  {
   "cell_type": "markdown",
   "metadata": {
    "id": "ba0r1ASHorxf"
   },
   "source": [
    "**You  are doing Great so far!**"
   ]
  },
  {
   "cell_type": "markdown",
   "metadata": {
    "id": "R9BhRQbYorxf"
   },
   "source": [
    "### Modelling"
   ]
  },
  {
   "cell_type": "markdown",
   "metadata": {
    "id": "Au1FYDPzorxg"
   },
   "source": [
    "#### Extra: use scikit-learn pipline"
   ]
  },
  {
   "cell_type": "markdown",
   "metadata": {},
   "source": [
    "##### link: https://scikit-learn.org/stable/modules/generated/sklearn.pipeline.Pipeline.html"
   ]
  },
  {
   "cell_type": "markdown",
   "metadata": {},
   "source": [
    "Using pipelines in scikit-learn promotes better code organization, reproducibility, and efficiency in machine learning workflows."
   ]
  },
  {
   "cell_type": "markdown",
   "metadata": {
    "id": "LP5FZzmborxg"
   },
   "source": [
    "#### Example usage:"
   ]
  },
  {
   "cell_type": "code",
   "execution_count": 25,
   "metadata": {
    "tags": []
   },
   "outputs": [],
   "source": [
    "from sklearn.pipeline import Pipeline\n",
    "\n",
    "model = LogisticRegression()\n",
    "\n",
    "# Create the pipeline\n",
    "pipeline = Pipeline(steps=[\n",
    "    ('preprocessing', CustomTransformer()),\n",
    "    ('Vectorizing', CountVectorizer()),\n",
    "    ('model', model),\n",
    "])\n",
    "\n",
    "# Now you can use the pipeline for training and prediction\n",
    "# pipeline.fit(X_train, y_train)\n",
    "# pipeline.predict(X_test)"
   ]
  },
  {
   "cell_type": "code",
   "execution_count": 26,
   "metadata": {},
   "outputs": [
    {
     "data": {
      "text/html": [
       "<style>#sk-container-id-1 {color: black;}#sk-container-id-1 pre{padding: 0;}#sk-container-id-1 div.sk-toggleable {background-color: white;}#sk-container-id-1 label.sk-toggleable__label {cursor: pointer;display: block;width: 100%;margin-bottom: 0;padding: 0.3em;box-sizing: border-box;text-align: center;}#sk-container-id-1 label.sk-toggleable__label-arrow:before {content: \"▸\";float: left;margin-right: 0.25em;color: #696969;}#sk-container-id-1 label.sk-toggleable__label-arrow:hover:before {color: black;}#sk-container-id-1 div.sk-estimator:hover label.sk-toggleable__label-arrow:before {color: black;}#sk-container-id-1 div.sk-toggleable__content {max-height: 0;max-width: 0;overflow: hidden;text-align: left;background-color: #f0f8ff;}#sk-container-id-1 div.sk-toggleable__content pre {margin: 0.2em;color: black;border-radius: 0.25em;background-color: #f0f8ff;}#sk-container-id-1 input.sk-toggleable__control:checked~div.sk-toggleable__content {max-height: 200px;max-width: 100%;overflow: auto;}#sk-container-id-1 input.sk-toggleable__control:checked~label.sk-toggleable__label-arrow:before {content: \"▾\";}#sk-container-id-1 div.sk-estimator input.sk-toggleable__control:checked~label.sk-toggleable__label {background-color: #d4ebff;}#sk-container-id-1 div.sk-label input.sk-toggleable__control:checked~label.sk-toggleable__label {background-color: #d4ebff;}#sk-container-id-1 input.sk-hidden--visually {border: 0;clip: rect(1px 1px 1px 1px);clip: rect(1px, 1px, 1px, 1px);height: 1px;margin: -1px;overflow: hidden;padding: 0;position: absolute;width: 1px;}#sk-container-id-1 div.sk-estimator {font-family: monospace;background-color: #f0f8ff;border: 1px dotted black;border-radius: 0.25em;box-sizing: border-box;margin-bottom: 0.5em;}#sk-container-id-1 div.sk-estimator:hover {background-color: #d4ebff;}#sk-container-id-1 div.sk-parallel-item::after {content: \"\";width: 100%;border-bottom: 1px solid gray;flex-grow: 1;}#sk-container-id-1 div.sk-label:hover label.sk-toggleable__label {background-color: #d4ebff;}#sk-container-id-1 div.sk-serial::before {content: \"\";position: absolute;border-left: 1px solid gray;box-sizing: border-box;top: 0;bottom: 0;left: 50%;z-index: 0;}#sk-container-id-1 div.sk-serial {display: flex;flex-direction: column;align-items: center;background-color: white;padding-right: 0.2em;padding-left: 0.2em;position: relative;}#sk-container-id-1 div.sk-item {position: relative;z-index: 1;}#sk-container-id-1 div.sk-parallel {display: flex;align-items: stretch;justify-content: center;background-color: white;position: relative;}#sk-container-id-1 div.sk-item::before, #sk-container-id-1 div.sk-parallel-item::before {content: \"\";position: absolute;border-left: 1px solid gray;box-sizing: border-box;top: 0;bottom: 0;left: 50%;z-index: -1;}#sk-container-id-1 div.sk-parallel-item {display: flex;flex-direction: column;z-index: 1;position: relative;background-color: white;}#sk-container-id-1 div.sk-parallel-item:first-child::after {align-self: flex-end;width: 50%;}#sk-container-id-1 div.sk-parallel-item:last-child::after {align-self: flex-start;width: 50%;}#sk-container-id-1 div.sk-parallel-item:only-child::after {width: 0;}#sk-container-id-1 div.sk-dashed-wrapped {border: 1px dashed gray;margin: 0 0.4em 0.5em 0.4em;box-sizing: border-box;padding-bottom: 0.4em;background-color: white;}#sk-container-id-1 div.sk-label label {font-family: monospace;font-weight: bold;display: inline-block;line-height: 1.2em;}#sk-container-id-1 div.sk-label-container {text-align: center;}#sk-container-id-1 div.sk-container {/* jupyter's `normalize.less` sets `[hidden] { display: none; }` but bootstrap.min.css set `[hidden] { display: none !important; }` so we also need the `!important` here to be able to override the default hidden behavior on the sphinx rendered scikit-learn.org. See: https://github.com/scikit-learn/scikit-learn/issues/21755 */display: inline-block !important;position: relative;}#sk-container-id-1 div.sk-text-repr-fallback {display: none;}</style><div id=\"sk-container-id-1\" class=\"sk-top-container\"><div class=\"sk-text-repr-fallback\"><pre>Pipeline(steps=[(&#x27;preprocessing&#x27;,\n",
       "                 &lt;__main__.CustomTransformer object at 0x000001D2A6DD5A00&gt;),\n",
       "                (&#x27;Vectorizing&#x27;, CountVectorizer()),\n",
       "                (&#x27;model&#x27;, LogisticRegression())])</pre><b>In a Jupyter environment, please rerun this cell to show the HTML representation or trust the notebook. <br />On GitHub, the HTML representation is unable to render, please try loading this page with nbviewer.org.</b></div><div class=\"sk-container\" hidden><div class=\"sk-item sk-dashed-wrapped\"><div class=\"sk-label-container\"><div class=\"sk-label sk-toggleable\"><input class=\"sk-toggleable__control sk-hidden--visually\" id=\"sk-estimator-id-1\" type=\"checkbox\" ><label for=\"sk-estimator-id-1\" class=\"sk-toggleable__label sk-toggleable__label-arrow\">Pipeline</label><div class=\"sk-toggleable__content\"><pre>Pipeline(steps=[(&#x27;preprocessing&#x27;,\n",
       "                 &lt;__main__.CustomTransformer object at 0x000001D2A6DD5A00&gt;),\n",
       "                (&#x27;Vectorizing&#x27;, CountVectorizer()),\n",
       "                (&#x27;model&#x27;, LogisticRegression())])</pre></div></div></div><div class=\"sk-serial\"><div class=\"sk-item\"><div class=\"sk-estimator sk-toggleable\"><input class=\"sk-toggleable__control sk-hidden--visually\" id=\"sk-estimator-id-2\" type=\"checkbox\" ><label for=\"sk-estimator-id-2\" class=\"sk-toggleable__label sk-toggleable__label-arrow\">CustomTransformer</label><div class=\"sk-toggleable__content\"><pre>&lt;__main__.CustomTransformer object at 0x000001D2A6DD5A00&gt;</pre></div></div></div><div class=\"sk-item\"><div class=\"sk-estimator sk-toggleable\"><input class=\"sk-toggleable__control sk-hidden--visually\" id=\"sk-estimator-id-3\" type=\"checkbox\" ><label for=\"sk-estimator-id-3\" class=\"sk-toggleable__label sk-toggleable__label-arrow\">CountVectorizer</label><div class=\"sk-toggleable__content\"><pre>CountVectorizer()</pre></div></div></div><div class=\"sk-item\"><div class=\"sk-estimator sk-toggleable\"><input class=\"sk-toggleable__control sk-hidden--visually\" id=\"sk-estimator-id-4\" type=\"checkbox\" ><label for=\"sk-estimator-id-4\" class=\"sk-toggleable__label sk-toggleable__label-arrow\">LogisticRegression</label><div class=\"sk-toggleable__content\"><pre>LogisticRegression()</pre></div></div></div></div></div></div></div>"
      ],
      "text/plain": [
       "Pipeline(steps=[('preprocessing',\n",
       "                 <__main__.CustomTransformer object at 0x000001D2A6DD5A00>),\n",
       "                ('Vectorizing', CountVectorizer()),\n",
       "                ('model', LogisticRegression())])"
      ]
     },
     "execution_count": 26,
     "metadata": {},
     "output_type": "execute_result"
    }
   ],
   "source": [
    "pipeline.fit(x_train, y_train)"
   ]
  },
  {
   "cell_type": "code",
   "execution_count": 27,
   "metadata": {},
   "outputs": [],
   "source": [
    "predictions = pipeline.predict(x_test)"
   ]
  },
  {
   "cell_type": "markdown",
   "metadata": {
    "id": "85JlkIQXorxg"
   },
   "source": [
    "#### Evaluation"
   ]
  },
  {
   "cell_type": "markdown",
   "metadata": {},
   "source": [
    "**Evaluation metric:**\n",
    "macro f1 score\n",
    "\n",
    "Macro F1 score is a useful metric in scenarios where you want to evaluate the overall performance of a multi-class classification model, **particularly when the classes are imbalanced**"
   ]
  },
  {
   "cell_type": "markdown",
   "metadata": {},
   "source": [
    "![Calculation](https://assets-global.website-files.com/5d7b77b063a9066d83e1209c/639c3d934e82c1195cdf3c60_macro-f1.webp)"
   ]
  },
  {
   "cell_type": "code",
   "execution_count": 29,
   "metadata": {},
   "outputs": [
    {
     "data": {
      "text/plain": [
       "0.8040956691515797"
      ]
     },
     "execution_count": 29,
     "metadata": {},
     "output_type": "execute_result"
    }
   ],
   "source": [
    "f1_score(y_test, predictions, average='macro')"
   ]
  },
  {
   "cell_type": "markdown",
   "metadata": {
    "id": "fhVFUaIcorxh"
   },
   "source": [
    "### Enhancement\n",
    "\n",
    "- Using different N-grams\n",
    "- Using different text representation technique\n",
    "- Hyperparameter tuning"
   ]
  },
  {
   "cell_type": "markdown",
   "metadata": {},
   "source": [
    "**N_Grams**"
   ]
  },
  {
   "cell_type": "code",
   "execution_count": 30,
   "metadata": {
    "id": "Y4h1Danvorxh"
   },
   "outputs": [
    {
     "data": {
      "text/plain": [
       "0.7763281261733274"
      ]
     },
     "execution_count": 30,
     "metadata": {},
     "output_type": "execute_result"
    }
   ],
   "source": [
    "pipeline1 = Pipeline(steps=[\n",
    "    ('preprocessing', CustomTransformer()),\n",
    "    ('Vectorizing', CountVectorizer(ngram_range=(1, 4))),\n",
    "    ('model', model),\n",
    "])\n",
    "\n",
    "pipeline1.fit(x_train, y_train)\n",
    "predictions = pipeline1.predict(x_test)\n",
    "\n",
    "f1_score(y_test, predictions, average='macro')"
   ]
  },
  {
   "cell_type": "markdown",
   "metadata": {},
   "source": [
    "**Another Text Representation Techniques**\n",
    "- Spacy\n",
    "- Gensem"
   ]
  },
  {
   "cell_type": "code",
   "execution_count": null,
   "metadata": {},
   "outputs": [],
   "source": [
    "nlp = spacy.load('en_core_web_md')"
   ]
  },
  {
   "cell_type": "markdown",
   "metadata": {},
   "source": [
    "**Use Optuna To Tune Hyperparameters**"
   ]
  },
  {
   "cell_type": "code",
   "execution_count": 56,
   "metadata": {},
   "outputs": [
    {
     "name": "stderr",
     "output_type": "stream",
     "text": [
      "[I 2024-05-23 09:46:00,902] A new study created in memory with name: no-name-e8220931-cc92-4b9a-b747-6300fc6e4077\n",
      "C:\\Users\\maham\\AppData\\Local\\Temp\\ipykernel_20880\\901958678.py:2: FutureWarning: suggest_loguniform has been deprecated in v3.0.0. This feature will be removed in v6.0.0. See https://github.com/optuna/optuna/releases/tag/v3.0.0. Use suggest_float(..., log=True) instead.\n",
      "  lg_c = trial.suggest_loguniform('C', 1e-2, 1)\n",
      "C:\\Users\\maham\\AppData\\Local\\Temp\\ipykernel_20880\\901958678.py:3: FutureWarning: suggest_loguniform has been deprecated in v3.0.0. This feature will be removed in v6.0.0. See https://github.com/optuna/optuna/releases/tag/v3.0.0. Use suggest_float(..., log=True) instead.\n",
      "  lg_tol = trial.suggest_loguniform('tol', 1e-6 , 1e-3)\n",
      "[I 2024-05-23 09:46:02,393] Trial 0 finished with value: 0.9519576852824936 and parameters: {'C': 0.6662531299067997, 'tol': 0.0004726286135837765, 'solver': 'liblinear'}. Best is trial 0 with value: 0.9519576852824936.\n",
      "C:\\Users\\maham\\AppData\\Local\\Temp\\ipykernel_20880\\901958678.py:2: FutureWarning: suggest_loguniform has been deprecated in v3.0.0. This feature will be removed in v6.0.0. See https://github.com/optuna/optuna/releases/tag/v3.0.0. Use suggest_float(..., log=True) instead.\n",
      "  lg_c = trial.suggest_loguniform('C', 1e-2, 1)\n",
      "C:\\Users\\maham\\AppData\\Local\\Temp\\ipykernel_20880\\901958678.py:3: FutureWarning: suggest_loguniform has been deprecated in v3.0.0. This feature will be removed in v6.0.0. See https://github.com/optuna/optuna/releases/tag/v3.0.0. Use suggest_float(..., log=True) instead.\n",
      "  lg_tol = trial.suggest_loguniform('tol', 1e-6 , 1e-3)\n",
      "[I 2024-05-23 09:46:03,603] Trial 1 finished with value: 0.9439648294282099 and parameters: {'C': 0.1506769249993073, 'tol': 0.00047444989367019606, 'solver': 'lbfgs'}. Best is trial 0 with value: 0.9519576852824936.\n",
      "C:\\Users\\maham\\AppData\\Local\\Temp\\ipykernel_20880\\901958678.py:2: FutureWarning: suggest_loguniform has been deprecated in v3.0.0. This feature will be removed in v6.0.0. See https://github.com/optuna/optuna/releases/tag/v3.0.0. Use suggest_float(..., log=True) instead.\n",
      "  lg_c = trial.suggest_loguniform('C', 1e-2, 1)\n",
      "C:\\Users\\maham\\AppData\\Local\\Temp\\ipykernel_20880\\901958678.py:3: FutureWarning: suggest_loguniform has been deprecated in v3.0.0. This feature will be removed in v6.0.0. See https://github.com/optuna/optuna/releases/tag/v3.0.0. Use suggest_float(..., log=True) instead.\n",
      "  lg_tol = trial.suggest_loguniform('tol', 1e-6 , 1e-3)\n",
      "[I 2024-05-23 09:46:05,380] Trial 2 finished with value: 0.9455035540021347 and parameters: {'C': 0.20357177189116119, 'tol': 0.0004123328243004424, 'solver': 'liblinear'}. Best is trial 0 with value: 0.9519576852824936.\n",
      "C:\\Users\\maham\\AppData\\Local\\Temp\\ipykernel_20880\\901958678.py:2: FutureWarning: suggest_loguniform has been deprecated in v3.0.0. This feature will be removed in v6.0.0. See https://github.com/optuna/optuna/releases/tag/v3.0.0. Use suggest_float(..., log=True) instead.\n",
      "  lg_c = trial.suggest_loguniform('C', 1e-2, 1)\n",
      "C:\\Users\\maham\\AppData\\Local\\Temp\\ipykernel_20880\\901958678.py:3: FutureWarning: suggest_loguniform has been deprecated in v3.0.0. This feature will be removed in v6.0.0. See https://github.com/optuna/optuna/releases/tag/v3.0.0. Use suggest_float(..., log=True) instead.\n",
      "  lg_tol = trial.suggest_loguniform('tol', 1e-6 , 1e-3)\n",
      "[I 2024-05-23 09:46:07,327] Trial 3 finished with value: 0.9361429685488402 and parameters: {'C': 0.047568026029603874, 'tol': 6.478378573523532e-05, 'solver': 'newton-cg'}. Best is trial 0 with value: 0.9519576852824936.\n",
      "C:\\Users\\maham\\AppData\\Local\\Temp\\ipykernel_20880\\901958678.py:2: FutureWarning: suggest_loguniform has been deprecated in v3.0.0. This feature will be removed in v6.0.0. See https://github.com/optuna/optuna/releases/tag/v3.0.0. Use suggest_float(..., log=True) instead.\n",
      "  lg_c = trial.suggest_loguniform('C', 1e-2, 1)\n",
      "C:\\Users\\maham\\AppData\\Local\\Temp\\ipykernel_20880\\901958678.py:3: FutureWarning: suggest_loguniform has been deprecated in v3.0.0. This feature will be removed in v6.0.0. See https://github.com/optuna/optuna/releases/tag/v3.0.0. Use suggest_float(..., log=True) instead.\n",
      "  lg_tol = trial.suggest_loguniform('tol', 1e-6 , 1e-3)\n",
      "[I 2024-05-23 09:46:09,030] Trial 4 finished with value: 0.9378099092086729 and parameters: {'C': 0.06770671840405766, 'tol': 5.801471524795019e-05, 'solver': 'liblinear'}. Best is trial 0 with value: 0.9519576852824936.\n",
      "C:\\Users\\maham\\AppData\\Local\\Temp\\ipykernel_20880\\901958678.py:2: FutureWarning: suggest_loguniform has been deprecated in v3.0.0. This feature will be removed in v6.0.0. See https://github.com/optuna/optuna/releases/tag/v3.0.0. Use suggest_float(..., log=True) instead.\n",
      "  lg_c = trial.suggest_loguniform('C', 1e-2, 1)\n",
      "C:\\Users\\maham\\AppData\\Local\\Temp\\ipykernel_20880\\901958678.py:3: FutureWarning: suggest_loguniform has been deprecated in v3.0.0. This feature will be removed in v6.0.0. See https://github.com/optuna/optuna/releases/tag/v3.0.0. Use suggest_float(..., log=True) instead.\n",
      "  lg_tol = trial.suggest_loguniform('tol', 1e-6 , 1e-3)\n",
      "[I 2024-05-23 09:46:11,354] Trial 5 finished with value: 0.9493503983227036 and parameters: {'C': 0.41923425022921085, 'tol': 0.00014378278974772337, 'solver': 'lbfgs'}. Best is trial 0 with value: 0.9519576852824936.\n",
      "C:\\Users\\maham\\AppData\\Local\\Temp\\ipykernel_20880\\901958678.py:2: FutureWarning: suggest_loguniform has been deprecated in v3.0.0. This feature will be removed in v6.0.0. See https://github.com/optuna/optuna/releases/tag/v3.0.0. Use suggest_float(..., log=True) instead.\n",
      "  lg_c = trial.suggest_loguniform('C', 1e-2, 1)\n",
      "C:\\Users\\maham\\AppData\\Local\\Temp\\ipykernel_20880\\901958678.py:3: FutureWarning: suggest_loguniform has been deprecated in v3.0.0. This feature will be removed in v6.0.0. See https://github.com/optuna/optuna/releases/tag/v3.0.0. Use suggest_float(..., log=True) instead.\n",
      "  lg_tol = trial.suggest_loguniform('tol', 1e-6 , 1e-3)\n",
      "[I 2024-05-23 09:46:13,330] Trial 6 finished with value: 0.9476407061786626 and parameters: {'C': 0.31921241593749894, 'tol': 2.2465462568040847e-06, 'solver': 'newton-cg'}. Best is trial 0 with value: 0.9519576852824936.\n",
      "C:\\Users\\maham\\AppData\\Local\\Temp\\ipykernel_20880\\901958678.py:2: FutureWarning: suggest_loguniform has been deprecated in v3.0.0. This feature will be removed in v6.0.0. See https://github.com/optuna/optuna/releases/tag/v3.0.0. Use suggest_float(..., log=True) instead.\n",
      "  lg_c = trial.suggest_loguniform('C', 1e-2, 1)\n",
      "C:\\Users\\maham\\AppData\\Local\\Temp\\ipykernel_20880\\901958678.py:3: FutureWarning: suggest_loguniform has been deprecated in v3.0.0. This feature will be removed in v6.0.0. See https://github.com/optuna/optuna/releases/tag/v3.0.0. Use suggest_float(..., log=True) instead.\n",
      "  lg_tol = trial.suggest_loguniform('tol', 1e-6 , 1e-3)\n",
      "[I 2024-05-23 09:46:14,417] Trial 7 finished with value: 0.9349461626722695 and parameters: {'C': 0.0378782673255429, 'tol': 2.249929964012304e-06, 'solver': 'lbfgs'}. Best is trial 0 with value: 0.9519576852824936.\n",
      "C:\\Users\\maham\\AppData\\Local\\Temp\\ipykernel_20880\\901958678.py:2: FutureWarning: suggest_loguniform has been deprecated in v3.0.0. This feature will be removed in v6.0.0. See https://github.com/optuna/optuna/releases/tag/v3.0.0. Use suggest_float(..., log=True) instead.\n",
      "  lg_c = trial.suggest_loguniform('C', 1e-2, 1)\n",
      "C:\\Users\\maham\\AppData\\Local\\Temp\\ipykernel_20880\\901958678.py:3: FutureWarning: suggest_loguniform has been deprecated in v3.0.0. This feature will be removed in v6.0.0. See https://github.com/optuna/optuna/releases/tag/v3.0.0. Use suggest_float(..., log=True) instead.\n",
      "  lg_tol = trial.suggest_loguniform('tol', 1e-6 , 1e-3)\n",
      "[I 2024-05-23 09:46:15,636] Trial 8 finished with value: 0.9450761378173239 and parameters: {'C': 0.18780496112856931, 'tol': 4.797907395537177e-06, 'solver': 'newton-cg'}. Best is trial 0 with value: 0.9519576852824936.\n",
      "C:\\Users\\maham\\AppData\\Local\\Temp\\ipykernel_20880\\901958678.py:2: FutureWarning: suggest_loguniform has been deprecated in v3.0.0. This feature will be removed in v6.0.0. See https://github.com/optuna/optuna/releases/tag/v3.0.0. Use suggest_float(..., log=True) instead.\n",
      "  lg_c = trial.suggest_loguniform('C', 1e-2, 1)\n",
      "C:\\Users\\maham\\AppData\\Local\\Temp\\ipykernel_20880\\901958678.py:3: FutureWarning: suggest_loguniform has been deprecated in v3.0.0. This feature will be removed in v6.0.0. See https://github.com/optuna/optuna/releases/tag/v3.0.0. Use suggest_float(..., log=True) instead.\n",
      "  lg_tol = trial.suggest_loguniform('tol', 1e-6 , 1e-3)\n",
      "[I 2024-05-23 09:46:16,995] Trial 9 finished with value: 0.952855296541121 and parameters: {'C': 0.8575431068854908, 'tol': 1.5626847966720078e-05, 'solver': 'newton-cg'}. Best is trial 9 with value: 0.952855296541121.\n",
      "C:\\Users\\maham\\AppData\\Local\\Temp\\ipykernel_20880\\901958678.py:2: FutureWarning: suggest_loguniform has been deprecated in v3.0.0. This feature will be removed in v6.0.0. See https://github.com/optuna/optuna/releases/tag/v3.0.0. Use suggest_float(..., log=True) instead.\n",
      "  lg_c = trial.suggest_loguniform('C', 1e-2, 1)\n",
      "C:\\Users\\maham\\AppData\\Local\\Temp\\ipykernel_20880\\901958678.py:3: FutureWarning: suggest_loguniform has been deprecated in v3.0.0. This feature will be removed in v6.0.0. See https://github.com/optuna/optuna/releases/tag/v3.0.0. Use suggest_float(..., log=True) instead.\n",
      "  lg_tol = trial.suggest_loguniform('tol', 1e-6 , 1e-3)\n",
      "[I 2024-05-23 09:46:18,090] Trial 10 finished with value: 0.9317404755146739 and parameters: {'C': 0.013794240103251858, 'tol': 1.4362338710392654e-05, 'solver': 'newton-cg'}. Best is trial 9 with value: 0.952855296541121.\n",
      "C:\\Users\\maham\\AppData\\Local\\Temp\\ipykernel_20880\\901958678.py:2: FutureWarning: suggest_loguniform has been deprecated in v3.0.0. This feature will be removed in v6.0.0. See https://github.com/optuna/optuna/releases/tag/v3.0.0. Use suggest_float(..., log=True) instead.\n",
      "  lg_c = trial.suggest_loguniform('C', 1e-2, 1)\n",
      "C:\\Users\\maham\\AppData\\Local\\Temp\\ipykernel_20880\\901958678.py:3: FutureWarning: suggest_loguniform has been deprecated in v3.0.0. This feature will be removed in v6.0.0. See https://github.com/optuna/optuna/releases/tag/v3.0.0. Use suggest_float(..., log=True) instead.\n",
      "  lg_tol = trial.suggest_loguniform('tol', 1e-6 , 1e-3)\n",
      "[I 2024-05-23 09:46:19,091] Trial 11 finished with value: 0.9526843180090857 and parameters: {'C': 0.8214247512703392, 'tol': 1.5704520421733307e-05, 'solver': 'liblinear'}. Best is trial 9 with value: 0.952855296541121.\n",
      "C:\\Users\\maham\\AppData\\Local\\Temp\\ipykernel_20880\\901958678.py:2: FutureWarning: suggest_loguniform has been deprecated in v3.0.0. This feature will be removed in v6.0.0. See https://github.com/optuna/optuna/releases/tag/v3.0.0. Use suggest_float(..., log=True) instead.\n",
      "  lg_c = trial.suggest_loguniform('C', 1e-2, 1)\n",
      "C:\\Users\\maham\\AppData\\Local\\Temp\\ipykernel_20880\\901958678.py:3: FutureWarning: suggest_loguniform has been deprecated in v3.0.0. This feature will be removed in v6.0.0. See https://github.com/optuna/optuna/releases/tag/v3.0.0. Use suggest_float(..., log=True) instead.\n",
      "  lg_tol = trial.suggest_loguniform('tol', 1e-6 , 1e-3)\n",
      "[I 2024-05-23 09:46:20,130] Trial 12 finished with value: 0.9538810855189399 and parameters: {'C': 0.9852693637174191, 'tol': 1.265308047850748e-05, 'solver': 'liblinear'}. Best is trial 12 with value: 0.9538810855189399.\n",
      "C:\\Users\\maham\\AppData\\Local\\Temp\\ipykernel_20880\\901958678.py:2: FutureWarning: suggest_loguniform has been deprecated in v3.0.0. This feature will be removed in v6.0.0. See https://github.com/optuna/optuna/releases/tag/v3.0.0. Use suggest_float(..., log=True) instead.\n",
      "  lg_c = trial.suggest_loguniform('C', 1e-2, 1)\n",
      "C:\\Users\\maham\\AppData\\Local\\Temp\\ipykernel_20880\\901958678.py:3: FutureWarning: suggest_loguniform has been deprecated in v3.0.0. This feature will be removed in v6.0.0. See https://github.com/optuna/optuna/releases/tag/v3.0.0. Use suggest_float(..., log=True) instead.\n",
      "  lg_tol = trial.suggest_loguniform('tol', 1e-6 , 1e-3)\n",
      "[I 2024-05-23 09:46:21,713] Trial 13 finished with value: 0.9529835126270291 and parameters: {'C': 0.9322036538246211, 'tol': 8.655693383011638e-06, 'solver': 'newton-cg'}. Best is trial 12 with value: 0.9538810855189399.\n",
      "C:\\Users\\maham\\AppData\\Local\\Temp\\ipykernel_20880\\901958678.py:2: FutureWarning: suggest_loguniform has been deprecated in v3.0.0. This feature will be removed in v6.0.0. See https://github.com/optuna/optuna/releases/tag/v3.0.0. Use suggest_float(..., log=True) instead.\n",
      "  lg_c = trial.suggest_loguniform('C', 1e-2, 1)\n",
      "C:\\Users\\maham\\AppData\\Local\\Temp\\ipykernel_20880\\901958678.py:3: FutureWarning: suggest_loguniform has been deprecated in v3.0.0. This feature will be removed in v6.0.0. See https://github.com/optuna/optuna/releases/tag/v3.0.0. Use suggest_float(..., log=True) instead.\n",
      "  lg_tol = trial.suggest_loguniform('tol', 1e-6 , 1e-3)\n",
      "[I 2024-05-23 09:46:22,693] Trial 14 finished with value: 0.9495213549309008 and parameters: {'C': 0.4247673983483121, 'tol': 6.292678082204688e-06, 'solver': 'liblinear'}. Best is trial 12 with value: 0.9538810855189399.\n",
      "C:\\Users\\maham\\AppData\\Local\\Temp\\ipykernel_20880\\901958678.py:2: FutureWarning: suggest_loguniform has been deprecated in v3.0.0. This feature will be removed in v6.0.0. See https://github.com/optuna/optuna/releases/tag/v3.0.0. Use suggest_float(..., log=True) instead.\n",
      "  lg_c = trial.suggest_loguniform('C', 1e-2, 1)\n",
      "C:\\Users\\maham\\AppData\\Local\\Temp\\ipykernel_20880\\901958678.py:3: FutureWarning: suggest_loguniform has been deprecated in v3.0.0. This feature will be removed in v6.0.0. See https://github.com/optuna/optuna/releases/tag/v3.0.0. Use suggest_float(..., log=True) instead.\n",
      "  lg_tol = trial.suggest_loguniform('tol', 1e-6 , 1e-3)\n",
      "[I 2024-05-23 09:46:24,039] Trial 15 finished with value: 0.9533254477672616 and parameters: {'C': 0.9553390811568895, 'tol': 5.889793216208949e-06, 'solver': 'newton-cg'}. Best is trial 12 with value: 0.9538810855189399.\n",
      "C:\\Users\\maham\\AppData\\Local\\Temp\\ipykernel_20880\\901958678.py:2: FutureWarning: suggest_loguniform has been deprecated in v3.0.0. This feature will be removed in v6.0.0. See https://github.com/optuna/optuna/releases/tag/v3.0.0. Use suggest_float(..., log=True) instead.\n",
      "  lg_c = trial.suggest_loguniform('C', 1e-2, 1)\n",
      "C:\\Users\\maham\\AppData\\Local\\Temp\\ipykernel_20880\\901958678.py:3: FutureWarning: suggest_loguniform has been deprecated in v3.0.0. This feature will be removed in v6.0.0. See https://github.com/optuna/optuna/releases/tag/v3.0.0. Use suggest_float(..., log=True) instead.\n",
      "  lg_tol = trial.suggest_loguniform('tol', 1e-6 , 1e-3)\n",
      "[I 2024-05-23 09:46:24,956] Trial 16 finished with value: 0.9317404700337145 and parameters: {'C': 0.01019856777622084, 'tol': 1.2114417700011988e-06, 'solver': 'liblinear'}. Best is trial 12 with value: 0.9538810855189399.\n",
      "C:\\Users\\maham\\AppData\\Local\\Temp\\ipykernel_20880\\901958678.py:2: FutureWarning: suggest_loguniform has been deprecated in v3.0.0. This feature will be removed in v6.0.0. See https://github.com/optuna/optuna/releases/tag/v3.0.0. Use suggest_float(..., log=True) instead.\n",
      "  lg_c = trial.suggest_loguniform('C', 1e-2, 1)\n",
      "C:\\Users\\maham\\AppData\\Local\\Temp\\ipykernel_20880\\901958678.py:3: FutureWarning: suggest_loguniform has been deprecated in v3.0.0. This feature will be removed in v6.0.0. See https://github.com/optuna/optuna/releases/tag/v3.0.0. Use suggest_float(..., log=True) instead.\n",
      "  lg_tol = trial.suggest_loguniform('tol', 1e-6 , 1e-3)\n",
      "[I 2024-05-23 09:46:26,029] Trial 17 finished with value: 0.9500342631222091 and parameters: {'C': 0.4783188544390914, 'tol': 4.0882687071617834e-05, 'solver': 'liblinear'}. Best is trial 12 with value: 0.9538810855189399.\n",
      "C:\\Users\\maham\\AppData\\Local\\Temp\\ipykernel_20880\\901958678.py:2: FutureWarning: suggest_loguniform has been deprecated in v3.0.0. This feature will be removed in v6.0.0. See https://github.com/optuna/optuna/releases/tag/v3.0.0. Use suggest_float(..., log=True) instead.\n",
      "  lg_c = trial.suggest_loguniform('C', 1e-2, 1)\n",
      "C:\\Users\\maham\\AppData\\Local\\Temp\\ipykernel_20880\\901958678.py:3: FutureWarning: suggest_loguniform has been deprecated in v3.0.0. This feature will be removed in v6.0.0. See https://github.com/optuna/optuna/releases/tag/v3.0.0. Use suggest_float(..., log=True) instead.\n",
      "  lg_tol = trial.suggest_loguniform('tol', 1e-6 , 1e-3)\n",
      "[I 2024-05-23 09:46:27,322] Trial 18 finished with value: 0.9403744775700117 and parameters: {'C': 0.10022231815174053, 'tol': 2.8702110114361227e-06, 'solver': 'newton-cg'}. Best is trial 12 with value: 0.9538810855189399.\n",
      "C:\\Users\\maham\\AppData\\Local\\Temp\\ipykernel_20880\\901958678.py:2: FutureWarning: suggest_loguniform has been deprecated in v3.0.0. This feature will be removed in v6.0.0. See https://github.com/optuna/optuna/releases/tag/v3.0.0. Use suggest_float(..., log=True) instead.\n",
      "  lg_c = trial.suggest_loguniform('C', 1e-2, 1)\n",
      "C:\\Users\\maham\\AppData\\Local\\Temp\\ipykernel_20880\\901958678.py:3: FutureWarning: suggest_loguniform has been deprecated in v3.0.0. This feature will be removed in v6.0.0. See https://github.com/optuna/optuna/releases/tag/v3.0.0. Use suggest_float(..., log=True) instead.\n",
      "  lg_tol = trial.suggest_loguniform('tol', 1e-6 , 1e-3)\n",
      "[I 2024-05-23 09:46:28,672] Trial 19 finished with value: 0.9472132680700138 and parameters: {'C': 0.27976786352517025, 'tol': 0.0001632522187261369, 'solver': 'lbfgs'}. Best is trial 12 with value: 0.9538810855189399.\n",
      "C:\\Users\\maham\\AppData\\Local\\Temp\\ipykernel_20880\\901958678.py:2: FutureWarning: suggest_loguniform has been deprecated in v3.0.0. This feature will be removed in v6.0.0. See https://github.com/optuna/optuna/releases/tag/v3.0.0. Use suggest_float(..., log=True) instead.\n",
      "  lg_c = trial.suggest_loguniform('C', 1e-2, 1)\n",
      "C:\\Users\\maham\\AppData\\Local\\Temp\\ipykernel_20880\\901958678.py:3: FutureWarning: suggest_loguniform has been deprecated in v3.0.0. This feature will be removed in v6.0.0. See https://github.com/optuna/optuna/releases/tag/v3.0.0. Use suggest_float(..., log=True) instead.\n",
      "  lg_tol = trial.suggest_loguniform('tol', 1e-6 , 1e-3)\n",
      "[I 2024-05-23 09:46:29,545] Trial 20 finished with value: 0.9337494061243342 and parameters: {'C': 0.02786223284317922, 'tol': 2.540299684989736e-05, 'solver': 'liblinear'}. Best is trial 12 with value: 0.9538810855189399.\n",
      "C:\\Users\\maham\\AppData\\Local\\Temp\\ipykernel_20880\\901958678.py:2: FutureWarning: suggest_loguniform has been deprecated in v3.0.0. This feature will be removed in v6.0.0. See https://github.com/optuna/optuna/releases/tag/v3.0.0. Use suggest_float(..., log=True) instead.\n",
      "  lg_c = trial.suggest_loguniform('C', 1e-2, 1)\n",
      "C:\\Users\\maham\\AppData\\Local\\Temp\\ipykernel_20880\\901958678.py:3: FutureWarning: suggest_loguniform has been deprecated in v3.0.0. This feature will be removed in v6.0.0. See https://github.com/optuna/optuna/releases/tag/v3.0.0. Use suggest_float(..., log=True) instead.\n",
      "  lg_tol = trial.suggest_loguniform('tol', 1e-6 , 1e-3)\n",
      "[I 2024-05-23 09:46:30,874] Trial 21 finished with value: 0.9536246369042454 and parameters: {'C': 0.9848764095200495, 'tol': 8.273519100779988e-06, 'solver': 'newton-cg'}. Best is trial 12 with value: 0.9538810855189399.\n",
      "C:\\Users\\maham\\AppData\\Local\\Temp\\ipykernel_20880\\901958678.py:2: FutureWarning: suggest_loguniform has been deprecated in v3.0.0. This feature will be removed in v6.0.0. See https://github.com/optuna/optuna/releases/tag/v3.0.0. Use suggest_float(..., log=True) instead.\n",
      "  lg_c = trial.suggest_loguniform('C', 1e-2, 1)\n",
      "C:\\Users\\maham\\AppData\\Local\\Temp\\ipykernel_20880\\901958678.py:3: FutureWarning: suggest_loguniform has been deprecated in v3.0.0. This feature will be removed in v6.0.0. See https://github.com/optuna/optuna/releases/tag/v3.0.0. Use suggest_float(..., log=True) instead.\n",
      "  lg_tol = trial.suggest_loguniform('tol', 1e-6 , 1e-3)\n",
      "[I 2024-05-23 09:46:32,172] Trial 22 finished with value: 0.951145571511323 and parameters: {'C': 0.6016041174911645, 'tol': 7.626269046024096e-06, 'solver': 'newton-cg'}. Best is trial 12 with value: 0.9538810855189399.\n",
      "C:\\Users\\maham\\AppData\\Local\\Temp\\ipykernel_20880\\901958678.py:2: FutureWarning: suggest_loguniform has been deprecated in v3.0.0. This feature will be removed in v6.0.0. See https://github.com/optuna/optuna/releases/tag/v3.0.0. Use suggest_float(..., log=True) instead.\n",
      "  lg_c = trial.suggest_loguniform('C', 1e-2, 1)\n",
      "C:\\Users\\maham\\AppData\\Local\\Temp\\ipykernel_20880\\901958678.py:3: FutureWarning: suggest_loguniform has been deprecated in v3.0.0. This feature will be removed in v6.0.0. See https://github.com/optuna/optuna/releases/tag/v3.0.0. Use suggest_float(..., log=True) instead.\n",
      "  lg_tol = trial.suggest_loguniform('tol', 1e-6 , 1e-3)\n",
      "[I 2024-05-23 09:46:33,674] Trial 23 finished with value: 0.9512738040401096 and parameters: {'C': 0.6163312418043952, 'tol': 4.504958607765935e-06, 'solver': 'newton-cg'}. Best is trial 12 with value: 0.9538810855189399.\n",
      "C:\\Users\\maham\\AppData\\Local\\Temp\\ipykernel_20880\\901958678.py:2: FutureWarning: suggest_loguniform has been deprecated in v3.0.0. This feature will be removed in v6.0.0. See https://github.com/optuna/optuna/releases/tag/v3.0.0. Use suggest_float(..., log=True) instead.\n",
      "  lg_c = trial.suggest_loguniform('C', 1e-2, 1)\n",
      "C:\\Users\\maham\\AppData\\Local\\Temp\\ipykernel_20880\\901958678.py:3: FutureWarning: suggest_loguniform has been deprecated in v3.0.0. This feature will be removed in v6.0.0. See https://github.com/optuna/optuna/releases/tag/v3.0.0. Use suggest_float(..., log=True) instead.\n",
      "  lg_tol = trial.suggest_loguniform('tol', 1e-6 , 1e-3)\n",
      "[I 2024-05-23 09:46:35,191] Trial 24 finished with value: 0.9536246369042454 and parameters: {'C': 0.983555523391388, 'tol': 1.0721161970448706e-06, 'solver': 'newton-cg'}. Best is trial 12 with value: 0.9538810855189399.\n",
      "C:\\Users\\maham\\AppData\\Local\\Temp\\ipykernel_20880\\901958678.py:2: FutureWarning: suggest_loguniform has been deprecated in v3.0.0. This feature will be removed in v6.0.0. See https://github.com/optuna/optuna/releases/tag/v3.0.0. Use suggest_float(..., log=True) instead.\n",
      "  lg_c = trial.suggest_loguniform('C', 1e-2, 1)\n",
      "C:\\Users\\maham\\AppData\\Local\\Temp\\ipykernel_20880\\901958678.py:3: FutureWarning: suggest_loguniform has been deprecated in v3.0.0. This feature will be removed in v6.0.0. See https://github.com/optuna/optuna/releases/tag/v3.0.0. Use suggest_float(..., log=True) instead.\n",
      "  lg_tol = trial.suggest_loguniform('tol', 1e-6 , 1e-3)\n",
      "[I 2024-05-23 09:46:36,467] Trial 25 finished with value: 0.9475552196531248 and parameters: {'C': 0.305260248136561, 'tol': 1.2484231737679873e-06, 'solver': 'newton-cg'}. Best is trial 12 with value: 0.9538810855189399.\n",
      "C:\\Users\\maham\\AppData\\Local\\Temp\\ipykernel_20880\\901958678.py:2: FutureWarning: suggest_loguniform has been deprecated in v3.0.0. This feature will be removed in v6.0.0. See https://github.com/optuna/optuna/releases/tag/v3.0.0. Use suggest_float(..., log=True) instead.\n",
      "  lg_c = trial.suggest_loguniform('C', 1e-2, 1)\n",
      "C:\\Users\\maham\\AppData\\Local\\Temp\\ipykernel_20880\\901958678.py:3: FutureWarning: suggest_loguniform has been deprecated in v3.0.0. This feature will be removed in v6.0.0. See https://github.com/optuna/optuna/releases/tag/v3.0.0. Use suggest_float(..., log=True) instead.\n",
      "  lg_tol = trial.suggest_loguniform('tol', 1e-6 , 1e-3)\n",
      "[I 2024-05-23 09:46:37,765] Trial 26 finished with value: 0.9504189552276093 and parameters: {'C': 0.5307052210663707, 'tol': 0.0009541724652361973, 'solver': 'newton-cg'}. Best is trial 12 with value: 0.9538810855189399.\n",
      "C:\\Users\\maham\\AppData\\Local\\Temp\\ipykernel_20880\\901958678.py:2: FutureWarning: suggest_loguniform has been deprecated in v3.0.0. This feature will be removed in v6.0.0. See https://github.com/optuna/optuna/releases/tag/v3.0.0. Use suggest_float(..., log=True) instead.\n",
      "  lg_c = trial.suggest_loguniform('C', 1e-2, 1)\n",
      "C:\\Users\\maham\\AppData\\Local\\Temp\\ipykernel_20880\\901958678.py:3: FutureWarning: suggest_loguniform has been deprecated in v3.0.0. This feature will be removed in v6.0.0. See https://github.com/optuna/optuna/releases/tag/v3.0.0. Use suggest_float(..., log=True) instead.\n",
      "  lg_tol = trial.suggest_loguniform('tol', 1e-6 , 1e-3)\n",
      "[I 2024-05-23 09:46:39,033] Trial 27 finished with value: 0.9422123912809203 and parameters: {'C': 0.1243902560362798, 'tol': 3.0496973114368736e-05, 'solver': 'newton-cg'}. Best is trial 12 with value: 0.9538810855189399.\n",
      "C:\\Users\\maham\\AppData\\Local\\Temp\\ipykernel_20880\\901958678.py:2: FutureWarning: suggest_loguniform has been deprecated in v3.0.0. This feature will be removed in v6.0.0. See https://github.com/optuna/optuna/releases/tag/v3.0.0. Use suggest_float(..., log=True) instead.\n",
      "  lg_c = trial.suggest_loguniform('C', 1e-2, 1)\n",
      "C:\\Users\\maham\\AppData\\Local\\Temp\\ipykernel_20880\\901958678.py:3: FutureWarning: suggest_loguniform has been deprecated in v3.0.0. This feature will be removed in v6.0.0. See https://github.com/optuna/optuna/releases/tag/v3.0.0. Use suggest_float(..., log=True) instead.\n",
      "  lg_tol = trial.suggest_loguniform('tol', 1e-6 , 1e-3)\n",
      "[I 2024-05-23 09:46:41,574] Trial 28 finished with value: 0.95204318825091 and parameters: {'C': 0.6934558442812868, 'tol': 1.0089320898605648e-06, 'solver': 'lbfgs'}. Best is trial 12 with value: 0.9538810855189399.\n",
      "C:\\Users\\maham\\AppData\\Local\\Temp\\ipykernel_20880\\901958678.py:2: FutureWarning: suggest_loguniform has been deprecated in v3.0.0. This feature will be removed in v6.0.0. See https://github.com/optuna/optuna/releases/tag/v3.0.0. Use suggest_float(..., log=True) instead.\n",
      "  lg_c = trial.suggest_loguniform('C', 1e-2, 1)\n",
      "C:\\Users\\maham\\AppData\\Local\\Temp\\ipykernel_20880\\901958678.py:3: FutureWarning: suggest_loguniform has been deprecated in v3.0.0. This feature will be removed in v6.0.0. See https://github.com/optuna/optuna/releases/tag/v3.0.0. Use suggest_float(..., log=True) instead.\n",
      "  lg_tol = trial.suggest_loguniform('tol', 1e-6 , 1e-3)\n",
      "[I 2024-05-23 09:46:42,748] Trial 29 finished with value: 0.9482818468987574 and parameters: {'C': 0.36335831152480674, 'tol': 1.1403869237838496e-05, 'solver': 'liblinear'}. Best is trial 12 with value: 0.9538810855189399.\n",
      "C:\\Users\\maham\\AppData\\Local\\Temp\\ipykernel_20880\\901958678.py:2: FutureWarning: suggest_loguniform has been deprecated in v3.0.0. This feature will be removed in v6.0.0. See https://github.com/optuna/optuna/releases/tag/v3.0.0. Use suggest_float(..., log=True) instead.\n",
      "  lg_c = trial.suggest_loguniform('C', 1e-2, 1)\n",
      "C:\\Users\\maham\\AppData\\Local\\Temp\\ipykernel_20880\\901958678.py:3: FutureWarning: suggest_loguniform has been deprecated in v3.0.0. This feature will be removed in v6.0.0. See https://github.com/optuna/optuna/releases/tag/v3.0.0. Use suggest_float(..., log=True) instead.\n",
      "  lg_tol = trial.suggest_loguniform('tol', 1e-6 , 1e-3)\n",
      "[I 2024-05-23 09:46:43,936] Trial 30 finished with value: 0.9517012257058798 and parameters: {'C': 0.6501297244912062, 'tol': 2.448207829364848e-06, 'solver': 'liblinear'}. Best is trial 12 with value: 0.9538810855189399.\n",
      "C:\\Users\\maham\\AppData\\Local\\Temp\\ipykernel_20880\\901958678.py:2: FutureWarning: suggest_loguniform has been deprecated in v3.0.0. This feature will be removed in v6.0.0. See https://github.com/optuna/optuna/releases/tag/v3.0.0. Use suggest_float(..., log=True) instead.\n",
      "  lg_c = trial.suggest_loguniform('C', 1e-2, 1)\n",
      "C:\\Users\\maham\\AppData\\Local\\Temp\\ipykernel_20880\\901958678.py:3: FutureWarning: suggest_loguniform has been deprecated in v3.0.0. This feature will be removed in v6.0.0. See https://github.com/optuna/optuna/releases/tag/v3.0.0. Use suggest_float(..., log=True) instead.\n",
      "  lg_tol = trial.suggest_loguniform('tol', 1e-6 , 1e-3)\n",
      "[I 2024-05-23 09:46:45,648] Trial 31 finished with value: 0.9537101179488237 and parameters: {'C': 0.992621353705747, 'tol': 4.191629913037339e-06, 'solver': 'newton-cg'}. Best is trial 12 with value: 0.9538810855189399.\n",
      "C:\\Users\\maham\\AppData\\Local\\Temp\\ipykernel_20880\\901958678.py:2: FutureWarning: suggest_loguniform has been deprecated in v3.0.0. This feature will be removed in v6.0.0. See https://github.com/optuna/optuna/releases/tag/v3.0.0. Use suggest_float(..., log=True) instead.\n",
      "  lg_c = trial.suggest_loguniform('C', 1e-2, 1)\n",
      "C:\\Users\\maham\\AppData\\Local\\Temp\\ipykernel_20880\\901958678.py:3: FutureWarning: suggest_loguniform has been deprecated in v3.0.0. This feature will be removed in v6.0.0. See https://github.com/optuna/optuna/releases/tag/v3.0.0. Use suggest_float(..., log=True) instead.\n",
      "  lg_tol = trial.suggest_loguniform('tol', 1e-6 , 1e-3)\n",
      "[I 2024-05-23 09:46:47,143] Trial 32 finished with value: 0.9533254422863021 and parameters: {'C': 0.9728802388501552, 'tol': 3.0868906930797567e-06, 'solver': 'newton-cg'}. Best is trial 12 with value: 0.9538810855189399.\n",
      "C:\\Users\\maham\\AppData\\Local\\Temp\\ipykernel_20880\\901958678.py:2: FutureWarning: suggest_loguniform has been deprecated in v3.0.0. This feature will be removed in v6.0.0. See https://github.com/optuna/optuna/releases/tag/v3.0.0. Use suggest_float(..., log=True) instead.\n",
      "  lg_c = trial.suggest_loguniform('C', 1e-2, 1)\n",
      "C:\\Users\\maham\\AppData\\Local\\Temp\\ipykernel_20880\\901958678.py:3: FutureWarning: suggest_loguniform has been deprecated in v3.0.0. This feature will be removed in v6.0.0. See https://github.com/optuna/optuna/releases/tag/v3.0.0. Use suggest_float(..., log=True) instead.\n",
      "  lg_tol = trial.suggest_loguniform('tol', 1e-6 , 1e-3)\n",
      "[I 2024-05-23 09:46:48,450] Trial 33 finished with value: 0.9460592191586107 and parameters: {'C': 0.22760286116419354, 'tol': 1.7819908888574322e-06, 'solver': 'newton-cg'}. Best is trial 12 with value: 0.9538810855189399.\n",
      "C:\\Users\\maham\\AppData\\Local\\Temp\\ipykernel_20880\\901958678.py:2: FutureWarning: suggest_loguniform has been deprecated in v3.0.0. This feature will be removed in v6.0.0. See https://github.com/optuna/optuna/releases/tag/v3.0.0. Use suggest_float(..., log=True) instead.\n",
      "  lg_c = trial.suggest_loguniform('C', 1e-2, 1)\n",
      "C:\\Users\\maham\\AppData\\Local\\Temp\\ipykernel_20880\\901958678.py:3: FutureWarning: suggest_loguniform has been deprecated in v3.0.0. This feature will be removed in v6.0.0. See https://github.com/optuna/optuna/releases/tag/v3.0.0. Use suggest_float(..., log=True) instead.\n",
      "  lg_tol = trial.suggest_loguniform('tol', 1e-6 , 1e-3)\n",
      "[I 2024-05-23 09:46:49,827] Trial 34 finished with value: 0.9524706153976399 and parameters: {'C': 0.7724710139666162, 'tol': 2.2788392007356357e-05, 'solver': 'newton-cg'}. Best is trial 12 with value: 0.9538810855189399.\n",
      "C:\\Users\\maham\\AppData\\Local\\Temp\\ipykernel_20880\\901958678.py:2: FutureWarning: suggest_loguniform has been deprecated in v3.0.0. This feature will be removed in v6.0.0. See https://github.com/optuna/optuna/releases/tag/v3.0.0. Use suggest_float(..., log=True) instead.\n",
      "  lg_c = trial.suggest_loguniform('C', 1e-2, 1)\n",
      "C:\\Users\\maham\\AppData\\Local\\Temp\\ipykernel_20880\\901958678.py:3: FutureWarning: suggest_loguniform has been deprecated in v3.0.0. This feature will be removed in v6.0.0. See https://github.com/optuna/optuna/releases/tag/v3.0.0. Use suggest_float(..., log=True) instead.\n",
      "  lg_tol = trial.suggest_loguniform('tol', 1e-6 , 1e-3)\n",
      "[I 2024-05-23 09:46:51,243] Trial 35 finished with value: 0.9505471822754363 and parameters: {'C': 0.5407547758321073, 'tol': 3.65277781513963e-06, 'solver': 'newton-cg'}. Best is trial 12 with value: 0.9538810855189399.\n",
      "C:\\Users\\maham\\AppData\\Local\\Temp\\ipykernel_20880\\901958678.py:2: FutureWarning: suggest_loguniform has been deprecated in v3.0.0. This feature will be removed in v6.0.0. See https://github.com/optuna/optuna/releases/tag/v3.0.0. Use suggest_float(..., log=True) instead.\n",
      "  lg_c = trial.suggest_loguniform('C', 1e-2, 1)\n",
      "C:\\Users\\maham\\AppData\\Local\\Temp\\ipykernel_20880\\901958678.py:3: FutureWarning: suggest_loguniform has been deprecated in v3.0.0. This feature will be removed in v6.0.0. See https://github.com/optuna/optuna/releases/tag/v3.0.0. Use suggest_float(..., log=True) instead.\n",
      "  lg_tol = trial.suggest_loguniform('tol', 1e-6 , 1e-3)\n",
      "[I 2024-05-23 09:46:52,987] Trial 36 finished with value: 0.9522996368656046 and parameters: {'C': 0.7336779301988656, 'tol': 9.771004724659801e-06, 'solver': 'lbfgs'}. Best is trial 12 with value: 0.9538810855189399.\n",
      "C:\\Users\\maham\\AppData\\Local\\Temp\\ipykernel_20880\\901958678.py:2: FutureWarning: suggest_loguniform has been deprecated in v3.0.0. This feature will be removed in v6.0.0. See https://github.com/optuna/optuna/releases/tag/v3.0.0. Use suggest_float(..., log=True) instead.\n",
      "  lg_c = trial.suggest_loguniform('C', 1e-2, 1)\n",
      "C:\\Users\\maham\\AppData\\Local\\Temp\\ipykernel_20880\\901958678.py:3: FutureWarning: suggest_loguniform has been deprecated in v3.0.0. This feature will be removed in v6.0.0. See https://github.com/optuna/optuna/releases/tag/v3.0.0. Use suggest_float(..., log=True) instead.\n",
      "  lg_tol = trial.suggest_loguniform('tol', 1e-6 , 1e-3)\n",
      "[I 2024-05-23 09:46:54,006] Trial 37 finished with value: 0.9498205440678845 and parameters: {'C': 0.45261208173116446, 'tol': 1.492782367997131e-06, 'solver': 'liblinear'}. Best is trial 12 with value: 0.9538810855189399.\n",
      "C:\\Users\\maham\\AppData\\Local\\Temp\\ipykernel_20880\\901958678.py:2: FutureWarning: suggest_loguniform has been deprecated in v3.0.0. This feature will be removed in v6.0.0. See https://github.com/optuna/optuna/releases/tag/v3.0.0. Use suggest_float(..., log=True) instead.\n",
      "  lg_c = trial.suggest_loguniform('C', 1e-2, 1)\n",
      "C:\\Users\\maham\\AppData\\Local\\Temp\\ipykernel_20880\\901958678.py:3: FutureWarning: suggest_loguniform has been deprecated in v3.0.0. This feature will be removed in v6.0.0. See https://github.com/optuna/optuna/releases/tag/v3.0.0. Use suggest_float(..., log=True) instead.\n",
      "  lg_tol = trial.suggest_loguniform('tol', 1e-6 , 1e-3)\n",
      "[I 2024-05-23 09:46:55,414] Trial 38 finished with value: 0.9465721218689594 and parameters: {'C': 0.24496346581716383, 'tol': 4.4121618280175037e-05, 'solver': 'newton-cg'}. Best is trial 12 with value: 0.9538810855189399.\n",
      "C:\\Users\\maham\\AppData\\Local\\Temp\\ipykernel_20880\\901958678.py:2: FutureWarning: suggest_loguniform has been deprecated in v3.0.0. This feature will be removed in v6.0.0. See https://github.com/optuna/optuna/releases/tag/v3.0.0. Use suggest_float(..., log=True) instead.\n",
      "  lg_c = trial.suggest_loguniform('C', 1e-2, 1)\n",
      "C:\\Users\\maham\\AppData\\Local\\Temp\\ipykernel_20880\\901958678.py:3: FutureWarning: suggest_loguniform has been deprecated in v3.0.0. This feature will be removed in v6.0.0. See https://github.com/optuna/optuna/releases/tag/v3.0.0. Use suggest_float(..., log=True) instead.\n",
      "  lg_tol = trial.suggest_loguniform('tol', 1e-6 , 1e-3)\n",
      "[I 2024-05-23 09:46:56,840] Trial 39 finished with value: 0.9447341862342128 and parameters: {'C': 0.1722832733712594, 'tol': 8.48302539142713e-05, 'solver': 'newton-cg'}. Best is trial 12 with value: 0.9538810855189399.\n",
      "C:\\Users\\maham\\AppData\\Local\\Temp\\ipykernel_20880\\901958678.py:2: FutureWarning: suggest_loguniform has been deprecated in v3.0.0. This feature will be removed in v6.0.0. See https://github.com/optuna/optuna/releases/tag/v3.0.0. Use suggest_float(..., log=True) instead.\n",
      "  lg_c = trial.suggest_loguniform('C', 1e-2, 1)\n",
      "C:\\Users\\maham\\AppData\\Local\\Temp\\ipykernel_20880\\901958678.py:3: FutureWarning: suggest_loguniform has been deprecated in v3.0.0. This feature will be removed in v6.0.0. See https://github.com/optuna/optuna/releases/tag/v3.0.0. Use suggest_float(..., log=True) instead.\n",
      "  lg_tol = trial.suggest_loguniform('tol', 1e-6 , 1e-3)\n",
      "[I 2024-05-23 09:46:58,411] Trial 40 finished with value: 0.9483673334242954 and parameters: {'C': 0.3734560319377084, 'tol': 4.2993709471979334e-06, 'solver': 'lbfgs'}. Best is trial 12 with value: 0.9538810855189399.\n",
      "C:\\Users\\maham\\AppData\\Local\\Temp\\ipykernel_20880\\901958678.py:2: FutureWarning: suggest_loguniform has been deprecated in v3.0.0. This feature will be removed in v6.0.0. See https://github.com/optuna/optuna/releases/tag/v3.0.0. Use suggest_float(..., log=True) instead.\n",
      "  lg_c = trial.suggest_loguniform('C', 1e-2, 1)\n",
      "C:\\Users\\maham\\AppData\\Local\\Temp\\ipykernel_20880\\901958678.py:3: FutureWarning: suggest_loguniform has been deprecated in v3.0.0. This feature will be removed in v6.0.0. See https://github.com/optuna/optuna/releases/tag/v3.0.0. Use suggest_float(..., log=True) instead.\n",
      "  lg_tol = trial.suggest_loguniform('tol', 1e-6 , 1e-3)\n",
      "[I 2024-05-23 09:47:00,067] Trial 41 finished with value: 0.9531117396748562 and parameters: {'C': 0.9380998266697675, 'tol': 5.8056154605136735e-06, 'solver': 'newton-cg'}. Best is trial 12 with value: 0.9538810855189399.\n",
      "C:\\Users\\maham\\AppData\\Local\\Temp\\ipykernel_20880\\901958678.py:2: FutureWarning: suggest_loguniform has been deprecated in v3.0.0. This feature will be removed in v6.0.0. See https://github.com/optuna/optuna/releases/tag/v3.0.0. Use suggest_float(..., log=True) instead.\n",
      "  lg_c = trial.suggest_loguniform('C', 1e-2, 1)\n",
      "C:\\Users\\maham\\AppData\\Local\\Temp\\ipykernel_20880\\901958678.py:3: FutureWarning: suggest_loguniform has been deprecated in v3.0.0. This feature will be removed in v6.0.0. See https://github.com/optuna/optuna/releases/tag/v3.0.0. Use suggest_float(..., log=True) instead.\n",
      "  lg_tol = trial.suggest_loguniform('tol', 1e-6 , 1e-3)\n",
      "[I 2024-05-23 09:47:01,768] Trial 42 finished with value: 0.9533681882895507 and parameters: {'C': 0.9651653972623169, 'tol': 6.35136101298889e-06, 'solver': 'newton-cg'}. Best is trial 12 with value: 0.9538810855189399.\n",
      "C:\\Users\\maham\\AppData\\Local\\Temp\\ipykernel_20880\\901958678.py:2: FutureWarning: suggest_loguniform has been deprecated in v3.0.0. This feature will be removed in v6.0.0. See https://github.com/optuna/optuna/releases/tag/v3.0.0. Use suggest_float(..., log=True) instead.\n",
      "  lg_c = trial.suggest_loguniform('C', 1e-2, 1)\n",
      "C:\\Users\\maham\\AppData\\Local\\Temp\\ipykernel_20880\\901958678.py:3: FutureWarning: suggest_loguniform has been deprecated in v3.0.0. This feature will be removed in v6.0.0. See https://github.com/optuna/optuna/releases/tag/v3.0.0. Use suggest_float(..., log=True) instead.\n",
      "  lg_tol = trial.suggest_loguniform('tol', 1e-6 , 1e-3)\n",
      "[I 2024-05-23 09:47:03,354] Trial 43 finished with value: 0.9520431772889909 and parameters: {'C': 0.6810278891226618, 'tol': 1.2966009502811889e-05, 'solver': 'newton-cg'}. Best is trial 12 with value: 0.9538810855189399.\n",
      "C:\\Users\\maham\\AppData\\Local\\Temp\\ipykernel_20880\\901958678.py:2: FutureWarning: suggest_loguniform has been deprecated in v3.0.0. This feature will be removed in v6.0.0. See https://github.com/optuna/optuna/releases/tag/v3.0.0. Use suggest_float(..., log=True) instead.\n",
      "  lg_c = trial.suggest_loguniform('C', 1e-2, 1)\n",
      "C:\\Users\\maham\\AppData\\Local\\Temp\\ipykernel_20880\\901958678.py:3: FutureWarning: suggest_loguniform has been deprecated in v3.0.0. This feature will be removed in v6.0.0. See https://github.com/optuna/optuna/releases/tag/v3.0.0. Use suggest_float(..., log=True) instead.\n",
      "  lg_tol = trial.suggest_loguniform('tol', 1e-6 , 1e-3)\n",
      "[I 2024-05-23 09:47:04,829] Trial 44 finished with value: 0.9523423828688533 and parameters: {'C': 0.7572089177816949, 'tol': 1.794957295956663e-05, 'solver': 'newton-cg'}. Best is trial 12 with value: 0.9538810855189399.\n",
      "C:\\Users\\maham\\AppData\\Local\\Temp\\ipykernel_20880\\901958678.py:2: FutureWarning: suggest_loguniform has been deprecated in v3.0.0. This feature will be removed in v6.0.0. See https://github.com/optuna/optuna/releases/tag/v3.0.0. Use suggest_float(..., log=True) instead.\n",
      "  lg_c = trial.suggest_loguniform('C', 1e-2, 1)\n",
      "C:\\Users\\maham\\AppData\\Local\\Temp\\ipykernel_20880\\901958678.py:3: FutureWarning: suggest_loguniform has been deprecated in v3.0.0. This feature will be removed in v6.0.0. See https://github.com/optuna/optuna/releases/tag/v3.0.0. Use suggest_float(..., log=True) instead.\n",
      "  lg_tol = trial.suggest_loguniform('tol', 1e-6 , 1e-3)\n",
      "[I 2024-05-23 09:47:06,144] Trial 45 finished with value: 0.9374679685874808 and parameters: {'C': 0.0654434278331212, 'tol': 1.9736998719333692e-06, 'solver': 'newton-cg'}. Best is trial 12 with value: 0.9538810855189399.\n",
      "C:\\Users\\maham\\AppData\\Local\\Temp\\ipykernel_20880\\901958678.py:2: FutureWarning: suggest_loguniform has been deprecated in v3.0.0. This feature will be removed in v6.0.0. See https://github.com/optuna/optuna/releases/tag/v3.0.0. Use suggest_float(..., log=True) instead.\n",
      "  lg_c = trial.suggest_loguniform('C', 1e-2, 1)\n",
      "C:\\Users\\maham\\AppData\\Local\\Temp\\ipykernel_20880\\901958678.py:3: FutureWarning: suggest_loguniform has been deprecated in v3.0.0. This feature will be removed in v6.0.0. See https://github.com/optuna/optuna/releases/tag/v3.0.0. Use suggest_float(..., log=True) instead.\n",
      "  lg_tol = trial.suggest_loguniform('tol', 1e-6 , 1e-3)\n",
      "[I 2024-05-23 09:47:07,302] Trial 46 finished with value: 0.9537956044743616 and parameters: {'C': 0.9759258253236507, 'tol': 8.470813865445074e-06, 'solver': 'liblinear'}. Best is trial 12 with value: 0.9538810855189399.\n",
      "C:\\Users\\maham\\AppData\\Local\\Temp\\ipykernel_20880\\901958678.py:2: FutureWarning: suggest_loguniform has been deprecated in v3.0.0. This feature will be removed in v6.0.0. See https://github.com/optuna/optuna/releases/tag/v3.0.0. Use suggest_float(..., log=True) instead.\n",
      "  lg_c = trial.suggest_loguniform('C', 1e-2, 1)\n",
      "C:\\Users\\maham\\AppData\\Local\\Temp\\ipykernel_20880\\901958678.py:3: FutureWarning: suggest_loguniform has been deprecated in v3.0.0. This feature will be removed in v6.0.0. See https://github.com/optuna/optuna/releases/tag/v3.0.0. Use suggest_float(..., log=True) instead.\n",
      "  lg_tol = trial.suggest_loguniform('tol', 1e-6 , 1e-3)\n",
      "[I 2024-05-23 09:47:08,464] Trial 47 finished with value: 0.950589917316766 and parameters: {'C': 0.5361243642287676, 'tol': 2.007237555994717e-05, 'solver': 'liblinear'}. Best is trial 12 with value: 0.9538810855189399.\n",
      "C:\\Users\\maham\\AppData\\Local\\Temp\\ipykernel_20880\\901958678.py:2: FutureWarning: suggest_loguniform has been deprecated in v3.0.0. This feature will be removed in v6.0.0. See https://github.com/optuna/optuna/releases/tag/v3.0.0. Use suggest_float(..., log=True) instead.\n",
      "  lg_c = trial.suggest_loguniform('C', 1e-2, 1)\n",
      "C:\\Users\\maham\\AppData\\Local\\Temp\\ipykernel_20880\\901958678.py:3: FutureWarning: suggest_loguniform has been deprecated in v3.0.0. This feature will be removed in v6.0.0. See https://github.com/optuna/optuna/releases/tag/v3.0.0. Use suggest_float(..., log=True) instead.\n",
      "  lg_tol = trial.suggest_loguniform('tol', 1e-6 , 1e-3)\n",
      "[I 2024-05-23 09:47:09,602] Trial 48 finished with value: 0.9526415774867966 and parameters: {'C': 0.809716110577846, 'tol': 9.893112826975078e-06, 'solver': 'liblinear'}. Best is trial 12 with value: 0.9538810855189399.\n",
      "C:\\Users\\maham\\AppData\\Local\\Temp\\ipykernel_20880\\901958678.py:2: FutureWarning: suggest_loguniform has been deprecated in v3.0.0. This feature will be removed in v6.0.0. See https://github.com/optuna/optuna/releases/tag/v3.0.0. Use suggest_float(..., log=True) instead.\n",
      "  lg_c = trial.suggest_loguniform('C', 1e-2, 1)\n",
      "C:\\Users\\maham\\AppData\\Local\\Temp\\ipykernel_20880\\901958678.py:3: FutureWarning: suggest_loguniform has been deprecated in v3.0.0. This feature will be removed in v6.0.0. See https://github.com/optuna/optuna/releases/tag/v3.0.0. Use suggest_float(..., log=True) instead.\n",
      "  lg_tol = trial.suggest_loguniform('tol', 1e-6 , 1e-3)\n",
      "[I 2024-05-23 09:47:10,793] Trial 49 finished with value: 0.948752009086817 and parameters: {'C': 0.3847130517291095, 'tol': 7.748265885870585e-06, 'solver': 'liblinear'}. Best is trial 12 with value: 0.9538810855189399.\n",
      "C:\\Users\\maham\\AppData\\Local\\Temp\\ipykernel_20880\\901958678.py:2: FutureWarning: suggest_loguniform has been deprecated in v3.0.0. This feature will be removed in v6.0.0. See https://github.com/optuna/optuna/releases/tag/v3.0.0. Use suggest_float(..., log=True) instead.\n",
      "  lg_c = trial.suggest_loguniform('C', 1e-2, 1)\n",
      "C:\\Users\\maham\\AppData\\Local\\Temp\\ipykernel_20880\\901958678.py:3: FutureWarning: suggest_loguniform has been deprecated in v3.0.0. This feature will be removed in v6.0.0. See https://github.com/optuna/optuna/releases/tag/v3.0.0. Use suggest_float(..., log=True) instead.\n",
      "  lg_tol = trial.suggest_loguniform('tol', 1e-6 , 1e-3)\n",
      "[I 2024-05-23 09:47:11,873] Trial 50 finished with value: 0.9337494061243342 and parameters: {'C': 0.027839279242289443, 'tol': 3.7965502650592064e-06, 'solver': 'liblinear'}. Best is trial 12 with value: 0.9538810855189399.\n",
      "C:\\Users\\maham\\AppData\\Local\\Temp\\ipykernel_20880\\901958678.py:2: FutureWarning: suggest_loguniform has been deprecated in v3.0.0. This feature will be removed in v6.0.0. See https://github.com/optuna/optuna/releases/tag/v3.0.0. Use suggest_float(..., log=True) instead.\n",
      "  lg_c = trial.suggest_loguniform('C', 1e-2, 1)\n",
      "C:\\Users\\maham\\AppData\\Local\\Temp\\ipykernel_20880\\901958678.py:3: FutureWarning: suggest_loguniform has been deprecated in v3.0.0. This feature will be removed in v6.0.0. See https://github.com/optuna/optuna/releases/tag/v3.0.0. Use suggest_float(..., log=True) instead.\n",
      "  lg_tol = trial.suggest_loguniform('tol', 1e-6 , 1e-3)\n",
      "[I 2024-05-23 09:47:13,016] Trial 51 finished with value: 0.9538810855189399 and parameters: {'C': 0.9881283448992051, 'tol': 6.00001790285636e-06, 'solver': 'liblinear'}. Best is trial 12 with value: 0.9538810855189399.\n",
      "C:\\Users\\maham\\AppData\\Local\\Temp\\ipykernel_20880\\901958678.py:2: FutureWarning: suggest_loguniform has been deprecated in v3.0.0. This feature will be removed in v6.0.0. See https://github.com/optuna/optuna/releases/tag/v3.0.0. Use suggest_float(..., log=True) instead.\n",
      "  lg_c = trial.suggest_loguniform('C', 1e-2, 1)\n",
      "C:\\Users\\maham\\AppData\\Local\\Temp\\ipykernel_20880\\901958678.py:3: FutureWarning: suggest_loguniform has been deprecated in v3.0.0. This feature will be removed in v6.0.0. See https://github.com/optuna/optuna/releases/tag/v3.0.0. Use suggest_float(..., log=True) instead.\n",
      "  lg_tol = trial.suggest_loguniform('tol', 1e-6 , 1e-3)\n",
      "[I 2024-05-23 09:47:14,134] Trial 52 finished with value: 0.9526415774867966 and parameters: {'C': 0.8002610607612138, 'tol': 5.3893985260960395e-06, 'solver': 'liblinear'}. Best is trial 12 with value: 0.9538810855189399.\n",
      "C:\\Users\\maham\\AppData\\Local\\Temp\\ipykernel_20880\\901958678.py:2: FutureWarning: suggest_loguniform has been deprecated in v3.0.0. This feature will be removed in v6.0.0. See https://github.com/optuna/optuna/releases/tag/v3.0.0. Use suggest_float(..., log=True) instead.\n",
      "  lg_c = trial.suggest_loguniform('C', 1e-2, 1)\n",
      "C:\\Users\\maham\\AppData\\Local\\Temp\\ipykernel_20880\\901958678.py:3: FutureWarning: suggest_loguniform has been deprecated in v3.0.0. This feature will be removed in v6.0.0. See https://github.com/optuna/optuna/releases/tag/v3.0.0. Use suggest_float(..., log=True) instead.\n",
      "  lg_tol = trial.suggest_loguniform('tol', 1e-6 , 1e-3)\n",
      "[I 2024-05-23 09:47:15,458] Trial 53 finished with value: 0.9539238260412292 and parameters: {'C': 0.9941607778943732, 'tol': 1.2468661945980451e-05, 'solver': 'liblinear'}. Best is trial 53 with value: 0.9539238260412292.\n",
      "C:\\Users\\maham\\AppData\\Local\\Temp\\ipykernel_20880\\901958678.py:2: FutureWarning: suggest_loguniform has been deprecated in v3.0.0. This feature will be removed in v6.0.0. See https://github.com/optuna/optuna/releases/tag/v3.0.0. Use suggest_float(..., log=True) instead.\n",
      "  lg_c = trial.suggest_loguniform('C', 1e-2, 1)\n",
      "C:\\Users\\maham\\AppData\\Local\\Temp\\ipykernel_20880\\901958678.py:3: FutureWarning: suggest_loguniform has been deprecated in v3.0.0. This feature will be removed in v6.0.0. See https://github.com/optuna/optuna/releases/tag/v3.0.0. Use suggest_float(..., log=True) instead.\n",
      "  lg_tol = trial.suggest_loguniform('tol', 1e-6 , 1e-3)\n",
      "[I 2024-05-23 09:47:16,531] Trial 54 finished with value: 0.9514447716102258 and parameters: {'C': 0.6335632174376734, 'tol': 1.3937196144244038e-05, 'solver': 'liblinear'}. Best is trial 53 with value: 0.9539238260412292.\n",
      "C:\\Users\\maham\\AppData\\Local\\Temp\\ipykernel_20880\\901958678.py:2: FutureWarning: suggest_loguniform has been deprecated in v3.0.0. This feature will be removed in v6.0.0. See https://github.com/optuna/optuna/releases/tag/v3.0.0. Use suggest_float(..., log=True) instead.\n",
      "  lg_c = trial.suggest_loguniform('C', 1e-2, 1)\n",
      "C:\\Users\\maham\\AppData\\Local\\Temp\\ipykernel_20880\\901958678.py:3: FutureWarning: suggest_loguniform has been deprecated in v3.0.0. This feature will be removed in v6.0.0. See https://github.com/optuna/optuna/releases/tag/v3.0.0. Use suggest_float(..., log=True) instead.\n",
      "  lg_tol = trial.suggest_loguniform('tol', 1e-6 , 1e-3)\n",
      "[I 2024-05-23 09:47:17,810] Trial 55 finished with value: 0.9500770036444982 and parameters: {'C': 0.48125387115293444, 'tol': 8.655122007765594e-06, 'solver': 'liblinear'}. Best is trial 53 with value: 0.9539238260412292.\n",
      "C:\\Users\\maham\\AppData\\Local\\Temp\\ipykernel_20880\\901958678.py:2: FutureWarning: suggest_loguniform has been deprecated in v3.0.0. This feature will be removed in v6.0.0. See https://github.com/optuna/optuna/releases/tag/v3.0.0. Use suggest_float(..., log=True) instead.\n",
      "  lg_c = trial.suggest_loguniform('C', 1e-2, 1)\n",
      "C:\\Users\\maham\\AppData\\Local\\Temp\\ipykernel_20880\\901958678.py:3: FutureWarning: suggest_loguniform has been deprecated in v3.0.0. This feature will be removed in v6.0.0. See https://github.com/optuna/optuna/releases/tag/v3.0.0. Use suggest_float(..., log=True) instead.\n",
      "  lg_tol = trial.suggest_loguniform('tol', 1e-6 , 1e-3)\n",
      "[I 2024-05-23 09:47:19,265] Trial 56 finished with value: 0.9528125560188317 and parameters: {'C': 0.8556019613932305, 'tol': 6.925757205440464e-06, 'solver': 'liblinear'}. Best is trial 53 with value: 0.9539238260412292.\n",
      "C:\\Users\\maham\\AppData\\Local\\Temp\\ipykernel_20880\\901958678.py:2: FutureWarning: suggest_loguniform has been deprecated in v3.0.0. This feature will be removed in v6.0.0. See https://github.com/optuna/optuna/releases/tag/v3.0.0. Use suggest_float(..., log=True) instead.\n",
      "  lg_c = trial.suggest_loguniform('C', 1e-2, 1)\n",
      "C:\\Users\\maham\\AppData\\Local\\Temp\\ipykernel_20880\\901958678.py:3: FutureWarning: suggest_loguniform has been deprecated in v3.0.0. This feature will be removed in v6.0.0. See https://github.com/optuna/optuna/releases/tag/v3.0.0. Use suggest_float(..., log=True) instead.\n",
      "  lg_tol = trial.suggest_loguniform('tol', 1e-6 , 1e-3)\n",
      "[I 2024-05-23 09:47:20,513] Trial 57 finished with value: 0.9511028255080743 and parameters: {'C': 0.5927360043745397, 'tol': 1.1415659470842447e-05, 'solver': 'liblinear'}. Best is trial 53 with value: 0.9539238260412292.\n",
      "C:\\Users\\maham\\AppData\\Local\\Temp\\ipykernel_20880\\901958678.py:2: FutureWarning: suggest_loguniform has been deprecated in v3.0.0. This feature will be removed in v6.0.0. See https://github.com/optuna/optuna/releases/tag/v3.0.0. Use suggest_float(..., log=True) instead.\n",
      "  lg_c = trial.suggest_loguniform('C', 1e-2, 1)\n",
      "C:\\Users\\maham\\AppData\\Local\\Temp\\ipykernel_20880\\901958678.py:3: FutureWarning: suggest_loguniform has been deprecated in v3.0.0. This feature will be removed in v6.0.0. See https://github.com/optuna/optuna/releases/tag/v3.0.0. Use suggest_float(..., log=True) instead.\n",
      "  lg_tol = trial.suggest_loguniform('tol', 1e-6 , 1e-3)\n",
      "[I 2024-05-23 09:47:21,653] Trial 58 finished with value: 0.9527698100155831 and parameters: {'C': 0.8502047809403129, 'tol': 2.8134040893881484e-05, 'solver': 'liblinear'}. Best is trial 53 with value: 0.9539238260412292.\n",
      "C:\\Users\\maham\\AppData\\Local\\Temp\\ipykernel_20880\\901958678.py:2: FutureWarning: suggest_loguniform has been deprecated in v3.0.0. This feature will be removed in v6.0.0. See https://github.com/optuna/optuna/releases/tag/v3.0.0. Use suggest_float(..., log=True) instead.\n",
      "  lg_c = trial.suggest_loguniform('C', 1e-2, 1)\n",
      "C:\\Users\\maham\\AppData\\Local\\Temp\\ipykernel_20880\\901958678.py:3: FutureWarning: suggest_loguniform has been deprecated in v3.0.0. This feature will be removed in v6.0.0. See https://github.com/optuna/optuna/releases/tag/v3.0.0. Use suggest_float(..., log=True) instead.\n",
      "  lg_tol = trial.suggest_loguniform('tol', 1e-6 , 1e-3)\n",
      "[I 2024-05-23 09:47:22,842] Trial 59 finished with value: 0.9520004312857423 and parameters: {'C': 0.6822821961310411, 'tol': 1.711481736574787e-05, 'solver': 'liblinear'}. Best is trial 53 with value: 0.9539238260412292.\n",
      "C:\\Users\\maham\\AppData\\Local\\Temp\\ipykernel_20880\\901958678.py:2: FutureWarning: suggest_loguniform has been deprecated in v3.0.0. This feature will be removed in v6.0.0. See https://github.com/optuna/optuna/releases/tag/v3.0.0. Use suggest_float(..., log=True) instead.\n",
      "  lg_c = trial.suggest_loguniform('C', 1e-2, 1)\n",
      "C:\\Users\\maham\\AppData\\Local\\Temp\\ipykernel_20880\\901958678.py:3: FutureWarning: suggest_loguniform has been deprecated in v3.0.0. This feature will be removed in v6.0.0. See https://github.com/optuna/optuna/releases/tag/v3.0.0. Use suggest_float(..., log=True) instead.\n",
      "  lg_tol = trial.suggest_loguniform('tol', 1e-6 , 1e-3)\n",
      "[I 2024-05-23 09:47:24,008] Trial 60 finished with value: 0.9503334687020715 and parameters: {'C': 0.5183537571613699, 'tol': 3.8156425397090856e-05, 'solver': 'liblinear'}. Best is trial 53 with value: 0.9539238260412292.\n",
      "C:\\Users\\maham\\AppData\\Local\\Temp\\ipykernel_20880\\901958678.py:2: FutureWarning: suggest_loguniform has been deprecated in v3.0.0. This feature will be removed in v6.0.0. See https://github.com/optuna/optuna/releases/tag/v3.0.0. Use suggest_float(..., log=True) instead.\n",
      "  lg_c = trial.suggest_loguniform('C', 1e-2, 1)\n",
      "C:\\Users\\maham\\AppData\\Local\\Temp\\ipykernel_20880\\901958678.py:3: FutureWarning: suggest_loguniform has been deprecated in v3.0.0. This feature will be removed in v6.0.0. See https://github.com/optuna/optuna/releases/tag/v3.0.0. Use suggest_float(..., log=True) instead.\n",
      "  lg_tol = trial.suggest_loguniform('tol', 1e-6 , 1e-3)\n",
      "[I 2024-05-23 09:47:25,228] Trial 61 finished with value: 0.9538810855189399 and parameters: {'C': 0.9883012538184042, 'tol': 2.9771792872772813e-06, 'solver': 'liblinear'}. Best is trial 53 with value: 0.9539238260412292.\n",
      "C:\\Users\\maham\\AppData\\Local\\Temp\\ipykernel_20880\\901958678.py:2: FutureWarning: suggest_loguniform has been deprecated in v3.0.0. This feature will be removed in v6.0.0. See https://github.com/optuna/optuna/releases/tag/v3.0.0. Use suggest_float(..., log=True) instead.\n",
      "  lg_c = trial.suggest_loguniform('C', 1e-2, 1)\n",
      "C:\\Users\\maham\\AppData\\Local\\Temp\\ipykernel_20880\\901958678.py:3: FutureWarning: suggest_loguniform has been deprecated in v3.0.0. This feature will be removed in v6.0.0. See https://github.com/optuna/optuna/releases/tag/v3.0.0. Use suggest_float(..., log=True) instead.\n",
      "  lg_tol = trial.suggest_loguniform('tol', 1e-6 , 1e-3)\n",
      "[I 2024-05-23 09:47:26,696] Trial 62 finished with value: 0.9538810855189399 and parameters: {'C': 0.9860144710208449, 'tol': 2.9741573557280213e-06, 'solver': 'liblinear'}. Best is trial 53 with value: 0.9539238260412292.\n",
      "C:\\Users\\maham\\AppData\\Local\\Temp\\ipykernel_20880\\901958678.py:2: FutureWarning: suggest_loguniform has been deprecated in v3.0.0. This feature will be removed in v6.0.0. See https://github.com/optuna/optuna/releases/tag/v3.0.0. Use suggest_float(..., log=True) instead.\n",
      "  lg_c = trial.suggest_loguniform('C', 1e-2, 1)\n",
      "C:\\Users\\maham\\AppData\\Local\\Temp\\ipykernel_20880\\901958678.py:3: FutureWarning: suggest_loguniform has been deprecated in v3.0.0. This feature will be removed in v6.0.0. See https://github.com/optuna/optuna/releases/tag/v3.0.0. Use suggest_float(..., log=True) instead.\n",
      "  lg_tol = trial.suggest_loguniform('tol', 1e-6 , 1e-3)\n",
      "[I 2024-05-23 09:47:28,032] Trial 63 finished with value: 0.9527270640123344 and parameters: {'C': 0.8278299169113869, 'tol': 2.936147090486501e-06, 'solver': 'liblinear'}. Best is trial 53 with value: 0.9539238260412292.\n",
      "C:\\Users\\maham\\AppData\\Local\\Temp\\ipykernel_20880\\901958678.py:2: FutureWarning: suggest_loguniform has been deprecated in v3.0.0. This feature will be removed in v6.0.0. See https://github.com/optuna/optuna/releases/tag/v3.0.0. Use suggest_float(..., log=True) instead.\n",
      "  lg_c = trial.suggest_loguniform('C', 1e-2, 1)\n",
      "C:\\Users\\maham\\AppData\\Local\\Temp\\ipykernel_20880\\901958678.py:3: FutureWarning: suggest_loguniform has been deprecated in v3.0.0. This feature will be removed in v6.0.0. See https://github.com/optuna/optuna/releases/tag/v3.0.0. Use suggest_float(..., log=True) instead.\n",
      "  lg_tol = trial.suggest_loguniform('tol', 1e-6 , 1e-3)\n",
      "[I 2024-05-23 09:47:29,376] Trial 64 finished with value: 0.9539238260412292 and parameters: {'C': 0.9971769427250663, 'tol': 2.4722802840046884e-06, 'solver': 'liblinear'}. Best is trial 53 with value: 0.9539238260412292.\n",
      "C:\\Users\\maham\\AppData\\Local\\Temp\\ipykernel_20880\\901958678.py:2: FutureWarning: suggest_loguniform has been deprecated in v3.0.0. This feature will be removed in v6.0.0. See https://github.com/optuna/optuna/releases/tag/v3.0.0. Use suggest_float(..., log=True) instead.\n",
      "  lg_c = trial.suggest_loguniform('C', 1e-2, 1)\n",
      "C:\\Users\\maham\\AppData\\Local\\Temp\\ipykernel_20880\\901958678.py:3: FutureWarning: suggest_loguniform has been deprecated in v3.0.0. This feature will be removed in v6.0.0. See https://github.com/optuna/optuna/releases/tag/v3.0.0. Use suggest_float(..., log=True) instead.\n",
      "  lg_tol = trial.suggest_loguniform('tol', 1e-6 , 1e-3)\n",
      "[I 2024-05-23 09:47:30,548] Trial 65 finished with value: 0.9524278748753506 and parameters: {'C': 0.7480743782432789, 'tol': 2.72370710079024e-06, 'solver': 'liblinear'}. Best is trial 53 with value: 0.9539238260412292.\n",
      "C:\\Users\\maham\\AppData\\Local\\Temp\\ipykernel_20880\\901958678.py:2: FutureWarning: suggest_loguniform has been deprecated in v3.0.0. This feature will be removed in v6.0.0. See https://github.com/optuna/optuna/releases/tag/v3.0.0. Use suggest_float(..., log=True) instead.\n",
      "  lg_c = trial.suggest_loguniform('C', 1e-2, 1)\n",
      "C:\\Users\\maham\\AppData\\Local\\Temp\\ipykernel_20880\\901958678.py:3: FutureWarning: suggest_loguniform has been deprecated in v3.0.0. This feature will be removed in v6.0.0. See https://github.com/optuna/optuna/releases/tag/v3.0.0. Use suggest_float(..., log=True) instead.\n",
      "  lg_tol = trial.suggest_loguniform('tol', 1e-6 , 1e-3)\n",
      "[I 2024-05-23 09:47:31,854] Trial 66 finished with value: 0.9509318579379581 and parameters: {'C': 0.5860187231421267, 'tol': 1.7784785682920629e-06, 'solver': 'liblinear'}. Best is trial 53 with value: 0.9539238260412292.\n",
      "C:\\Users\\maham\\AppData\\Local\\Temp\\ipykernel_20880\\901958678.py:2: FutureWarning: suggest_loguniform has been deprecated in v3.0.0. This feature will be removed in v6.0.0. See https://github.com/optuna/optuna/releases/tag/v3.0.0. Use suggest_float(..., log=True) instead.\n",
      "  lg_c = trial.suggest_loguniform('C', 1e-2, 1)\n",
      "C:\\Users\\maham\\AppData\\Local\\Temp\\ipykernel_20880\\901958678.py:3: FutureWarning: suggest_loguniform has been deprecated in v3.0.0. This feature will be removed in v6.0.0. See https://github.com/optuna/optuna/releases/tag/v3.0.0. Use suggest_float(..., log=True) instead.\n",
      "  lg_tol = trial.suggest_loguniform('tol', 1e-6 , 1e-3)\n",
      "[I 2024-05-23 09:47:33,027] Trial 67 finished with value: 0.9527698100155831 and parameters: {'C': 0.8509967771990634, 'tol': 3.4619522698272717e-06, 'solver': 'liblinear'}. Best is trial 53 with value: 0.9539238260412292.\n",
      "C:\\Users\\maham\\AppData\\Local\\Temp\\ipykernel_20880\\901958678.py:2: FutureWarning: suggest_loguniform has been deprecated in v3.0.0. This feature will be removed in v6.0.0. See https://github.com/optuna/optuna/releases/tag/v3.0.0. Use suggest_float(..., log=True) instead.\n",
      "  lg_c = trial.suggest_loguniform('C', 1e-2, 1)\n",
      "C:\\Users\\maham\\AppData\\Local\\Temp\\ipykernel_20880\\901958678.py:3: FutureWarning: suggest_loguniform has been deprecated in v3.0.0. This feature will be removed in v6.0.0. See https://github.com/optuna/optuna/releases/tag/v3.0.0. Use suggest_float(..., log=True) instead.\n",
      "  lg_tol = trial.suggest_loguniform('tol', 1e-6 , 1e-3)\n",
      "[I 2024-05-23 09:47:34,220] Trial 68 finished with value: 0.9495213549309008 and parameters: {'C': 0.42483100945688523, 'tol': 5.152854771683612e-06, 'solver': 'liblinear'}. Best is trial 53 with value: 0.9539238260412292.\n",
      "C:\\Users\\maham\\AppData\\Local\\Temp\\ipykernel_20880\\901958678.py:2: FutureWarning: suggest_loguniform has been deprecated in v3.0.0. This feature will be removed in v6.0.0. See https://github.com/optuna/optuna/releases/tag/v3.0.0. Use suggest_float(..., log=True) instead.\n",
      "  lg_c = trial.suggest_loguniform('C', 1e-2, 1)\n",
      "C:\\Users\\maham\\AppData\\Local\\Temp\\ipykernel_20880\\901958678.py:3: FutureWarning: suggest_loguniform has been deprecated in v3.0.0. This feature will be removed in v6.0.0. See https://github.com/optuna/optuna/releases/tag/v3.0.0. Use suggest_float(..., log=True) instead.\n",
      "  lg_tol = trial.suggest_loguniform('tol', 1e-6 , 1e-3)\n",
      "[I 2024-05-23 09:47:35,395] Trial 69 finished with value: 0.9539238260412292 and parameters: {'C': 0.9970138152827152, 'tol': 1.44269456235466e-06, 'solver': 'liblinear'}. Best is trial 53 with value: 0.9539238260412292.\n",
      "C:\\Users\\maham\\AppData\\Local\\Temp\\ipykernel_20880\\901958678.py:2: FutureWarning: suggest_loguniform has been deprecated in v3.0.0. This feature will be removed in v6.0.0. See https://github.com/optuna/optuna/releases/tag/v3.0.0. Use suggest_float(..., log=True) instead.\n",
      "  lg_c = trial.suggest_loguniform('C', 1e-2, 1)\n",
      "C:\\Users\\maham\\AppData\\Local\\Temp\\ipykernel_20880\\901958678.py:3: FutureWarning: suggest_loguniform has been deprecated in v3.0.0. This feature will be removed in v6.0.0. See https://github.com/optuna/optuna/releases/tag/v3.0.0. Use suggest_float(..., log=True) instead.\n",
      "  lg_tol = trial.suggest_loguniform('tol', 1e-6 , 1e-3)\n",
      "[I 2024-05-23 09:47:36,574] Trial 70 finished with value: 0.9520431772889909 and parameters: {'C': 0.6853135781914773, 'tol': 1.383417425028794e-06, 'solver': 'liblinear'}. Best is trial 53 with value: 0.9539238260412292.\n",
      "C:\\Users\\maham\\AppData\\Local\\Temp\\ipykernel_20880\\901958678.py:2: FutureWarning: suggest_loguniform has been deprecated in v3.0.0. This feature will be removed in v6.0.0. See https://github.com/optuna/optuna/releases/tag/v3.0.0. Use suggest_float(..., log=True) instead.\n",
      "  lg_c = trial.suggest_loguniform('C', 1e-2, 1)\n",
      "C:\\Users\\maham\\AppData\\Local\\Temp\\ipykernel_20880\\901958678.py:3: FutureWarning: suggest_loguniform has been deprecated in v3.0.0. This feature will be removed in v6.0.0. See https://github.com/optuna/optuna/releases/tag/v3.0.0. Use suggest_float(..., log=True) instead.\n",
      "  lg_tol = trial.suggest_loguniform('tol', 1e-6 , 1e-3)\n",
      "[I 2024-05-23 09:47:37,757] Trial 71 finished with value: 0.9539238260412292 and parameters: {'C': 0.9963656679340406, 'tol': 2.2583420583437932e-06, 'solver': 'liblinear'}. Best is trial 53 with value: 0.9539238260412292.\n",
      "C:\\Users\\maham\\AppData\\Local\\Temp\\ipykernel_20880\\901958678.py:2: FutureWarning: suggest_loguniform has been deprecated in v3.0.0. This feature will be removed in v6.0.0. See https://github.com/optuna/optuna/releases/tag/v3.0.0. Use suggest_float(..., log=True) instead.\n",
      "  lg_c = trial.suggest_loguniform('C', 1e-2, 1)\n",
      "C:\\Users\\maham\\AppData\\Local\\Temp\\ipykernel_20880\\901958678.py:3: FutureWarning: suggest_loguniform has been deprecated in v3.0.0. This feature will be removed in v6.0.0. See https://github.com/optuna/optuna/releases/tag/v3.0.0. Use suggest_float(..., log=True) instead.\n",
      "  lg_tol = trial.suggest_loguniform('tol', 1e-6 , 1e-3)\n",
      "[I 2024-05-23 09:47:38,989] Trial 72 finished with value: 0.9527270640123344 and parameters: {'C': 0.8316992281144049, 'tol': 2.1830628211885606e-06, 'solver': 'liblinear'}. Best is trial 53 with value: 0.9539238260412292.\n",
      "C:\\Users\\maham\\AppData\\Local\\Temp\\ipykernel_20880\\901958678.py:2: FutureWarning: suggest_loguniform has been deprecated in v3.0.0. This feature will be removed in v6.0.0. See https://github.com/optuna/optuna/releases/tag/v3.0.0. Use suggest_float(..., log=True) instead.\n",
      "  lg_c = trial.suggest_loguniform('C', 1e-2, 1)\n",
      "C:\\Users\\maham\\AppData\\Local\\Temp\\ipykernel_20880\\901958678.py:3: FutureWarning: suggest_loguniform has been deprecated in v3.0.0. This feature will be removed in v6.0.0. See https://github.com/optuna/optuna/releases/tag/v3.0.0. Use suggest_float(..., log=True) instead.\n",
      "  lg_tol = trial.suggest_loguniform('tol', 1e-6 , 1e-3)\n",
      "[I 2024-05-23 09:47:40,078] Trial 73 finished with value: 0.9522141558210263 and parameters: {'C': 0.717250510727614, 'tol': 1.8526497111574362e-06, 'solver': 'liblinear'}. Best is trial 53 with value: 0.9539238260412292.\n",
      "C:\\Users\\maham\\AppData\\Local\\Temp\\ipykernel_20880\\901958678.py:2: FutureWarning: suggest_loguniform has been deprecated in v3.0.0. This feature will be removed in v6.0.0. See https://github.com/optuna/optuna/releases/tag/v3.0.0. Use suggest_float(..., log=True) instead.\n",
      "  lg_c = trial.suggest_loguniform('C', 1e-2, 1)\n",
      "C:\\Users\\maham\\AppData\\Local\\Temp\\ipykernel_20880\\901958678.py:3: FutureWarning: suggest_loguniform has been deprecated in v3.0.0. This feature will be removed in v6.0.0. See https://github.com/optuna/optuna/releases/tag/v3.0.0. Use suggest_float(..., log=True) instead.\n",
      "  lg_tol = trial.suggest_loguniform('tol', 1e-6 , 1e-3)\n",
      "[I 2024-05-23 09:47:41,247] Trial 74 finished with value: 0.9530262641112373 and parameters: {'C': 0.8795621747559438, 'tol': 2.559426759759472e-06, 'solver': 'liblinear'}. Best is trial 53 with value: 0.9539238260412292.\n",
      "C:\\Users\\maham\\AppData\\Local\\Temp\\ipykernel_20880\\901958678.py:2: FutureWarning: suggest_loguniform has been deprecated in v3.0.0. This feature will be removed in v6.0.0. See https://github.com/optuna/optuna/releases/tag/v3.0.0. Use suggest_float(..., log=True) instead.\n",
      "  lg_c = trial.suggest_loguniform('C', 1e-2, 1)\n",
      "C:\\Users\\maham\\AppData\\Local\\Temp\\ipykernel_20880\\901958678.py:3: FutureWarning: suggest_loguniform has been deprecated in v3.0.0. This feature will be removed in v6.0.0. See https://github.com/optuna/optuna/releases/tag/v3.0.0. Use suggest_float(..., log=True) instead.\n",
      "  lg_tol = trial.suggest_loguniform('tol', 1e-6 , 1e-3)\n",
      "[I 2024-05-23 09:47:42,342] Trial 75 finished with value: 0.9511883120336121 and parameters: {'C': 0.6058037297614317, 'tol': 1.5267228602804245e-06, 'solver': 'liblinear'}. Best is trial 53 with value: 0.9539238260412292.\n",
      "C:\\Users\\maham\\AppData\\Local\\Temp\\ipykernel_20880\\901958678.py:2: FutureWarning: suggest_loguniform has been deprecated in v3.0.0. This feature will be removed in v6.0.0. See https://github.com/optuna/optuna/releases/tag/v3.0.0. Use suggest_float(..., log=True) instead.\n",
      "  lg_c = trial.suggest_loguniform('C', 1e-2, 1)\n",
      "C:\\Users\\maham\\AppData\\Local\\Temp\\ipykernel_20880\\901958678.py:3: FutureWarning: suggest_loguniform has been deprecated in v3.0.0. This feature will be removed in v6.0.0. See https://github.com/optuna/optuna/releases/tag/v3.0.0. Use suggest_float(..., log=True) instead.\n",
      "  lg_tol = trial.suggest_loguniform('tol', 1e-6 , 1e-3)\n",
      "[I 2024-05-23 09:47:43,480] Trial 76 finished with value: 0.9538810855189399 and parameters: {'C': 0.9878041986568851, 'tol': 3.353000479802684e-06, 'solver': 'liblinear'}. Best is trial 53 with value: 0.9539238260412292.\n",
      "C:\\Users\\maham\\AppData\\Local\\Temp\\ipykernel_20880\\901958678.py:2: FutureWarning: suggest_loguniform has been deprecated in v3.0.0. This feature will be removed in v6.0.0. See https://github.com/optuna/optuna/releases/tag/v3.0.0. Use suggest_float(..., log=True) instead.\n",
      "  lg_c = trial.suggest_loguniform('C', 1e-2, 1)\n",
      "C:\\Users\\maham\\AppData\\Local\\Temp\\ipykernel_20880\\901958678.py:3: FutureWarning: suggest_loguniform has been deprecated in v3.0.0. This feature will be removed in v6.0.0. See https://github.com/optuna/optuna/releases/tag/v3.0.0. Use suggest_float(..., log=True) instead.\n",
      "  lg_tol = trial.suggest_loguniform('tol', 1e-6 , 1e-3)\n",
      "[I 2024-05-23 09:47:45,379] Trial 77 finished with value: 0.9522996423465641 and parameters: {'C': 0.7480946949838061, 'tol': 2.159184178728105e-06, 'solver': 'lbfgs'}. Best is trial 53 with value: 0.9539238260412292.\n",
      "C:\\Users\\maham\\AppData\\Local\\Temp\\ipykernel_20880\\901958678.py:2: FutureWarning: suggest_loguniform has been deprecated in v3.0.0. This feature will be removed in v6.0.0. See https://github.com/optuna/optuna/releases/tag/v3.0.0. Use suggest_float(..., log=True) instead.\n",
      "  lg_c = trial.suggest_loguniform('C', 1e-2, 1)\n",
      "C:\\Users\\maham\\AppData\\Local\\Temp\\ipykernel_20880\\901958678.py:3: FutureWarning: suggest_loguniform has been deprecated in v3.0.0. This feature will be removed in v6.0.0. See https://github.com/optuna/optuna/releases/tag/v3.0.0. Use suggest_float(..., log=True) instead.\n",
      "  lg_tol = trial.suggest_loguniform('tol', 1e-6 , 1e-3)\n",
      "[I 2024-05-23 09:47:46,590] Trial 78 finished with value: 0.9531544856781048 and parameters: {'C': 0.8859411153511906, 'tol': 1.2062315715314838e-06, 'solver': 'liblinear'}. Best is trial 53 with value: 0.9539238260412292.\n",
      "C:\\Users\\maham\\AppData\\Local\\Temp\\ipykernel_20880\\901958678.py:2: FutureWarning: suggest_loguniform has been deprecated in v3.0.0. This feature will be removed in v6.0.0. See https://github.com/optuna/optuna/releases/tag/v3.0.0. Use suggest_float(..., log=True) instead.\n",
      "  lg_c = trial.suggest_loguniform('C', 1e-2, 1)\n",
      "C:\\Users\\maham\\AppData\\Local\\Temp\\ipykernel_20880\\901958678.py:3: FutureWarning: suggest_loguniform has been deprecated in v3.0.0. This feature will be removed in v6.0.0. See https://github.com/optuna/optuna/releases/tag/v3.0.0. Use suggest_float(..., log=True) instead.\n",
      "  lg_tol = trial.suggest_loguniform('tol', 1e-6 , 1e-3)\n",
      "[I 2024-05-23 09:47:47,536] Trial 79 finished with value: 0.932467119203185 and parameters: {'C': 0.02094165461921884, 'tol': 4.707062255037397e-06, 'solver': 'liblinear'}. Best is trial 53 with value: 0.9539238260412292.\n",
      "C:\\Users\\maham\\AppData\\Local\\Temp\\ipykernel_20880\\901958678.py:2: FutureWarning: suggest_loguniform has been deprecated in v3.0.0. This feature will be removed in v6.0.0. See https://github.com/optuna/optuna/releases/tag/v3.0.0. Use suggest_float(..., log=True) instead.\n",
      "  lg_c = trial.suggest_loguniform('C', 1e-2, 1)\n",
      "C:\\Users\\maham\\AppData\\Local\\Temp\\ipykernel_20880\\901958678.py:3: FutureWarning: suggest_loguniform has been deprecated in v3.0.0. This feature will be removed in v6.0.0. See https://github.com/optuna/optuna/releases/tag/v3.0.0. Use suggest_float(..., log=True) instead.\n",
      "  lg_tol = trial.suggest_loguniform('tol', 1e-6 , 1e-3)\n",
      "[I 2024-05-23 09:47:48,467] Trial 80 finished with value: 0.9363566766412457 and parameters: {'C': 0.04788211736731992, 'tol': 0.0002249651481260592, 'solver': 'liblinear'}. Best is trial 53 with value: 0.9539238260412292.\n",
      "C:\\Users\\maham\\AppData\\Local\\Temp\\ipykernel_20880\\901958678.py:2: FutureWarning: suggest_loguniform has been deprecated in v3.0.0. This feature will be removed in v6.0.0. See https://github.com/optuna/optuna/releases/tag/v3.0.0. Use suggest_float(..., log=True) instead.\n",
      "  lg_c = trial.suggest_loguniform('C', 1e-2, 1)\n",
      "C:\\Users\\maham\\AppData\\Local\\Temp\\ipykernel_20880\\901958678.py:3: FutureWarning: suggest_loguniform has been deprecated in v3.0.0. This feature will be removed in v6.0.0. See https://github.com/optuna/optuna/releases/tag/v3.0.0. Use suggest_float(..., log=True) instead.\n",
      "  lg_tol = trial.suggest_loguniform('tol', 1e-6 , 1e-3)\n",
      "[I 2024-05-23 09:47:49,580] Trial 81 finished with value: 0.9539238260412292 and parameters: {'C': 0.9932076031354686, 'tol': 2.8350807526316086e-06, 'solver': 'liblinear'}. Best is trial 53 with value: 0.9539238260412292.\n",
      "C:\\Users\\maham\\AppData\\Local\\Temp\\ipykernel_20880\\901958678.py:2: FutureWarning: suggest_loguniform has been deprecated in v3.0.0. This feature will be removed in v6.0.0. See https://github.com/optuna/optuna/releases/tag/v3.0.0. Use suggest_float(..., log=True) instead.\n",
      "  lg_c = trial.suggest_loguniform('C', 1e-2, 1)\n",
      "C:\\Users\\maham\\AppData\\Local\\Temp\\ipykernel_20880\\901958678.py:3: FutureWarning: suggest_loguniform has been deprecated in v3.0.0. This feature will be removed in v6.0.0. See https://github.com/optuna/optuna/releases/tag/v3.0.0. Use suggest_float(..., log=True) instead.\n",
      "  lg_tol = trial.suggest_loguniform('tol', 1e-6 , 1e-3)\n",
      "[I 2024-05-23 09:47:50,757] Trial 82 finished with value: 0.9519576852824936 and parameters: {'C': 0.6667395963122006, 'tol': 1.590743973131455e-06, 'solver': 'liblinear'}. Best is trial 53 with value: 0.9539238260412292.\n",
      "C:\\Users\\maham\\AppData\\Local\\Temp\\ipykernel_20880\\901958678.py:2: FutureWarning: suggest_loguniform has been deprecated in v3.0.0. This feature will be removed in v6.0.0. See https://github.com/optuna/optuna/releases/tag/v3.0.0. Use suggest_float(..., log=True) instead.\n",
      "  lg_c = trial.suggest_loguniform('C', 1e-2, 1)\n",
      "C:\\Users\\maham\\AppData\\Local\\Temp\\ipykernel_20880\\901958678.py:3: FutureWarning: suggest_loguniform has been deprecated in v3.0.0. This feature will be removed in v6.0.0. See https://github.com/optuna/optuna/releases/tag/v3.0.0. Use suggest_float(..., log=True) instead.\n",
      "  lg_tol = trial.suggest_loguniform('tol', 1e-6 , 1e-3)\n",
      "[I 2024-05-23 09:47:51,841] Trial 83 finished with value: 0.9539238260412292 and parameters: {'C': 0.992831450840888, 'tol': 2.4614241895076474e-06, 'solver': 'liblinear'}. Best is trial 53 with value: 0.9539238260412292.\n",
      "C:\\Users\\maham\\AppData\\Local\\Temp\\ipykernel_20880\\901958678.py:2: FutureWarning: suggest_loguniform has been deprecated in v3.0.0. This feature will be removed in v6.0.0. See https://github.com/optuna/optuna/releases/tag/v3.0.0. Use suggest_float(..., log=True) instead.\n",
      "  lg_c = trial.suggest_loguniform('C', 1e-2, 1)\n",
      "C:\\Users\\maham\\AppData\\Local\\Temp\\ipykernel_20880\\901958678.py:3: FutureWarning: suggest_loguniform has been deprecated in v3.0.0. This feature will be removed in v6.0.0. See https://github.com/optuna/optuna/releases/tag/v3.0.0. Use suggest_float(..., log=True) instead.\n",
      "  lg_tol = trial.suggest_loguniform('tol', 1e-6 , 1e-3)\n",
      "[I 2024-05-23 09:47:52,882] Trial 84 finished with value: 0.9525560964422182 and parameters: {'C': 0.7581972022780277, 'tol': 4.061556805753559e-06, 'solver': 'liblinear'}. Best is trial 53 with value: 0.9539238260412292.\n",
      "C:\\Users\\maham\\AppData\\Local\\Temp\\ipykernel_20880\\901958678.py:2: FutureWarning: suggest_loguniform has been deprecated in v3.0.0. This feature will be removed in v6.0.0. See https://github.com/optuna/optuna/releases/tag/v3.0.0. Use suggest_float(..., log=True) instead.\n",
      "  lg_c = trial.suggest_loguniform('C', 1e-2, 1)\n",
      "C:\\Users\\maham\\AppData\\Local\\Temp\\ipykernel_20880\\901958678.py:3: FutureWarning: suggest_loguniform has been deprecated in v3.0.0. This feature will be removed in v6.0.0. See https://github.com/optuna/optuna/releases/tag/v3.0.0. Use suggest_float(..., log=True) instead.\n",
      "  lg_tol = trial.suggest_loguniform('tol', 1e-6 , 1e-3)\n",
      "[I 2024-05-23 09:47:53,957] Trial 85 finished with value: 0.9531117451558156 and parameters: {'C': 0.895276851173149, 'tol': 2.399175319832394e-06, 'solver': 'liblinear'}. Best is trial 53 with value: 0.9539238260412292.\n",
      "C:\\Users\\maham\\AppData\\Local\\Temp\\ipykernel_20880\\901958678.py:2: FutureWarning: suggest_loguniform has been deprecated in v3.0.0. This feature will be removed in v6.0.0. See https://github.com/optuna/optuna/releases/tag/v3.0.0. Use suggest_float(..., log=True) instead.\n",
      "  lg_c = trial.suggest_loguniform('C', 1e-2, 1)\n",
      "C:\\Users\\maham\\AppData\\Local\\Temp\\ipykernel_20880\\901958678.py:3: FutureWarning: suggest_loguniform has been deprecated in v3.0.0. This feature will be removed in v6.0.0. See https://github.com/optuna/optuna/releases/tag/v3.0.0. Use suggest_float(..., log=True) instead.\n",
      "  lg_tol = trial.suggest_loguniform('tol', 1e-6 , 1e-3)\n",
      "[I 2024-05-23 09:47:55,190] Trial 86 finished with value: 0.9539238260412292 and parameters: {'C': 0.9969768370949738, 'tol': 1.1942424010231283e-06, 'solver': 'liblinear'}. Best is trial 53 with value: 0.9539238260412292.\n",
      "C:\\Users\\maham\\AppData\\Local\\Temp\\ipykernel_20880\\901958678.py:2: FutureWarning: suggest_loguniform has been deprecated in v3.0.0. This feature will be removed in v6.0.0. See https://github.com/optuna/optuna/releases/tag/v3.0.0. Use suggest_float(..., log=True) instead.\n",
      "  lg_c = trial.suggest_loguniform('C', 1e-2, 1)\n",
      "C:\\Users\\maham\\AppData\\Local\\Temp\\ipykernel_20880\\901958678.py:3: FutureWarning: suggest_loguniform has been deprecated in v3.0.0. This feature will be removed in v6.0.0. See https://github.com/optuna/optuna/releases/tag/v3.0.0. Use suggest_float(..., log=True) instead.\n",
      "  lg_tol = trial.suggest_loguniform('tol', 1e-6 , 1e-3)\n",
      "[I 2024-05-23 09:47:56,679] Trial 87 finished with value: 0.9507608958488012 and parameters: {'C': 0.5532179884334041, 'tol': 1.1858852768700073e-06, 'solver': 'lbfgs'}. Best is trial 53 with value: 0.9539238260412292.\n",
      "C:\\Users\\maham\\AppData\\Local\\Temp\\ipykernel_20880\\901958678.py:2: FutureWarning: suggest_loguniform has been deprecated in v3.0.0. This feature will be removed in v6.0.0. See https://github.com/optuna/optuna/releases/tag/v3.0.0. Use suggest_float(..., log=True) instead.\n",
      "  lg_c = trial.suggest_loguniform('C', 1e-2, 1)\n",
      "C:\\Users\\maham\\AppData\\Local\\Temp\\ipykernel_20880\\901958678.py:3: FutureWarning: suggest_loguniform has been deprecated in v3.0.0. This feature will be removed in v6.0.0. See https://github.com/optuna/optuna/releases/tag/v3.0.0. Use suggest_float(..., log=True) instead.\n",
      "  lg_tol = trial.suggest_loguniform('tol', 1e-6 , 1e-3)\n",
      "[I 2024-05-23 09:47:57,758] Trial 88 finished with value: 0.9500770036444982 and parameters: {'C': 0.4824317485921794, 'tol': 1.0403669937598487e-06, 'solver': 'liblinear'}. Best is trial 53 with value: 0.9539238260412292.\n",
      "C:\\Users\\maham\\AppData\\Local\\Temp\\ipykernel_20880\\901958678.py:2: FutureWarning: suggest_loguniform has been deprecated in v3.0.0. This feature will be removed in v6.0.0. See https://github.com/optuna/optuna/releases/tag/v3.0.0. Use suggest_float(..., log=True) instead.\n",
      "  lg_c = trial.suggest_loguniform('C', 1e-2, 1)\n",
      "C:\\Users\\maham\\AppData\\Local\\Temp\\ipykernel_20880\\901958678.py:3: FutureWarning: suggest_loguniform has been deprecated in v3.0.0. This feature will be removed in v6.0.0. See https://github.com/optuna/optuna/releases/tag/v3.0.0. Use suggest_float(..., log=True) instead.\n",
      "  lg_tol = trial.suggest_loguniform('tol', 1e-6 , 1e-3)\n",
      "[I 2024-05-23 09:47:58,699] Trial 89 finished with value: 0.9396051152830495 and parameters: {'C': 0.08290590701808746, 'tol': 1.6176882899066556e-06, 'solver': 'liblinear'}. Best is trial 53 with value: 0.9539238260412292.\n",
      "C:\\Users\\maham\\AppData\\Local\\Temp\\ipykernel_20880\\901958678.py:2: FutureWarning: suggest_loguniform has been deprecated in v3.0.0. This feature will be removed in v6.0.0. See https://github.com/optuna/optuna/releases/tag/v3.0.0. Use suggest_float(..., log=True) instead.\n",
      "  lg_c = trial.suggest_loguniform('C', 1e-2, 1)\n",
      "C:\\Users\\maham\\AppData\\Local\\Temp\\ipykernel_20880\\901958678.py:3: FutureWarning: suggest_loguniform has been deprecated in v3.0.0. This feature will be removed in v6.0.0. See https://github.com/optuna/optuna/releases/tag/v3.0.0. Use suggest_float(..., log=True) instead.\n",
      "  lg_tol = trial.suggest_loguniform('tol', 1e-6 , 1e-3)\n",
      "[I 2024-05-23 09:47:59,958] Trial 90 finished with value: 0.9525560909612588 and parameters: {'C': 0.771564582341184, 'tol': 1.8876606745574775e-06, 'solver': 'liblinear'}. Best is trial 53 with value: 0.9539238260412292.\n",
      "C:\\Users\\maham\\AppData\\Local\\Temp\\ipykernel_20880\\901958678.py:2: FutureWarning: suggest_loguniform has been deprecated in v3.0.0. This feature will be removed in v6.0.0. See https://github.com/optuna/optuna/releases/tag/v3.0.0. Use suggest_float(..., log=True) instead.\n",
      "  lg_c = trial.suggest_loguniform('C', 1e-2, 1)\n",
      "C:\\Users\\maham\\AppData\\Local\\Temp\\ipykernel_20880\\901958678.py:3: FutureWarning: suggest_loguniform has been deprecated in v3.0.0. This feature will be removed in v6.0.0. See https://github.com/optuna/optuna/releases/tag/v3.0.0. Use suggest_float(..., log=True) instead.\n",
      "  lg_tol = trial.suggest_loguniform('tol', 1e-6 , 1e-3)\n",
      "[I 2024-05-23 09:48:01,076] Trial 91 finished with value: 0.9531117451558156 and parameters: {'C': 0.8960319689764221, 'tol': 2.181920781210111e-06, 'solver': 'liblinear'}. Best is trial 53 with value: 0.9539238260412292.\n",
      "C:\\Users\\maham\\AppData\\Local\\Temp\\ipykernel_20880\\901958678.py:2: FutureWarning: suggest_loguniform has been deprecated in v3.0.0. This feature will be removed in v6.0.0. See https://github.com/optuna/optuna/releases/tag/v3.0.0. Use suggest_float(..., log=True) instead.\n",
      "  lg_c = trial.suggest_loguniform('C', 1e-2, 1)\n",
      "C:\\Users\\maham\\AppData\\Local\\Temp\\ipykernel_20880\\901958678.py:3: FutureWarning: suggest_loguniform has been deprecated in v3.0.0. This feature will be removed in v6.0.0. See https://github.com/optuna/optuna/releases/tag/v3.0.0. Use suggest_float(..., log=True) instead.\n",
      "  lg_tol = trial.suggest_loguniform('tol', 1e-6 , 1e-3)\n",
      "[I 2024-05-23 09:48:02,317] Trial 92 finished with value: 0.9539238260412292 and parameters: {'C': 0.9972210583309422, 'tol': 1.3578806652492615e-06, 'solver': 'liblinear'}. Best is trial 53 with value: 0.9539238260412292.\n",
      "C:\\Users\\maham\\AppData\\Local\\Temp\\ipykernel_20880\\901958678.py:2: FutureWarning: suggest_loguniform has been deprecated in v3.0.0. This feature will be removed in v6.0.0. See https://github.com/optuna/optuna/releases/tag/v3.0.0. Use suggest_float(..., log=True) instead.\n",
      "  lg_c = trial.suggest_loguniform('C', 1e-2, 1)\n",
      "C:\\Users\\maham\\AppData\\Local\\Temp\\ipykernel_20880\\901958678.py:3: FutureWarning: suggest_loguniform has been deprecated in v3.0.0. This feature will be removed in v6.0.0. See https://github.com/optuna/optuna/releases/tag/v3.0.0. Use suggest_float(..., log=True) instead.\n",
      "  lg_tol = trial.suggest_loguniform('tol', 1e-6 , 1e-3)\n",
      "[I 2024-05-23 09:48:03,467] Trial 93 finished with value: 0.951743966228169 and parameters: {'C': 0.6516062421871467, 'tol': 1.326820160962216e-06, 'solver': 'liblinear'}. Best is trial 53 with value: 0.9539238260412292.\n",
      "C:\\Users\\maham\\AppData\\Local\\Temp\\ipykernel_20880\\901958678.py:2: FutureWarning: suggest_loguniform has been deprecated in v3.0.0. This feature will be removed in v6.0.0. See https://github.com/optuna/optuna/releases/tag/v3.0.0. Use suggest_float(..., log=True) instead.\n",
      "  lg_c = trial.suggest_loguniform('C', 1e-2, 1)\n",
      "C:\\Users\\maham\\AppData\\Local\\Temp\\ipykernel_20880\\901958678.py:3: FutureWarning: suggest_loguniform has been deprecated in v3.0.0. This feature will be removed in v6.0.0. See https://github.com/optuna/optuna/releases/tag/v3.0.0. Use suggest_float(..., log=True) instead.\n",
      "  lg_tol = trial.suggest_loguniform('tol', 1e-6 , 1e-3)\n",
      "[I 2024-05-23 09:48:04,632] Trial 94 finished with value: 0.9531117451558156 and parameters: {'C': 0.8921004866629659, 'tol': 1.41784011193474e-06, 'solver': 'liblinear'}. Best is trial 53 with value: 0.9539238260412292.\n",
      "C:\\Users\\maham\\AppData\\Local\\Temp\\ipykernel_20880\\901958678.py:2: FutureWarning: suggest_loguniform has been deprecated in v3.0.0. This feature will be removed in v6.0.0. See https://github.com/optuna/optuna/releases/tag/v3.0.0. Use suggest_float(..., log=True) instead.\n",
      "  lg_c = trial.suggest_loguniform('C', 1e-2, 1)\n",
      "C:\\Users\\maham\\AppData\\Local\\Temp\\ipykernel_20880\\901958678.py:3: FutureWarning: suggest_loguniform has been deprecated in v3.0.0. This feature will be removed in v6.0.0. See https://github.com/optuna/optuna/releases/tag/v3.0.0. Use suggest_float(..., log=True) instead.\n",
      "  lg_tol = trial.suggest_loguniform('tol', 1e-6 , 1e-3)\n",
      "[I 2024-05-23 09:48:05,840] Trial 95 finished with value: 0.9525988314835478 and parameters: {'C': 0.7876103018894641, 'tol': 1.1297618195083666e-06, 'solver': 'liblinear'}. Best is trial 53 with value: 0.9539238260412292.\n",
      "C:\\Users\\maham\\AppData\\Local\\Temp\\ipykernel_20880\\901958678.py:2: FutureWarning: suggest_loguniform has been deprecated in v3.0.0. This feature will be removed in v6.0.0. See https://github.com/optuna/optuna/releases/tag/v3.0.0. Use suggest_float(..., log=True) instead.\n",
      "  lg_c = trial.suggest_loguniform('C', 1e-2, 1)\n",
      "C:\\Users\\maham\\AppData\\Local\\Temp\\ipykernel_20880\\901958678.py:3: FutureWarning: suggest_loguniform has been deprecated in v3.0.0. This feature will be removed in v6.0.0. See https://github.com/optuna/optuna/releases/tag/v3.0.0. Use suggest_float(..., log=True) instead.\n",
      "  lg_tol = trial.suggest_loguniform('tol', 1e-6 , 1e-3)\n",
      "[I 2024-05-23 09:48:06,914] Trial 96 finished with value: 0.9522568963433153 and parameters: {'C': 0.7086737809445518, 'tol': 2.606270485369175e-06, 'solver': 'liblinear'}. Best is trial 53 with value: 0.9539238260412292.\n",
      "C:\\Users\\maham\\AppData\\Local\\Temp\\ipykernel_20880\\901958678.py:2: FutureWarning: suggest_loguniform has been deprecated in v3.0.0. This feature will be removed in v6.0.0. See https://github.com/optuna/optuna/releases/tag/v3.0.0. Use suggest_float(..., log=True) instead.\n",
      "  lg_c = trial.suggest_loguniform('C', 1e-2, 1)\n",
      "C:\\Users\\maham\\AppData\\Local\\Temp\\ipykernel_20880\\901958678.py:3: FutureWarning: suggest_loguniform has been deprecated in v3.0.0. This feature will be removed in v6.0.0. See https://github.com/optuna/optuna/releases/tag/v3.0.0. Use suggest_float(..., log=True) instead.\n",
      "  lg_tol = trial.suggest_loguniform('tol', 1e-6 , 1e-3)\n",
      "[I 2024-05-23 09:48:07,999] Trial 97 finished with value: 0.9526415774867966 and parameters: {'C': 0.8097944760881783, 'tol': 2.0513757033991846e-06, 'solver': 'liblinear'}. Best is trial 53 with value: 0.9539238260412292.\n",
      "C:\\Users\\maham\\AppData\\Local\\Temp\\ipykernel_20880\\901958678.py:2: FutureWarning: suggest_loguniform has been deprecated in v3.0.0. This feature will be removed in v6.0.0. See https://github.com/optuna/optuna/releases/tag/v3.0.0. Use suggest_float(..., log=True) instead.\n",
      "  lg_c = trial.suggest_loguniform('C', 1e-2, 1)\n",
      "C:\\Users\\maham\\AppData\\Local\\Temp\\ipykernel_20880\\901958678.py:3: FutureWarning: suggest_loguniform has been deprecated in v3.0.0. This feature will be removed in v6.0.0. See https://github.com/optuna/optuna/releases/tag/v3.0.0. Use suggest_float(..., log=True) instead.\n",
      "  lg_tol = trial.suggest_loguniform('tol', 1e-6 , 1e-3)\n",
      "[I 2024-05-23 09:48:09,047] Trial 98 finished with value: 0.9539238260412292 and parameters: {'C': 0.9956454062558523, 'tol': 1.7197945839270928e-06, 'solver': 'liblinear'}. Best is trial 53 with value: 0.9539238260412292.\n",
      "C:\\Users\\maham\\AppData\\Local\\Temp\\ipykernel_20880\\901958678.py:2: FutureWarning: suggest_loguniform has been deprecated in v3.0.0. This feature will be removed in v6.0.0. See https://github.com/optuna/optuna/releases/tag/v3.0.0. Use suggest_float(..., log=True) instead.\n",
      "  lg_c = trial.suggest_loguniform('C', 1e-2, 1)\n",
      "C:\\Users\\maham\\AppData\\Local\\Temp\\ipykernel_20880\\901958678.py:3: FutureWarning: suggest_loguniform has been deprecated in v3.0.0. This feature will be removed in v6.0.0. See https://github.com/optuna/optuna/releases/tag/v3.0.0. Use suggest_float(..., log=True) instead.\n",
      "  lg_tol = trial.suggest_loguniform('tol', 1e-6 , 1e-3)\n",
      "[I 2024-05-23 09:48:10,256] Trial 99 finished with value: 0.9531117451558156 and parameters: {'C': 0.9045661683980075, 'tol': 1.807272676216785e-06, 'solver': 'liblinear'}. Best is trial 53 with value: 0.9539238260412292.\n"
     ]
    },
    {
     "name": "stdout",
     "output_type": "stream",
     "text": [
      "Best hyperparameters:  {'C': 0.9941607778943732, 'tol': 1.2468661945980451e-05, 'solver': 'liblinear'}\n",
      "Best performance:  0.9539238260412292\n"
     ]
    }
   ],
   "source": [
    "def objective(trial):\n",
    "    lg_c = trial.suggest_loguniform('C', 1e-2, 1)\n",
    "    lg_tol = trial.suggest_loguniform('tol', 1e-6 , 1e-3)\n",
    "    lg_solver = trial.suggest_categorical('solver' , ['newton-cg', 'lbfgs','liblinear'])\n",
    "\n",
    "    lg = LogisticRegression(C=lg_c, tol=lg_tol, solver=lg_solver)\n",
    "\n",
    "    x1 = CustomTransformer().fit_transform(x_train)\n",
    "    x2 = CountVectorizer().fit_transform(x1)\n",
    "\n",
    "    return cross_val_score(lg, x2, y_train, n_jobs=-1, cv=3).mean()\n",
    "\n",
    "\n",
    "study = optuna.create_study(direction='maximize')\n",
    "study.optimize(objective, n_trials=100)\n",
    "\n",
    "print('Best hyperparameters: ', study.best_params)\n",
    "print('Best performance: ', study.best_value)"
   ]
  },
  {
   "cell_type": "markdown",
   "metadata": {},
   "source": [
    "### Conclusion and final results\n"
   ]
  },
  {
   "cell_type": "code",
   "execution_count": 32,
   "metadata": {},
   "outputs": [
    {
     "data": {
      "text/plain": [
       "0.8031022489902082"
      ]
     },
     "execution_count": 32,
     "metadata": {},
     "output_type": "execute_result"
    }
   ],
   "source": [
    "pipeline2 = Pipeline(steps=[\n",
    "    ('preprocessing', CustomTransformer()),\n",
    "    ('Vectorizing', CountVectorizer()),\n",
    "    ('model', LogisticRegression(C=0.9941607778943732, tol=1.2468661945980451e-05, solver='liblinear')),\n",
    "])\n",
    "\n",
    "pipeline2.fit(x_train, y_train)\n",
    "predictions = pipeline2.predict(x_test)\n",
    "\n",
    "f1_score(y_test, predictions, average='macro')"
   ]
  },
  {
   "cell_type": "markdown",
   "metadata": {},
   "source": [
    "- Using CountVectorizer(80) is more better than TF-IDF Vectorizer(60)\n",
    "- Using N-Grams = 1 was with the best result than using n_grams=2, 3, 4 or 5. AS N_Grams increase, f1_score decreases"
   ]
  },
  {
   "cell_type": "markdown",
   "metadata": {
    "id": "Nw1GVnYLorxi"
   },
   "source": [
    "#### Done!"
   ]
  }
 ],
 "metadata": {
  "colab": {
   "provenance": []
  },
  "kernelspec": {
   "display_name": "Python 3 (ipykernel)",
   "language": "python",
   "name": "python3"
  },
  "language_info": {
   "codemirror_mode": {
    "name": "ipython",
    "version": 3
   },
   "file_extension": ".py",
   "mimetype": "text/x-python",
   "name": "python",
   "nbconvert_exporter": "python",
   "pygments_lexer": "ipython3",
   "version": "3.12.0"
  }
 },
 "nbformat": 4,
 "nbformat_minor": 4
}
